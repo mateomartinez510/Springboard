{
 "cells": [
  {
   "cell_type": "markdown",
   "metadata": {},
   "source": [
    "### Household Sounds Capstone\n",
    "##  1. Labelling Classes and Initial EDA on Audio Tags"
   ]
  },
  {
   "cell_type": "markdown",
   "metadata": {},
   "source": [
    "- Dataset: [FreeSoundDataset50K](https://zenodo.org/record/4060432#.X5ySHHhKgWo)\n",
    "\n",
    "- In this notebook we will perform initial EDA on the Audio Tags to inform how  we labelled our audio classes, which become the target feature for our predicitive models. \n",
    "\n",
    "- After the Tag EDA, we will feature engineer our Class labels, binning the 50,000 audio files into 8 distinct classes based on their 20,000 unique audio Tags."
   ]
  },
  {
   "cell_type": "code",
   "execution_count": 1,
   "metadata": {},
   "outputs": [],
   "source": [
    "import pandas as pd\n",
    "import matplotlib.pyplot as plt\n",
    "import seaborn as sns"
   ]
  },
  {
   "cell_type": "code",
   "execution_count": 2,
   "metadata": {},
   "outputs": [],
   "source": [
    "dev_info = pd.read_json('data/FSD50K.metadata/dev_clips_info_FSD50K.json').T"
   ]
  },
  {
   "cell_type": "code",
   "execution_count": 3,
   "metadata": {},
   "outputs": [],
   "source": [
    "eval_info = pd.read_json('data/FSD50K.metadata/eval_clips_info_FSD50K.json').T"
   ]
  },
  {
   "cell_type": "code",
   "execution_count": 4,
   "metadata": {},
   "outputs": [],
   "source": [
    "dev_info['track_num'] = dev_info.index\n",
    "dev_info['wav_name'] = dev_info['track_num'].apply(lambda x: str(x) + '.wav')\n",
    "dev_info['png_name'] = dev_info['track_num'].apply(lambda x: str(x) + '.png')\n",
    "dev_info = dev_info.sort_index()"
   ]
  },
  {
   "cell_type": "code",
   "execution_count": 5,
   "metadata": {},
   "outputs": [
    {
     "name": "stdout",
     "output_type": "stream",
     "text": [
      "(40966, 8)\n"
     ]
    },
    {
     "data": {
      "text/html": [
       "<div>\n",
       "<style scoped>\n",
       "    .dataframe tbody tr th:only-of-type {\n",
       "        vertical-align: middle;\n",
       "    }\n",
       "\n",
       "    .dataframe tbody tr th {\n",
       "        vertical-align: top;\n",
       "    }\n",
       "\n",
       "    .dataframe thead th {\n",
       "        text-align: right;\n",
       "    }\n",
       "</style>\n",
       "<table border=\"1\" class=\"dataframe\">\n",
       "  <thead>\n",
       "    <tr style=\"text-align: right;\">\n",
       "      <th></th>\n",
       "      <th>title</th>\n",
       "      <th>description</th>\n",
       "      <th>tags</th>\n",
       "      <th>license</th>\n",
       "      <th>uploader</th>\n",
       "      <th>track_num</th>\n",
       "      <th>wav_name</th>\n",
       "      <th>png_name</th>\n",
       "    </tr>\n",
       "  </thead>\n",
       "  <tbody>\n",
       "    <tr>\n",
       "      <th>63</th>\n",
       "      <td>RalfHutterWorking.wav</td>\n",
       "      <td>Ralf Hutter from Kraftwerk saying \"Working on ...</td>\n",
       "      <td>[male, voice]</td>\n",
       "      <td>http://creativecommons.org/licenses/by/3.0/</td>\n",
       "      <td>fectoper</td>\n",
       "      <td>63</td>\n",
       "      <td>63.wav</td>\n",
       "      <td>63.png</td>\n",
       "    </tr>\n",
       "    <tr>\n",
       "      <th>136</th>\n",
       "      <td>keyboard-rhymtic.wav</td>\n",
       "      <td>Noise of an average logitech keyboard. Pretty ...</td>\n",
       "      <td>[keyboard, rhythmic, tap, type]</td>\n",
       "      <td>http://creativecommons.org/licenses/by/3.0/</td>\n",
       "      <td>Anton</td>\n",
       "      <td>136</td>\n",
       "      <td>136.wav</td>\n",
       "      <td>136.png</td>\n",
       "    </tr>\n",
       "    <tr>\n",
       "      <th>137</th>\n",
       "      <td>keyboard-typing.wav</td>\n",
       "      <td>Noise of an average logitech keyboard. Pretty ...</td>\n",
       "      <td>[computer, environmental-sounds-research, key,...</td>\n",
       "      <td>http://creativecommons.org/licenses/by/3.0/</td>\n",
       "      <td>Anton</td>\n",
       "      <td>137</td>\n",
       "      <td>137.wav</td>\n",
       "      <td>137.png</td>\n",
       "    </tr>\n",
       "    <tr>\n",
       "      <th>221</th>\n",
       "      <td>bell.wav</td>\n",
       "      <td>simple *ting* sound</td>\n",
       "      <td>[bell]</td>\n",
       "      <td>http://creativecommons.org/publicdomain/zero/1.0/</td>\n",
       "      <td>Erratic</td>\n",
       "      <td>221</td>\n",
       "      <td>221.wav</td>\n",
       "      <td>221.png</td>\n",
       "    </tr>\n",
       "    <tr>\n",
       "      <th>236</th>\n",
       "      <td>BUSSES.aiff</td>\n",
       "      <td>Departing busses\\r\\n at Utrecht Central Railwa...</td>\n",
       "      <td>[bus, depart, drive, station]</td>\n",
       "      <td>http://creativecommons.org/licenses/by-nc/3.0/</td>\n",
       "      <td>hanstimm</td>\n",
       "      <td>236</td>\n",
       "      <td>236.wav</td>\n",
       "      <td>236.png</td>\n",
       "    </tr>\n",
       "  </tbody>\n",
       "</table>\n",
       "</div>"
      ],
      "text/plain": [
       "                     title                                        description  \\\n",
       "63   RalfHutterWorking.wav  Ralf Hutter from Kraftwerk saying \"Working on ...   \n",
       "136   keyboard-rhymtic.wav  Noise of an average logitech keyboard. Pretty ...   \n",
       "137    keyboard-typing.wav  Noise of an average logitech keyboard. Pretty ...   \n",
       "221               bell.wav                                simple *ting* sound   \n",
       "236            BUSSES.aiff  Departing busses\\r\\n at Utrecht Central Railwa...   \n",
       "\n",
       "                                                  tags  \\\n",
       "63                                       [male, voice]   \n",
       "136                    [keyboard, rhythmic, tap, type]   \n",
       "137  [computer, environmental-sounds-research, key,...   \n",
       "221                                             [bell]   \n",
       "236                      [bus, depart, drive, station]   \n",
       "\n",
       "                                               license  uploader  track_num  \\\n",
       "63         http://creativecommons.org/licenses/by/3.0/  fectoper         63   \n",
       "136        http://creativecommons.org/licenses/by/3.0/     Anton        136   \n",
       "137        http://creativecommons.org/licenses/by/3.0/     Anton        137   \n",
       "221  http://creativecommons.org/publicdomain/zero/1.0/   Erratic        221   \n",
       "236     http://creativecommons.org/licenses/by-nc/3.0/  hanstimm        236   \n",
       "\n",
       "    wav_name png_name  \n",
       "63    63.wav   63.png  \n",
       "136  136.wav  136.png  \n",
       "137  137.wav  137.png  \n",
       "221  221.wav  221.png  \n",
       "236  236.wav  236.png  "
      ]
     },
     "execution_count": 5,
     "metadata": {},
     "output_type": "execute_result"
    }
   ],
   "source": [
    "print(dev_info.shape)\n",
    "dev_info.head()"
   ]
  },
  {
   "cell_type": "code",
   "execution_count": 6,
   "metadata": {},
   "outputs": [
    {
     "name": "stdout",
     "output_type": "stream",
     "text": [
      "(10231, 5)\n"
     ]
    },
    {
     "data": {
      "text/html": [
       "<div>\n",
       "<style scoped>\n",
       "    .dataframe tbody tr th:only-of-type {\n",
       "        vertical-align: middle;\n",
       "    }\n",
       "\n",
       "    .dataframe tbody tr th {\n",
       "        vertical-align: top;\n",
       "    }\n",
       "\n",
       "    .dataframe thead th {\n",
       "        text-align: right;\n",
       "    }\n",
       "</style>\n",
       "<table border=\"1\" class=\"dataframe\">\n",
       "  <thead>\n",
       "    <tr style=\"text-align: right;\">\n",
       "      <th></th>\n",
       "      <th>title</th>\n",
       "      <th>description</th>\n",
       "      <th>tags</th>\n",
       "      <th>license</th>\n",
       "      <th>uploader</th>\n",
       "    </tr>\n",
       "  </thead>\n",
       "  <tbody>\n",
       "    <tr>\n",
       "      <th>391277</th>\n",
       "      <td>Spring Birds Forest 04 Amp.wav</td>\n",
       "      <td>An other birds singings recorded on the mornin...</td>\n",
       "      <td>[birdsong, bird, forest, environment, morning,...</td>\n",
       "      <td>http://creativecommons.org/publicdomain/zero/1.0/</td>\n",
       "      <td>ANARKYA</td>\n",
       "    </tr>\n",
       "    <tr>\n",
       "      <th>392115</th>\n",
       "      <td>Snap of fingers</td>\n",
       "      <td>a snap of one's fingers</td>\n",
       "      <td>[fingers, finger, 5maudio17, uam, fingersnap]</td>\n",
       "      <td>http://creativecommons.org/publicdomain/zero/1.0/</td>\n",
       "      <td>edton</td>\n",
       "    </tr>\n",
       "    <tr>\n",
       "      <th>411438</th>\n",
       "      <td>Pouring Water</td>\n",
       "      <td>A sound of Hot water pouring into a cup</td>\n",
       "      <td>[fill, can, beverage, glass, water, pour, drin...</td>\n",
       "      <td>http://creativecommons.org/publicdomain/zero/1.0/</td>\n",
       "      <td>edsward</td>\n",
       "    </tr>\n",
       "    <tr>\n",
       "      <th>395238</th>\n",
       "      <td>Tearing papers.wav</td>\n",
       "      <td>Tearing papers with reverb.\\r\\n\\r\\nI used a Sa...</td>\n",
       "      <td>[ripping, papier, paper, scheuren, rip, tearing]</td>\n",
       "      <td>http://creativecommons.org/licenses/by/3.0/</td>\n",
       "      <td>ellenmentor</td>\n",
       "    </tr>\n",
       "    <tr>\n",
       "      <th>425681</th>\n",
       "      <td>sigh.mp3</td>\n",
       "      <td>i recorded me sighing.</td>\n",
       "      <td>[sad, happy, sigh]</td>\n",
       "      <td>http://creativecommons.org/publicdomain/zero/1.0/</td>\n",
       "      <td>Camo1018</td>\n",
       "    </tr>\n",
       "  </tbody>\n",
       "</table>\n",
       "</div>"
      ],
      "text/plain": [
       "                                 title  \\\n",
       "391277  Spring Birds Forest 04 Amp.wav   \n",
       "392115                 Snap of fingers   \n",
       "411438                   Pouring Water   \n",
       "395238              Tearing papers.wav   \n",
       "425681                        sigh.mp3   \n",
       "\n",
       "                                              description  \\\n",
       "391277  An other birds singings recorded on the mornin...   \n",
       "392115                            a snap of one's fingers   \n",
       "411438            A sound of Hot water pouring into a cup   \n",
       "395238  Tearing papers with reverb.\\r\\n\\r\\nI used a Sa...   \n",
       "425681                             i recorded me sighing.   \n",
       "\n",
       "                                                     tags  \\\n",
       "391277  [birdsong, bird, forest, environment, morning,...   \n",
       "392115      [fingers, finger, 5maudio17, uam, fingersnap]   \n",
       "411438  [fill, can, beverage, glass, water, pour, drin...   \n",
       "395238   [ripping, papier, paper, scheuren, rip, tearing]   \n",
       "425681                                 [sad, happy, sigh]   \n",
       "\n",
       "                                                  license     uploader  \n",
       "391277  http://creativecommons.org/publicdomain/zero/1.0/      ANARKYA  \n",
       "392115  http://creativecommons.org/publicdomain/zero/1.0/        edton  \n",
       "411438  http://creativecommons.org/publicdomain/zero/1.0/      edsward  \n",
       "395238        http://creativecommons.org/licenses/by/3.0/  ellenmentor  \n",
       "425681  http://creativecommons.org/publicdomain/zero/1.0/     Camo1018  "
      ]
     },
     "execution_count": 6,
     "metadata": {},
     "output_type": "execute_result"
    }
   ],
   "source": [
    "print(eval_info.shape)\n",
    "eval_info.head()"
   ]
  },
  {
   "cell_type": "markdown",
   "metadata": {},
   "source": [
    "## Feature Engineering Class Labels Audio Files \n",
    "- The EDA for the Audio Tags is below this feature engineering section as it is informative to iteratively analyze the Tags of the audio files have not been binned into a Class groups. \n",
    "\n",
    "- The EDA below are the results after the final iteration of labelling our audio classes."
   ]
  },
  {
   "cell_type": "markdown",
   "metadata": {},
   "source": [
    "### Function Creating 15 Class Labels (archived)"
   ]
  },
  {
   "cell_type": "code",
   "execution_count": 7,
   "metadata": {},
   "outputs": [],
   "source": [
    "human_words = ['human', 'man', 'male', 'voice','woman','female',\n",
    "                'talk', 'talking', 'announcement', 'announcer',\n",
    "              'conversations', 'people', 'chant', 'whisper',\n",
    "              'speech','yelling', 'yell']\n",
    "\n",
    "comedy_words = ['comedy', 'laughing', 'laughs', 'laugh']\n",
    "\n",
    "foley_words = ['keyboard', 'keys', 'coin', 'money', 'scratch', 'coins', \n",
    "               'crackle', 'eating', 'click', 'zipper', 'tools', 'foley', 'breath', 'cough',\n",
    "              'creaking', 'squeak', 'skateboard', 'bicycle', 'bike', 'crunch',\n",
    "              'crinkle', 'thump', 'noise', 'plastic', 'sfx', 'typing', 'zip', 'knife',\n",
    "              'tape', 'breathe', 'brush', 'toothbrush', 'velcro', 'cup', 'scissors',\n",
    "               'swish', 'hands', 'flame', 'shuffling', 'eat', 'sigh', 'pen']\n",
    "\n",
    "baby_words = ['crying','baby', 'scream', 'screaming', 'children','child','kids', 'boy', 'girl']\n",
    "\n",
    "animal_words = ['dog', 'dogs', 'cat', 'bark', 'purr', 'frogs','frog', 'cricket', \n",
    "                'crickets', 'birds', 'bird', 'warbler', 'insects','birdsong',\n",
    "               'bee', 'insect','pigs', 'pig','animal-sounds','grasshopper','bugs',\n",
    "               'ducks', 'rooster', 'owl', 'monkey', 'animals', 'cattle',\n",
    "               'hen', 'hens', 'fart','flatulence', 'animal', 'belch', 'burp',\n",
    "                'neighing','snorting','whinny', 'whinnie','snort', 'breathing',\n",
    "               'yawn','farm', 'sneeze', 'snore', 'growl', 'throat','canary', 'geese']\n",
    "\n",
    "music_words = ['instrument', 'guitar', 'piano', 'bell', 'shaker', \n",
    "               'sax', 'clarinet', 'riff', 'single-note', 'chord',\n",
    "              'electric-piano', 'bass', 'cello', 'organ', 'violin', 'viola', \n",
    "               'double-bass', 'classical-guitar', 'chordophone',\n",
    "               'transverse-flute','bassoon', 'flute', 'trumpet', 'harmonica',\n",
    "              'music', 'brass', 'saxophone', 'orchestra', 'drumloop', 'chords',\n",
    "              'bells', 'electro', 'groovy', 'world-music', 'clink', 'horn',\n",
    "              'harp', 'theremin', 'xylophone', 'ukulele', 'vibraphone',\n",
    "              'metalic', 'singing', 'vocals', 'gong', 'doorbell', 'ringtone',\n",
    "              'marimba', 'singing-bowl', 'windchime']\n",
    "\n",
    "percussion_words = ['drums', 'drum', 'bass-drum', 'percussion', \n",
    "                    'cymbal' ,'hi-hat', 'hihat','tambourine''xylophone', 'didgeridoo', 'snare',\n",
    "                   'tambourine', 'fingersnap', 'tabla', 'percussive', 'clapping', 'rattle',\n",
    "                   'bassdrum']\n",
    "\n",
    "nature_words = ['water', 'rain', 'wind', 'ocean', 'waterfall', 'peeing',\n",
    "                'whoosh', 'nature', 'faucet', 'boiling', 'dripping', 'flush', 'liquid',\n",
    "               'river', 'flushing']\n",
    "\n",
    "machinery_words = ['car', 'engine', 'bus', 'driving', 'drive', 'mixer',\n",
    "                   'machine', 'drill','blender', 'blendering', 'trains','train', 'metro',\n",
    "                  'helicopter', 'motorcycle', 'airplane', 'mechanical', 'vacuum', 'truck',\n",
    "                  'cars', 'subway', 'motor', 'electric']\n",
    "\n",
    "ambient_words = ['environmental-sounds-research','applause', 'clap', 'crowd', 'traffic',\n",
    "                'air', 'sea', 'fan', 'london', 'aviation','aircraft', 'city', 'ferry',\n",
    "                'ship']\n",
    "\n",
    "door_words = ['door', 'opening', 'closing', 'drawer', 'shut', 'close', 'gate', 'doorslam',\n",
    "             'breaking', 'tear']\n",
    "\n",
    "fire_words = ['lighter','fire', 'spark', 'explosion', 'glass', 'thunder', \n",
    "              'lightning', 'gun', 'crack','burning', 'bang', 'banging', 'hit',\n",
    "             'beep', 'beeping', 'kettle', 'alarm', 'phone', 'fireworks', 'breaking-glass',\n",
    "             'pistol', 'rifle', 'shot', 'pop','break','steam', 'siren', 'shotgun']\n",
    "\n",
    "movement_words = ['footsteps', 'clop', 'walk', 'walking','steps', 'hooves', 'trot',\n",
    "                  'gallop', 'horse', 'running', 'footstep']\n",
    "\n",
    "# combine foley with household\n",
    "household_words = ['cooking', 'pot', 'pan', 'slicing', 'cutting', 'cut', 'writing', 'write'\n",
    "                   'sharpening', 'clock', 'ticking', 'paper', 'camera', 'metal', 'hammer', 'telephone',\n",
    "                  'tap', 'tapping', 'kitchen', 'tool', 'saw', 'printer', 'wood', 'microwave',\n",
    "                  'bathroom']\n",
    "\n",
    "\n",
    "\n",
    "\n",
    "def cat_labeler_15(tag_list):\n",
    "    if set(human_words).intersection(tag_list):\n",
    "        return 0 #'human'\n",
    "    elif set(comedy_words).intersection(tag_list):\n",
    "        return 1 #'comedy'\n",
    "    elif set(door_words).intersection(tag_list):\n",
    "        return 2 #'door'  \n",
    "    elif set(baby_words).intersection(tag_list):\n",
    "        return 3 #'baby'\n",
    "    elif set(animal_words).intersection(tag_list):\n",
    "        return 4 #'animal'    \n",
    "    elif set(music_words).intersection(tag_list):\n",
    "        return 5 #'music'\n",
    "    elif set(percussion_words).intersection(tag_list):\n",
    "        return 6 #'percussion'\n",
    "    elif set(machinery_words).intersection(tag_list):\n",
    "        return 7 #'machines'\n",
    "    elif set(ambient_words).intersection(tag_list):\n",
    "        return  8#'ambient'\n",
    "    elif set(fire_words).intersection(tag_list):\n",
    "        return 9 #'fire'   \n",
    "    elif set(movement_words).intersection(tag_list):\n",
    "        return 10 #'movement'\n",
    "    elif set(household_words).intersection(tag_list):\n",
    "        return 11 #'household'\n",
    "    elif set(foley_words).intersection(tag_list):\n",
    "        return 12 #'foley'  \n",
    "    elif set(nature_words).intersection(tag_list):\n",
    "        return 13 #'nature'\n",
    "    else:\n",
    "        return 14 #'other'\n"
   ]
  },
  {
   "cell_type": "markdown",
   "metadata": {},
   "source": [
    "## Function Creating 10 Class Labels (archived)"
   ]
  },
  {
   "cell_type": "code",
   "execution_count": 8,
   "metadata": {},
   "outputs": [],
   "source": [
    "human_words = ['human', 'man', 'male', 'voice','woman','female',\n",
    "                'talk', 'talking', 'announcement', 'announcer',\n",
    "              'conversations', 'people', 'chant', 'whisper',\n",
    "              'speech','yelling', 'yell', \n",
    "               \n",
    "               'comedy', 'laughing', 'laughs', 'laugh']\n",
    "\n",
    "baby_words = ['crying','baby', 'scream', 'screaming', 'children','child','kids', 'boy', 'girl']\n",
    "\n",
    "\n",
    "noise_words = ['keyboard', 'keys', 'coin', 'money', 'scratch', 'coins', \n",
    "               'crackle', 'eating', 'click', 'zipper', 'tools', 'foley', 'breath', 'cough',\n",
    "              'creaking', 'squeak', 'skateboard', 'bicycle', 'bike', 'crunch',\n",
    "              'crinkle', 'thump', 'noise', 'plastic', 'sfx', 'typing', 'zip', 'knife',\n",
    "              'tape', 'breathe', 'brush', 'toothbrush', 'velcro', 'cup', 'scissors',\n",
    "               'swish', 'hands', 'flame', 'shuffling', 'eat', 'sigh', 'pen',\n",
    "              \n",
    "              'cooking', 'pot', 'pan', 'slicing', 'cutting', 'cut', 'writing', 'write'\n",
    "                   'sharpening', 'clock', 'ticking', 'paper', 'camera', 'metal', 'hammer', 'telephone',\n",
    "                  'tap', 'tapping', 'kitchen', 'tool', 'saw', 'printer', 'wood', 'microwave',\n",
    "                  'bathroom',\n",
    "                  \n",
    "                  'drums', 'drum', 'bass-drum', 'percussion', \n",
    "                    'cymbal' ,'hi-hat', 'hihat','tambourine''xylophone', 'didgeridoo', 'snare',\n",
    "                   'tambourine', 'fingersnap', 'tabla', 'percussive', 'clapping', 'rattle',\n",
    "                   'bassdrum']\n",
    "\n",
    "animal_words = ['dog', 'dogs', 'cat', 'bark', 'purr', 'frogs','frog', 'cricket', \n",
    "                'crickets', 'birds', 'bird', 'warbler', 'insects','birdsong',\n",
    "               'bee', 'insect','pigs', 'pig','animal-sounds','grasshopper','bugs',\n",
    "               'ducks', 'rooster', 'owl', 'monkey', 'animals', 'cattle',\n",
    "               'hen', 'hens', 'fart','flatulence', 'animal', 'belch', 'burp',\n",
    "                'neighing','snorting','whinny', 'whinnie','snort', 'breathing',\n",
    "               'yawn','farm', 'sneeze', 'snore', 'growl', 'throat','canary', 'geese']\n",
    "\n",
    "music_words = ['instrument', 'guitar', 'piano', 'bell', 'shaker', \n",
    "               'sax', 'clarinet', 'riff', 'single-note', 'chord',\n",
    "              'electric-piano', 'bass', 'cello', 'organ', 'violin', 'viola', \n",
    "               'double-bass', 'classical-guitar', 'chordophone',\n",
    "               'transverse-flute','bassoon', 'flute', 'trumpet', 'harmonica',\n",
    "              'music', 'brass', 'saxophone', 'orchestra', 'drumloop', 'chords',\n",
    "              'bells', 'electro', 'groovy', 'world-music', 'clink', 'horn',\n",
    "              'harp', 'theremin', 'xylophone', 'ukulele', 'vibraphone',\n",
    "              'metalic', 'singing', 'vocals', 'gong', 'doorbell', 'ringtone',\n",
    "              'marimba', 'singing-bowl', 'windchime']\n",
    "\n",
    "ambient_words = ['environmental-sounds-research','applause', 'clap', 'crowd', 'traffic',\n",
    "                'air', 'sea', 'fan', 'london', 'aviation','aircraft', 'city', 'ferry',\n",
    "                'ship',\n",
    "                \n",
    "                'water', 'rain', 'wind', 'ocean', 'waterfall', 'peeing',\n",
    "                'whoosh', 'nature', 'faucet', 'boiling', 'dripping', 'flush', 'liquid',\n",
    "               'river', 'flushing',\n",
    "                \n",
    "                'car', 'engine', 'bus', 'driving', 'drive', 'mixer',\n",
    "                   'machine', 'drill','blender', 'blendering', 'trains','train', 'metro',\n",
    "                  'helicopter', 'motorcycle', 'airplane', 'mechanical', 'vacuum', 'truck',\n",
    "                  'cars', 'subway', 'motor', 'electric']\n",
    "\n",
    "door_words = ['door', 'opening', 'closing', 'drawer', 'shut', 'close', 'gate', 'doorslam',\n",
    "             'breaking', 'tear']\n",
    "\n",
    "alarm_words = ['lighter','fire', 'spark', 'explosion', 'glass', 'thunder', \n",
    "              'lightning', 'gun', 'crack','burning', 'bang', 'banging', 'hit',\n",
    "             'beep', 'beeping', 'kettle', 'alarm', 'phone', 'fireworks', 'breaking-glass',\n",
    "             'pistol', 'rifle', 'shot', 'pop','break','steam', 'siren', 'shotgun']\n",
    "\n",
    "movement_words = ['footsteps', 'clop', 'walk', 'walking','steps', 'hooves', 'trot',\n",
    "                  'gallop', 'horse', 'running', 'footstep']\n",
    "\n",
    "\n",
    "\n",
    "\n",
    "def cat_labeler_10(tag_list):\n",
    "    if set(human_words).intersection(tag_list):\n",
    "        return 0 #'human'\n",
    "    elif set(baby_words).intersection(tag_list):\n",
    "        return 1 #'baby'\n",
    "    elif set(animal_words).intersection(tag_list):\n",
    "        return 2 #'animal' \n",
    "    elif set(music_words).intersection(tag_list):\n",
    "        return 3 #'music'    \n",
    "    elif set(alarm_words).intersection(tag_list):\n",
    "        return 4 #'fire'   \n",
    "    elif set(movement_words).intersection(tag_list):\n",
    "        return 5 #'movement'\n",
    "    elif set(door_words).intersection(tag_list):\n",
    "        return 6 #'door'\n",
    "    elif set(ambient_words).intersection(tag_list):\n",
    "        return 7 #'ambient'\n",
    "    elif set(noise_words).intersection(tag_list):\n",
    "        return 8 #'household'\n",
    "    else:\n",
    "        return 9 #'other' \n"
   ]
  },
  {
   "cell_type": "markdown",
   "metadata": {},
   "source": [
    "## Function Creating 4 (archived) and 8 Class Labels"
   ]
  },
  {
   "cell_type": "code",
   "execution_count": 9,
   "metadata": {},
   "outputs": [],
   "source": [
    "human_words = ['human', 'man', 'male', 'voice','woman','female',\n",
    "                'talk', 'talking', 'announcement', 'announcer',\n",
    "              'conversations', 'people', 'chant', 'whisper',\n",
    "              'speech','yelling', 'yell', \n",
    "               \n",
    "               # comedy/laughing\n",
    "               'comedy', 'laughing', 'laughs', 'laugh',\n",
    "               \n",
    "               # children/crying\n",
    "              'crying','baby', 'scream', 'screaming', 'children','child','kids', 'boy', 'girl']\n",
    "\n",
    "\n",
    "\n",
    "noise_words = ['keyboard', 'keys', 'coin', 'money', 'scratch', 'coins', \n",
    "               'crackle', 'eating', 'click', 'zipper', 'tools', 'foley', 'breath', 'cough',\n",
    "              'creaking', 'squeak', 'skateboard', 'bicycle', 'bike', 'crunch',\n",
    "              'crinkle', 'thump', 'noise', 'plastic', 'sfx', 'typing', 'zip', 'knife',\n",
    "              'tape', 'breathe', 'brush', 'toothbrush', 'velcro', 'cup', 'scissors',\n",
    "               'swish', 'hands', 'shuffling', 'eat', 'sigh', 'pen',\n",
    "              \n",
    "               #kitchen related words\n",
    "              'cooking', 'pot', 'pan', 'slicing', 'cutting', 'cut', 'writing', 'write'\n",
    "                   'sharpening', 'clock', 'ticking', 'paper', 'camera', 'metal', 'hammer', 'telephone',\n",
    "                  'tap', 'tapping', 'kitchen', 'tool', 'saw', 'printer', 'wood', 'microwave',\n",
    "                  'bathroom',\n",
    "                  \n",
    "               # percussion words\n",
    "                  'drums', 'drum', 'bass-drum', 'percussion', \n",
    "                    'cymbal' ,'hi-hat', 'hihat','tambourine','xylophone', 'didgeridoo', 'snare',\n",
    "                   'tambourine', 'fingersnap', 'tabla', 'percussive', 'clapping', 'rattle',\n",
    "                   'bassdrum',\n",
    "              \n",
    "               # things opening words\n",
    "              'door', 'opening', 'closing', 'drawer', 'shut', 'close', 'gate', 'doorslam',\n",
    "             'breaking', 'tear']\n",
    "\n",
    "                \n",
    "animal_words = ['dog', 'dogs', 'cat', 'bark', 'purr', 'frogs','frog', 'cricket', \n",
    "                'crickets', 'birds', 'bird', 'warbler', 'insects','birdsong',\n",
    "               'bee', 'insect','pigs', 'pig','animal-sounds','grasshopper','bugs',\n",
    "               'ducks', 'rooster', 'owl', 'monkey', 'animals', 'cattle',\n",
    "               'hen', 'hens', 'fart','flatulence', 'animal', 'belch', 'burp',\n",
    "                'neighing','snorting','whinny', 'whinnie','snort', 'breathing',\n",
    "               'yawn','farm', 'sneeze', 'snore', 'growl', 'throat','canary', 'geese']\n",
    "\n",
    "music_words = ['instrument', 'guitar', 'piano', 'bell', 'shaker', \n",
    "               'sax', 'clarinet', 'riff', 'single-note', 'chord',\n",
    "              'electric-piano', 'bass', 'cello', 'organ', 'violin', 'viola', \n",
    "               'double-bass', 'classical-guitar', 'chordophone',\n",
    "               'transverse-flute','bassoon', 'flute', 'trumpet', 'harmonica',\n",
    "              'music', 'brass', 'saxophone', 'orchestra', 'drumloop', 'chords',\n",
    "              'bells', 'electro', 'groovy', 'world-music', 'clink', 'horn',\n",
    "              'harp', 'theremin', 'xylophone', 'ukulele', 'vibraphone',\n",
    "              'metalic', 'singing', 'vocals', 'gong', 'doorbell', 'ringtone',\n",
    "              'marimba', 'singing-bowl', 'windchime']\n",
    "\n",
    "                \n",
    "ambient_words = ['environmental-sounds-research','applause', 'clap', 'crowd', 'traffic',\n",
    "                'air', 'sea', 'fan', 'london', 'aviation','aircraft', 'city', 'ferry',\n",
    "                'ship',\n",
    "                \n",
    "                 # water noises\n",
    "                'water', 'rain', 'wind', 'ocean', 'waterfall', 'peeing',\n",
    "                'whoosh', 'nature', 'faucet', 'boiling', 'dripping', 'flush', 'liquid',\n",
    "               'river', 'flushing',\n",
    "                \n",
    "                 # machinery noises\n",
    "                'car', 'engine', 'bus', 'driving', 'drive', 'mixer',\n",
    "                   'machine', 'drill','blender', 'blendering', 'trains','train', 'metro',\n",
    "                  'helicopter', 'motorcycle', 'airplane', 'mechanical', 'vacuum', 'truck',\n",
    "                  'cars', 'subway', 'motor', 'electric',\n",
    "                \n",
    "                'lighter','fire','flame']\n",
    "\n",
    "\n",
    "alarm_words = ['spark', 'explosion', 'glass', 'thunder', \n",
    "              'lightning', 'gun', 'crack','burning', 'bang', 'banging', 'hit',\n",
    "             'beep', 'beeping', 'kettle', 'alarm', 'phone', 'fireworks', 'breaking-glass',\n",
    "             'pistol', 'rifle', 'shot', 'pop','break','steam', 'siren', 'shotgun']\n",
    "\n",
    "\n",
    "movement_words = ['footsteps', 'clop', 'walk', 'walking','steps', 'hooves', 'trot',\n",
    "                  'gallop', 'horse', 'running', 'footstep']\n",
    "\n",
    "\n",
    "def cat_labeler_4(tag_list):\n",
    "    if set(human_words).intersection(tag_list):\n",
    "        return 0 #'human'\n",
    "    elif set(animal_words).intersection(tag_list):\n",
    "        return 1 #'animal' \n",
    "    elif set(music_words).intersection(tag_list):\n",
    "        return 2 #'music'    \n",
    "    else:\n",
    "        return 3 #'other' \n",
    "\n",
    "\n",
    "def cat_labeler_7(tag_list):\n",
    "    if set(human_words).intersection(tag_list):\n",
    "        return 0 #'human'\n",
    "    elif set(noise_words).intersection(tag_list):\n",
    "        return 1 #'noise'\n",
    "    elif set(animal_words).intersection(tag_list):\n",
    "        return 2 #'animal' \n",
    "    elif set(music_words).intersection(tag_list):\n",
    "        return 3 #'music'    \n",
    "    elif set(ambient_words).intersection(tag_list):\n",
    "        return 4 #'ambient'   \n",
    "    elif set(alarm_words).intersection(tag_list):\n",
    "        return 5 #'movement'\n",
    "    elif set(movement_words).intersection(tag_list):\n",
    "        return 6 #'ambient'\n",
    "    else:\n",
    "        return 7 #'other' "
   ]
  },
  {
   "cell_type": "markdown",
   "metadata": {},
   "source": [
    "# Labeling Training  and Test Datasets"
   ]
  },
  {
   "cell_type": "code",
   "execution_count": 10,
   "metadata": {},
   "outputs": [],
   "source": [
    "# 15 Classes\n",
    "dev_info['labels_15'] = dev_info['tags'].apply(cat_labeler_15) \n",
    "eval_info['labels_15'] = eval_info['tags'].apply(cat_labeler_15) \n",
    "\n",
    "# 10 Classes\n",
    "dev_info['labels_2'] = dev_info['tags'].apply(cat_labeler_10) \n",
    "eval_info['labels_2'] = eval_info['tags'].apply(cat_labeler_10) \n",
    "\n",
    "# 4 Classes\n",
    "dev_info['labels_4'] = dev_info['tags'].apply(cat_labeler_4) \n",
    "eval_info['labels_4'] = eval_info['tags'].apply(cat_labeler_4)\n",
    "\n",
    "# 8 Classes (Labels used for Modeling)\n",
    "dev_info['labels'] = dev_info['tags'].apply(cat_labeler_7) \n",
    "eval_info['labels'] = eval_info['tags'].apply(cat_labeler_7)"
   ]
  },
  {
   "cell_type": "code",
   "execution_count": 11,
   "metadata": {
    "scrolled": true
   },
   "outputs": [
    {
     "data": {
      "text/plain": [
       "1    15105\n",
       "3     9275\n",
       "0     5355\n",
       "4     5118\n",
       "2     3239\n",
       "5     1682\n",
       "7      776\n",
       "6      416\n",
       "Name: labels, dtype: int64"
      ]
     },
     "execution_count": 11,
     "metadata": {},
     "output_type": "execute_result"
    }
   ],
   "source": [
    "dev_info.labels.value_counts()"
   ]
  },
  {
   "cell_type": "markdown",
   "metadata": {},
   "source": [
    "# Audio Tag EDA\n",
    "- In this section we will only analyze the 8-Category Class Labels as it had the best results in early exploratory modeling."
   ]
  },
  {
   "cell_type": "code",
   "execution_count": 12,
   "metadata": {},
   "outputs": [],
   "source": [
    "class_labels_dict= {0:'human',\n",
    "                    1:'noise',\n",
    "                    2:'animal',\n",
    "                    3:'music',\n",
    "                    4:'ambient',\n",
    "                    5:'alarm',\n",
    "                    6:'movement',\n",
    "                    7:'other'\n",
    "                    }"
   ]
  },
  {
   "cell_type": "code",
   "execution_count": 13,
   "metadata": {},
   "outputs": [
    {
     "data": {
      "text/plain": [
       "1    15105\n",
       "3     9275\n",
       "0     5355\n",
       "4     5118\n",
       "2     3239\n",
       "5     1682\n",
       "7      776\n",
       "6      416\n",
       "Name: labels, dtype: int64"
      ]
     },
     "execution_count": 13,
     "metadata": {},
     "output_type": "execute_result"
    }
   ],
   "source": [
    "# Value Counts for Class Labels:\n",
    "\n",
    "dev_info.labels.value_counts()"
   ]
  },
  {
   "cell_type": "code",
   "execution_count": 14,
   "metadata": {},
   "outputs": [
    {
     "data": {
      "text/plain": [
       "field-recording    82\n",
       "owi                20\n",
       "sound              14\n",
       "hand               11\n",
       "loop               11\n",
       "campus-upf         11\n",
       "drum-loop          10\n",
       "cook               10\n",
       "recording          10\n",
       "home               10\n",
       "strings             9\n",
       "wav                 9\n",
       "cash-register       9\n",
       "floor               9\n",
       "note                9\n",
       "ukelele             9\n",
       "beat                9\n",
       "high                9\n",
       "can                 9\n",
       "drop                9\n",
       "dtype: int64"
      ]
     },
     "execution_count": 14,
     "metadata": {},
     "output_type": "execute_result"
    }
   ],
   "source": [
    "# class label \"other\" == 7\n",
    "# dictionary for remaining tags\n",
    "\n",
    "\n",
    "remaining_tags_dict = {}\n",
    "\n",
    "for row in dev_info[dev_info.labels == 7]['tags']:\n",
    "    for tag in row:\n",
    "        if tag not in remaining_tags_dict:\n",
    "            remaining_tags_dict[tag] =1\n",
    "        else:\n",
    "            remaining_tags_dict[tag] += 1  \n",
    "            \n",
    "            \n",
    "remaining_tags_series = pd.Series(remaining_tags_dict)\n",
    "remaining_tags_series.sort_values(ascending=False).iloc[:20]"
   ]
  },
  {
   "cell_type": "code",
   "execution_count": 15,
   "metadata": {
    "scrolled": true
   },
   "outputs": [
    {
     "name": "stdout",
     "output_type": "stream",
     "text": [
      "['fiddle', 'field-recording', 'melody']\n",
      "['fiddle', 'field-recording', 'melody']\n",
      "['field-recording', 'firecracker', 'streetnoise']\n",
      "['field-recording', 'firecracker', 'streetnoise']\n",
      "['field-recording', 'firecracker', 'streetnoise']\n",
      "['church', 'field-recording', 'harpsichord', 'tuning']\n",
      "['cook', 'field-recording', 'grill', 'hot', 'meat', 'sizzle']\n",
      "['field-recording', 'morocco', 'motorbike', 'scooter', 'street']\n",
      "['field-recording', 'gravel-road', 'passing-vehicle', 'pickup-truck', 'vehicle', 'yorkshire']\n",
      "['ambience', 'cash-register', 'field-recording', 'shopping-mall', 'store']\n",
      "['ambience', 'cash-register', 'field-recording', 'shopping-mall', 'store']\n",
      "['chattering-crow', 'chuckling-crow', 'crow', 'field-recording']\n",
      "['field-recording', 'glass-break', 'hostess-accident']\n",
      "['field-recording', 'impact', 'sonography', 'thunderstorm', 'very-close-impact-lightning-thunder']\n",
      "['field-recording', 'goats', 'indonesia']\n",
      "['boat', 'field-recording', 'fjord', 'ice', 'rumble', 'sailing']\n",
      "['binaural', 'bing-bong', 'door-bell', 'electronic', 'field-recording', 'stereo', 'tones']\n",
      "['barcelona', 'field-recording', 'tram', 'transportation']\n",
      "['atmosphere', 'chimes', 'field-recording', 'outdoor', 'patio']\n",
      "['4th', 'field-recording', 'firecracker', 'holiday', 'independence', 'july']\n",
      "['4th', 'field-recording', 'firecracker', 'holiday', 'independence', 'july']\n",
      "['festival', 'field-recording', 'jodel', 'jodl', 'lucerne', 'luzern', 'sing', 'singer', 'switzerland', 'yodel']\n",
      "['africa', 'birdcall', 'field-recording', 'savanna', 'south-africa', 'crested-francolin']\n",
      "['angry', 'field-recording', 'gray-squirrel', 'grey-squirrel', 'grumpy', 'rodent', 'shouting', 'squirrel']\n",
      "['field-recording', 'one-seam', 'sewing', 'sewing-machine', 'zigzag']\n",
      "['cow', 'field-recording', 'lowing', 'moo', 'stereo', 'xy']\n",
      "['cold', 'coughing', 'field-recording']\n",
      "['bubbles', 'deep', 'diver', 'diving', 'field-recording', 'glug', 'gurgle', 'scuba', 'underwater', 'wet']\n",
      "['atlantic-city', 'boardwalk', 'field-recording', 'seagull']\n",
      "['cook', 'digital', 'field-recording', 'food', 'grill', 'microphone', 'steak', 'test', 'unprocessed']\n",
      "['cold', 'coughing', 'field-recording']\n",
      "['cold', 'coughing', 'field-recording']\n",
      "['cold', 'coughing', 'field-recording']\n",
      "['braking', 'field-recording', 'screech', 'squeal']\n",
      "['africa', 'field-recording', 'lion', 'roaring', 'zoo']\n",
      "['chain-saw', 'field-recording', 'mountains']\n",
      "['conversation', 'field-recording', 'men', 'poland', 'poznan', 'street', 'voices']\n",
      "['carpentry', 'field-recording', 'grinding', 'large-room', 'manual-labor', 'plywood', 'rhythmic', 'sanding', 'sandpaper', 'scraping', 'scratching', 'unprocessed', 'wood-working']\n",
      "['castel', 'dell', 'field-recording', 'italy', 'napoli', 'ovo', 'scooter', 'violin-player']\n",
      "['autumn', 'crows', 'field-recording']\n",
      "['windy', 'leaves', 'field-recording', 'trees', 'rustling']\n",
      "['sound-design', 'field-recording', 'motorbike']\n",
      "['exterior-music-hall', 'field-recording', 'binaural', 'car-horns']\n",
      "['korea', 'motorbike', 'field-recording', 'seoul']\n",
      "['army', 'field-recording', 'gun-shot']\n",
      "['turkey', 'pavo', 'field-recording', 'mexico']\n",
      "['korea', 'motorbike', 'field-recording', 'seoul']\n",
      "['dormir', 'noche', 'field-recording', 'grabaciones-de-campo', 'sleep', 'snores', 'night', 'ronquidos', 'hombre', 'tascam', 'handheld-recorder', 'recorder', 'dr40']\n",
      "['sonic-snap', 'field-recording', 'moped']\n",
      "['chainsaw', 'field-recording', 'exterior', 'cutters']\n",
      "['churchbells', 'ohrid', 'field-recording', 'macedonia']\n",
      "['field-recording', 'boat', 'ambient']\n",
      "['bamboo', 'windchimes', 'field-recording']\n",
      "['bamboo', 'windchimes', 'field-recording']\n",
      "['bamboo', 'windchimes', 'field-recording']\n",
      "['bamboo', 'windchimes', 'field-recording']\n",
      "['alps', 'mountain', 'pastures', 'cowbell', 'field-recording']\n",
      "['bird-call', 'field-recording', 'wing-beat', 'beat', 'spring', 'northern-lapwing', 'vanellus', 'bird-song', 'call', 'song', 'wing']\n",
      "['arena', 'wide', 'leipzig', 'field-recording', 'red-bull-arena', 'football', 'rb-leipzig', 'foul', 'sports', 'cheering', 'audience', 'chanting', 'stadium', 'fc-magdeburg']\n",
      "['horses', 'run', 'field-recording', 'night']\n",
      "['game', 'swoosh', 'field-recording', 'sword', 'movement']\n",
      "['game', 'swoosh', 'field-recording', 'sword', 'movement']\n",
      "['chainsaw', 'field-recording', 'wood-chipper']\n",
      "['wind-chimes', 'windchimes', 'field-recording']\n",
      "['washing-machine', 'laundry', 'field-recording']\n",
      "['field-recording', 'bikes', 'warm-up', 'race', 'sport', 'racing', 'motorbikes']\n",
      "['field-recording', 'bikes', 'warm-up', 'race', 'sport', 'racing', 'motorbikes']\n",
      "['field-recording', 'bikes', 'warm-up', 'race', 'sport', 'racing', 'motorbikes']\n",
      "['soundfx', 'field-recording', 'finnish-broadcasting-company', 'suomi', 'finland', 'motorcycling', 'tehosteet', 'yle', 'yleisradio', 'motorbikes']\n",
      "['soundfx', 'field-recording', 'finnish-broadcasting-company', 'suomi', 'finland', 'motorcycling', 'tehosteet', 'yle', 'yleisradio', 'motorbikes']\n",
      "['cologne', 'university', 'field-recording', 'vehicle']\n",
      "['chainsaw', 'choke', 'field-recording']\n",
      "['hair', 'dryer', 'h6', 'field-recording']\n",
      "['foot', 'feet', 'step', 'field-recording']\n",
      "['urban', 'drum-kits', 'sample-pack', 'field-recording']\n",
      "['crow', 'field-recording', 'dark']\n",
      "['talli', 'soundfx', 'field-recording', 'liukuovi', 'finnish-broadcasting-company', 'suomi', 'finland', 'sliding-door', 'wooden', 'tehosteet', 'yle', 'yleisradio', 'stable', 'puu', 'puinen']\n",
      "['soundfx', 'field-recording', 'liukuovi', 'finnish-broadcasting-company', 'suomi', 'finland', 'storage', 'ammusvarasto', 'wooden', 'tehosteet', 'yle', 'yleisradio', 'magazine', 'puu', 'puinen', 'varasto', 'sliding-door']\n",
      "['car-horn', 'ambiance', 'field-recording', 'car-horns', 'village']\n",
      "['field-recording', 'summeri', 'ring', 'electrical', 'yleisradio', 'yle', 'tehosteet', 'soitto', 'training-hall', 'harjoitussali', 'suomi', 'finnish-broadcasting-company', 'ringing', 'soundfx', 'finland', 'buzzer']\n",
      "['jingle-bells', 'field-recording', 'kellot', 'christmas', 'interior', 'sleigh-bells', 'kulkuset', 'yle', 'tehosteet', 'rekikellot', 'finland', 'joulu', 'suomi', 'finnish-broadcasting-company', 'yleisradio', 'soundfx', 'sledge-bells']\n",
      "['beach', 'ambience', 'waves', 'splash', 'zoom', 'h4n', 'portugal', 'field-recording']\n"
     ]
    }
   ],
   "source": [
    "# class label \"other\" == 7\n",
    "# printin all rows with 'field-recording' in tags\n",
    "\n",
    "for row in dev_info[dev_info.labels == 7]['tags']:\n",
    "    for tag in row:\n",
    "        if tag == 'field-recording':\n",
    "            print(row)"
   ]
  },
  {
   "cell_type": "markdown",
   "metadata": {},
   "source": [
    "### Value Counts for Training and Test Datasets\n",
    "- Note that these datasets have quite imbalanced classes. In next notebook we will balance the training dataset with Random Over and Under Sampling."
   ]
  },
  {
   "cell_type": "code",
   "execution_count": 16,
   "metadata": {
    "scrolled": false
   },
   "outputs": [
    {
     "data": {
      "text/plain": [
       "1    15105\n",
       "3     9275\n",
       "0     5355\n",
       "4     5118\n",
       "2     3239\n",
       "5     1682\n",
       "7      776\n",
       "6      416\n",
       "Name: labels, dtype: int64"
      ]
     },
     "execution_count": 16,
     "metadata": {},
     "output_type": "execute_result"
    }
   ],
   "source": [
    "dev_info.labels.value_counts()"
   ]
  },
  {
   "cell_type": "code",
   "execution_count": 17,
   "metadata": {
    "scrolled": true
   },
   "outputs": [
    {
     "data": {
      "text/plain": [
       "1    4206\n",
       "4    1559\n",
       "0    1413\n",
       "3    1168\n",
       "2     829\n",
       "7     568\n",
       "5     378\n",
       "6     110\n",
       "Name: labels, dtype: int64"
      ]
     },
     "execution_count": 17,
     "metadata": {},
     "output_type": "execute_result"
    }
   ],
   "source": [
    "eval_info.labels.value_counts()"
   ]
  },
  {
   "cell_type": "markdown",
   "metadata": {},
   "source": [
    "# Initial  Audio Tags EDA "
   ]
  },
  {
   "cell_type": "code",
   "execution_count": 18,
   "metadata": {},
   "outputs": [],
   "source": [
    "# dictionary of integer values of class labels.\n",
    "\n",
    "class_labels_dict= {0:'human',\n",
    "                    1:'noise',\n",
    "                    2:'animal',\n",
    "                    3:'music',\n",
    "                    4:'ambient',\n",
    "                    5:'alarm',\n",
    "                    6:'movement',\n",
    "                    7:'other'\n",
    "                    }"
   ]
  },
  {
   "cell_type": "code",
   "execution_count": 19,
   "metadata": {},
   "outputs": [
    {
     "data": {
      "text/plain": [
       "6     6167\n",
       "3     5006\n",
       "5     4914\n",
       "4     4856\n",
       "7     3725\n",
       "8     2967\n",
       "9     2836\n",
       "10    2164\n",
       "11    1163\n",
       "12    1068\n",
       "2      983\n",
       "13     732\n",
       "14     683\n",
       "16     475\n",
       "15     421\n",
       "21     350\n",
       "18     296\n",
       "17     280\n",
       "1      267\n",
       "19     250\n",
       "dtype: int64"
      ]
     },
     "execution_count": 19,
     "metadata": {},
     "output_type": "execute_result"
    }
   ],
   "source": [
    "# Investigating lengths of tags per audio file\n",
    "\n",
    "tag_length_counter = {}\n",
    "\n",
    "for row in dev_info.tags:\n",
    "    num_tags = len(row)\n",
    "    if num_tags not in tag_length_counter:\n",
    "        tag_length_counter[num_tags] =1\n",
    "    else:\n",
    "        tag_length_counter[num_tags] += 1     \n",
    "\n",
    "tag_lengths_series = pd.Series(tag_length_counter)\n",
    "tag_lengths_series.sort_values(ascending=False).iloc[:20]  "
   ]
  },
  {
   "cell_type": "code",
   "execution_count": 20,
   "metadata": {},
   "outputs": [
    {
     "name": "stdout",
     "output_type": "stream",
     "text": [
      "Number of unique tags in training data: 16309\n"
     ]
    },
    {
     "data": {
      "text/plain": [
       "['male',\n",
       " 'voice',\n",
       " 'keyboard',\n",
       " 'rhythmic',\n",
       " 'tap',\n",
       " 'type',\n",
       " 'computer',\n",
       " 'environmental-sounds-research',\n",
       " 'key',\n",
       " 'typing',\n",
       " 'bell',\n",
       " 'bus',\n",
       " 'depart',\n",
       " 'drive',\n",
       " 'station',\n",
       " 'car',\n",
       " 'engine',\n",
       " 'passing',\n",
       " 'dutch',\n",
       " 'speech']"
      ]
     },
     "execution_count": 20,
     "metadata": {},
     "output_type": "execute_result"
    }
   ],
   "source": [
    "# Investigating how many unique tags there are.\n",
    "\n",
    "unique_tags = []\n",
    "\n",
    "for tag_list in dev_info.tags:\n",
    "    for tag in tag_list:\n",
    "        if tag not in unique_tags:\n",
    "            unique_tags.append(tag)\n",
    "            \n",
    "print(\"Number of unique tags in training data:\", len(unique_tags))\n",
    "unique_tags[:20]            "
   ]
  },
  {
   "cell_type": "code",
   "execution_count": 21,
   "metadata": {
    "scrolled": true
   },
   "outputs": [
    {
     "data": {
      "text/plain": [
       "multisample        5564\n",
       "single-note        3768\n",
       "field-recording    3490\n",
       "good-sounds        3081\n",
       "neumann-u87        3080\n",
       "voice              2511\n",
       "water              2167\n",
       "percussion         1728\n",
       "guitar             1606\n",
       "drum               1434\n",
       "door               1300\n",
       "metal              1271\n",
       "hit                1178\n",
       "velocity           1177\n",
       "female             1165\n",
       "loop               1154\n",
       "vsco-2             1089\n",
       "noise              1082\n",
       "nature             1066\n",
       "male               1058\n",
       "dtype: int64"
      ]
     },
     "execution_count": 21,
     "metadata": {},
     "output_type": "execute_result"
    }
   ],
   "source": [
    "# Checking Value Counts for Unique Tags\n",
    "\n",
    "dict_counter = {}\n",
    "\n",
    "for row in dev_info.tags:\n",
    "    for tag in row:\n",
    "        if tag not in dict_counter:\n",
    "            dict_counter[tag] =1\n",
    "        else:\n",
    "            dict_counter[tag] += 1     \n",
    "            \n",
    "all_tags_series = pd.Series(dict_counter)\n",
    "all_tags_series = all_tags_series.sort_values(ascending=False)\n",
    "all_tags_series.head(20)"
   ]
  },
  {
   "cell_type": "code",
   "execution_count": 22,
   "metadata": {},
   "outputs": [
    {
     "data": {
      "image/png": "[encoded data removed]",
      "text/plain": [
       "<Figure size 432x288 with 1 Axes>"
      ]
     },
     "metadata": {
      "needs_background": "light"
     },
     "output_type": "display_data"
    }
   ],
   "source": [
    "import seaborn as sns\n",
    "import matplotlib.pyplot as plt\n",
    "\n",
    "sns.barplot(x=all_tags_series.iloc[:10].index, y=all_tags_series.iloc[:10].values)\n",
    "plt.xticks(rotation=90)\n",
    "plt.show()"
   ]
  },
  {
   "cell_type": "code",
   "execution_count": 23,
   "metadata": {
    "scrolled": false
   },
   "outputs": [
    {
     "name": "stdout",
     "output_type": "stream",
     "text": [
      "['distortion', 'dive', 'electric', 'free', 'guitar', 'heavy', 'metal', 'multisample', 'note', 'sample', 'sampler', 'sound', 'speed', 'thrash', 'tremolo', 'wave', 'whammy']\n",
      "['chord', 'electric', 'guitar', 'multisample', 'power']\n",
      "['chord', 'electric', 'guitar', 'multisample', 'power']\n",
      "['chord', 'electric', 'guitar', 'multisample', 'power']\n",
      "['chord', 'electric', 'guitar', 'multisample', 'power']\n",
      "['chord', 'electric', 'guitar', 'multisample', 'power']\n",
      "['chord', 'electric', 'guitar', 'multisample', 'power']\n",
      "['chord', 'electric', 'guitar', 'multisample', 'power']\n",
      "['chord', 'electric', 'guitar', 'multisample', 'power']\n",
      "['chord', 'electric', 'guitar', 'multisample', 'power']\n"
     ]
    }
   ],
   "source": [
    "# Investigating what the whole tag list description is for the most common tags: 'multisample'\n",
    "\n",
    "counter = 0 # \n",
    "\n",
    "for row in dev_info['tags']:\n",
    "    for tag in row:\n",
    "        if tag == 'multisample':\n",
    "            print(row)\n",
    "            counter += 1\n",
    "    if counter == 10:\n",
    "        break"
   ]
  },
  {
   "cell_type": "code",
   "execution_count": 24,
   "metadata": {
    "scrolled": false
   },
   "outputs": [
    {
     "name": "stdout",
     "output_type": "stream",
     "text": [
      "['environmental-sounds-research', 'field-recording', 'train']\n",
      "['bark', 'dog', 'field-recording']\n",
      "['cat', 'field-recording', 'purr']\n",
      "['cat', 'field-recording', 'roar']\n",
      "['cat', 'field-recording', 'purr']\n",
      "['beat', 'field-recording', 'kitchen', 'metal']\n",
      "['bass', 'drone', 'field-recording', 'machinery']\n",
      "['field-recording', 'hiss', 'noise', 'rustle', 'stove-pipe', 'wind']\n",
      "['field-recording', 'hiss', 'rustle', 'stove-pipe', 'wind']\n",
      "['bridge', 'canada', 'field-recording', 'montreal', 'passing', 'train']\n",
      "['fiddle', 'field-recording', 'melody']\n",
      "['fiddle', 'field-recording', 'melody']\n",
      "['field-recording', 'fireworks', 'sequence']\n",
      "['bass', 'explosion', 'field-recording', 'fireworks', 'pan']\n",
      "['explosion', 'field-recording', 'fireworks', 'snare']\n",
      "['beep', 'field-recording', 'fireworks', 'light']\n",
      "['close', 'field-recording', 'loud', 'purist', 'thunder', 'wheather']\n",
      "['ball', 'bird', 'field-recording', 'street']\n",
      "['car', 'field-recording', 'passing', 'street']\n",
      "['car', 'datsun-180b', 'engine', 'field-recording', 'stop']\n",
      "['car', 'datsun-180b', 'engine', 'field-recording', 'start']\n",
      "['car', 'datsun-180b', 'field-recording', 'horn']\n",
      "['car', 'datsun-180b', 'engine', 'field-recording', 'gas']\n",
      "['car', 'cars', 'field-recording', 'passing', 'purist', 'road', 'traffic']\n",
      "['car', 'cars', 'field-recording', 'passing', 'purist', 'road', 'traffic']\n",
      "['car', 'cars', 'field-recording', 'passing', 'purist', 'road', 'traffic']\n",
      "['birds', 'car', 'cars', 'field-recording', 'passing', 'purist', 'road', 'traffic']\n",
      "['birds', 'car', 'cars', 'field-recording', 'passing', 'purist', 'road', 'traffic']\n",
      "['birds', 'car', 'cars', 'diesel', 'field-recording', 'passing', 'purist', 'road', 'traffic']\n",
      "['field-recording', 'moped', 'passing', 'purist', 'road', 'traffic']\n"
     ]
    }
   ],
   "source": [
    "# Investigating what the whole tag list description is for the most common tags: 'field-recording'\n",
    "\n",
    "counter = 0 # \n",
    "\n",
    "for row in dev_info['tags']:\n",
    "    for tag in row:\n",
    "        if tag == 'field-recording':\n",
    "            print(row)\n",
    "            counter += 1\n",
    "    if counter == 30:\n",
    "        break"
   ]
  },
  {
   "cell_type": "code",
   "execution_count": 25,
   "metadata": {
    "scrolled": true
   },
   "outputs": [
    {
     "name": "stdout",
     "output_type": "stream",
     "text": [
      "['male', 'voice']\n",
      "['animal', 'growl', 'horror', 'monster', 'processed', 'voice']\n",
      "['analogx', 'anderstein', 'dj', 'free', 'hip-hop', 'rap', 'sample', 'scratch', 'sound', 'vinyl', 'voice']\n",
      "['boy', 'child', 'eio', 'free', 'human', 'lofi', 'sample', 'singing', 'sound', 'voice']\n",
      "['female', 'human', 'phone', 'raw', 'sexy', 'voice']\n",
      "['female', 'human', 'phone', 'raw', 'sexy', 'voice']\n",
      "['girl', 'human', 'singing', 'voice']\n",
      "['girl', 'human', 'singing', 'voice']\n",
      "['girl', 'human', 'singing', 'voice']\n",
      "['girl', 'human', 'processed', 'singing', 'voice']\n"
     ]
    }
   ],
   "source": [
    "# Investigating what the whole tag list description is for the most common tags: 'voice'\n",
    "\n",
    "counter = 0 # \n",
    "\n",
    "for row in dev_info['tags']:\n",
    "    for tag in row:\n",
    "        if tag == 'voice':\n",
    "            print(row)\n",
    "            counter += 1\n",
    "    if counter == 10:\n",
    "        break"
   ]
  },
  {
   "cell_type": "markdown",
   "metadata": {},
   "source": [
    "## Exporting Labelled Datasets"
   ]
  },
  {
   "cell_type": "code",
   "execution_count": null,
   "metadata": {},
   "outputs": [],
   "source": [
    "dev_info.to_json('data/labelled_dev_info.json')\n",
    "eval_info.to_json('data/labelled_eval_info.json')"
   ]
  }
 ],
 "metadata": {
  "kernelspec": {
   "display_name": "Python 3",
   "language": "python",
   "name": "python3"
  },
  "language_info": {
   "codemirror_mode": {
    "name": "ipython",
    "version": 3
   },
   "file_extension": ".py",
   "mimetype": "text/x-python",
   "name": "python",
   "nbconvert_exporter": "python",
   "pygments_lexer": "ipython3",
   "version": "3.7.7"
  }
 },
 "nbformat": 4,
 "nbformat_minor": 4
}
