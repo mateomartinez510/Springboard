{
 "cells": [
  {
   "cell_type": "code",
   "execution_count": null,
   "metadata": {},
   "outputs": [],
   "source": [
    "Note: training and test data wrangled, can do first itteration of Modeling WITH test data.\n",
    "\n",
    "    -after first pass modeling, CONVERT MFCC features to 40 from 13.\n",
    "    -also, go back to classes labels and consider reducing number of classes."
   ]
  },
  {
   "cell_type": "markdown",
   "metadata": {},
   "source": [
    "# Wrangling: Extracting Spectrograms, MFCC Spectrograms, Mean-MFCC\n",
    "## (modeling in next notebook)"
   ]
  },
  {
   "cell_type": "code",
   "execution_count": null,
   "metadata": {},
   "outputs": [],
   "source": [
    "import pandas as pd\n"
   ]
  },
  {
   "cell_type": "code",
   "execution_count": 2,
   "metadata": {},
   "outputs": [
    {
     "name": "stderr",
     "output_type": "stream",
     "text": [
      "Using TensorFlow backend.\n",
      "/Users/Mateo/opt/anaconda3/lib/python3.7/site-packages/tensorflow/python/framework/dtypes.py:516: FutureWarning: Passing (type, 1) or '1type' as a synonym of type is deprecated; in a future version of numpy, it will be understood as (type, (1,)) / '(1,)type'.\n",
      "  _np_qint8 = np.dtype([(\"qint8\", np.int8, 1)])\n",
      "/Users/Mateo/opt/anaconda3/lib/python3.7/site-packages/tensorflow/python/framework/dtypes.py:517: FutureWarning: Passing (type, 1) or '1type' as a synonym of type is deprecated; in a future version of numpy, it will be understood as (type, (1,)) / '(1,)type'.\n",
      "  _np_quint8 = np.dtype([(\"quint8\", np.uint8, 1)])\n",
      "/Users/Mateo/opt/anaconda3/lib/python3.7/site-packages/tensorflow/python/framework/dtypes.py:518: FutureWarning: Passing (type, 1) or '1type' as a synonym of type is deprecated; in a future version of numpy, it will be understood as (type, (1,)) / '(1,)type'.\n",
      "  _np_qint16 = np.dtype([(\"qint16\", np.int16, 1)])\n",
      "/Users/Mateo/opt/anaconda3/lib/python3.7/site-packages/tensorflow/python/framework/dtypes.py:519: FutureWarning: Passing (type, 1) or '1type' as a synonym of type is deprecated; in a future version of numpy, it will be understood as (type, (1,)) / '(1,)type'.\n",
      "  _np_quint16 = np.dtype([(\"quint16\", np.uint16, 1)])\n",
      "/Users/Mateo/opt/anaconda3/lib/python3.7/site-packages/tensorflow/python/framework/dtypes.py:520: FutureWarning: Passing (type, 1) or '1type' as a synonym of type is deprecated; in a future version of numpy, it will be understood as (type, (1,)) / '(1,)type'.\n",
      "  _np_qint32 = np.dtype([(\"qint32\", np.int32, 1)])\n",
      "/Users/Mateo/opt/anaconda3/lib/python3.7/site-packages/tensorflow/python/framework/dtypes.py:525: FutureWarning: Passing (type, 1) or '1type' as a synonym of type is deprecated; in a future version of numpy, it will be understood as (type, (1,)) / '(1,)type'.\n",
      "  np_resource = np.dtype([(\"resource\", np.ubyte, 1)])\n",
      "/Users/Mateo/opt/anaconda3/lib/python3.7/site-packages/tensorboard/compat/tensorflow_stub/dtypes.py:541: FutureWarning: Passing (type, 1) or '1type' as a synonym of type is deprecated; in a future version of numpy, it will be understood as (type, (1,)) / '(1,)type'.\n",
      "  _np_qint8 = np.dtype([(\"qint8\", np.int8, 1)])\n",
      "/Users/Mateo/opt/anaconda3/lib/python3.7/site-packages/tensorboard/compat/tensorflow_stub/dtypes.py:542: FutureWarning: Passing (type, 1) or '1type' as a synonym of type is deprecated; in a future version of numpy, it will be understood as (type, (1,)) / '(1,)type'.\n",
      "  _np_quint8 = np.dtype([(\"quint8\", np.uint8, 1)])\n",
      "/Users/Mateo/opt/anaconda3/lib/python3.7/site-packages/tensorboard/compat/tensorflow_stub/dtypes.py:543: FutureWarning: Passing (type, 1) or '1type' as a synonym of type is deprecated; in a future version of numpy, it will be understood as (type, (1,)) / '(1,)type'.\n",
      "  _np_qint16 = np.dtype([(\"qint16\", np.int16, 1)])\n",
      "/Users/Mateo/opt/anaconda3/lib/python3.7/site-packages/tensorboard/compat/tensorflow_stub/dtypes.py:544: FutureWarning: Passing (type, 1) or '1type' as a synonym of type is deprecated; in a future version of numpy, it will be understood as (type, (1,)) / '(1,)type'.\n",
      "  _np_quint16 = np.dtype([(\"quint16\", np.uint16, 1)])\n",
      "/Users/Mateo/opt/anaconda3/lib/python3.7/site-packages/tensorboard/compat/tensorflow_stub/dtypes.py:545: FutureWarning: Passing (type, 1) or '1type' as a synonym of type is deprecated; in a future version of numpy, it will be understood as (type, (1,)) / '(1,)type'.\n",
      "  _np_qint32 = np.dtype([(\"qint32\", np.int32, 1)])\n",
      "/Users/Mateo/opt/anaconda3/lib/python3.7/site-packages/tensorboard/compat/tensorflow_stub/dtypes.py:550: FutureWarning: Passing (type, 1) or '1type' as a synonym of type is deprecated; in a future version of numpy, it will be understood as (type, (1,)) / '(1,)type'.\n",
      "  np_resource = np.dtype([(\"resource\", np.ubyte, 1)])\n"
     ]
    }
   ],
   "source": [
    "import pandas as pd\n",
    "import numpy as np\n",
    "import time\n",
    "import librosa\n",
    "import librosa.display\n",
    "import IPython.display as ipd\n",
    "import matplotlib.pyplot as plt\n",
    "from PIL import Image\n",
    "import skimage\n",
    "import skimage.io\n",
    "import os\n",
    "import pickle\n",
    "import keras\n",
    "from keras.models import Sequential\n",
    "from keras.layers import Dense, Dropout, Flatten, Conv2D, MaxPooling2D\n",
    "from keras.utils import to_categorical\n",
    "from keras import optimizers\n",
    "\n",
    "%matplotlib inline"
   ]
  },
  {
   "cell_type": "code",
   "execution_count": 3,
   "metadata": {},
   "outputs": [],
   "source": [
    "dev_info = pd.read_json('data/labelled_dev_info.json')\n"
   ]
  },
  {
   "cell_type": "code",
   "execution_count": 6,
   "metadata": {},
   "outputs": [],
   "source": [
    "eval_info = pd.read_json('data/labelled_eval_info.json')"
   ]
  },
  {
   "cell_type": "markdown",
   "metadata": {},
   "source": [
    "## Converting Spectrograms and saving as Image Files"
   ]
  },
  {
   "cell_type": "code",
   "execution_count": null,
   "metadata": {},
   "outputs": [],
   "source": [
    "# Not scaling for now...\n",
    "\n",
    "# #function for scaling spectrogram images (however, the datagenerator can do that too, so maybe unnecessary here)\n",
    "\n",
    "# def scale_minmax(X, min=0.0, max=1.0):\n",
    "#     X_std = (X - X.min()) / (X.max() - X.min())\n",
    "#     X_scaled = X_std * (max - min) + min\n",
    "#     return X_scaled"
   ]
  },
  {
   "cell_type": "code",
   "execution_count": 14,
   "metadata": {},
   "outputs": [],
   "source": [
    "base_dir = '/Users/Mateo/Springboard/FSD50k/'\n",
    "audio_dir = '/Users/Mateo/Springboard/FSD50k/data/FSD50K.dev_audio/'\n",
    "test_audio_dir = '/Users/Mateo/Springboard/FSD50k/data/FSD50K.eval_audio/'\n",
    "list_of_wav_names = dev_info.wav_name.to_list()\n",
    "test_wav_names_lst = eval_info.wav_name.to_list()"
   ]
  },
  {
   "cell_type": "markdown",
   "metadata": {},
   "source": [
    "### Spectorgrams for Training Data"
   ]
  },
  {
   "cell_type": "code",
   "execution_count": 32,
   "metadata": {
    "scrolled": true
   },
   "outputs": [
    {
     "name": "stderr",
     "output_type": "stream",
     "text": [
      "/Users/Mateo/opt/anaconda3/lib/python3.7/site-packages/ipykernel_launcher.py:53: UserWarning: 55356.png is a low contrast image\n",
      "/Users/Mateo/opt/anaconda3/lib/python3.7/site-packages/ipykernel_launcher.py:53: UserWarning: 95076.png is a low contrast image\n",
      "/Users/Mateo/opt/anaconda3/lib/python3.7/site-packages/ipykernel_launcher.py:53: UserWarning: 125660.png is a low contrast image\n",
      "/Users/Mateo/opt/anaconda3/lib/python3.7/site-packages/ipykernel_launcher.py:53: UserWarning: 164482.png is a low contrast image\n",
      "/Users/Mateo/opt/anaconda3/lib/python3.7/site-packages/ipykernel_launcher.py:53: UserWarning: 166707.png is a low contrast image\n",
      "/Users/Mateo/opt/anaconda3/lib/python3.7/site-packages/ipykernel_launcher.py:53: UserWarning: 166709.png is a low contrast image\n",
      "/Users/Mateo/opt/anaconda3/lib/python3.7/site-packages/ipykernel_launcher.py:53: UserWarning: 176970.png is a low contrast image\n",
      "/Users/Mateo/opt/anaconda3/lib/python3.7/site-packages/ipykernel_launcher.py:53: UserWarning: 333677.png is a low contrast image\n",
      "/Users/Mateo/opt/anaconda3/lib/python3.7/site-packages/ipykernel_launcher.py:53: UserWarning: 367787.png is a low contrast image\n",
      "/Users/Mateo/opt/anaconda3/lib/python3.7/site-packages/ipykernel_launcher.py:53: UserWarning: 367790.png is a low contrast image\n",
      "/Users/Mateo/opt/anaconda3/lib/python3.7/site-packages/ipykernel_launcher.py:53: UserWarning: 368070.png is a low contrast image\n"
     ]
    },
    {
     "name": "stdout",
     "output_type": "stream",
     "text": [
      "13205.982905864716\n"
     ]
    }
   ],
   "source": [
    "# # Spectorgrams for Training Data\n",
    "\n",
    "# # creating directory\n",
    "# os.chdir(base_dir)\n",
    "# if not os.path.exists('data/spec_50k'):\n",
    "#     os.makedirs('data/spec_50k')\n",
    "    \n",
    "# # changing into desired directory to save spectrogram images\n",
    "# path = 'data/spec_50k'\n",
    "# os.chdir(path)\n",
    "\n",
    "\n",
    "# start = time.time()\n",
    "\n",
    "# for i in range(len(list_of_file_names)):\n",
    "#     file_path = audio_dir + list_of_file_names[i]\n",
    "#     data, sr = librosa.load(file_path)  # consider using 'kaiser_fast' instead of 'kaiser_best' for faster load time\n",
    "                                          # data, sr = librosa.load(file_path, res_type='kaiser_fast')\n",
    "    \n",
    "#     # trimming to 5 seconds\n",
    "#     # padding with random offset for shorter tracks to 5 seconds\n",
    "\n",
    "#     input_length = 5 * 22050 # 5 seconds * 22050 samples per second (the sample_rate)\n",
    "\n",
    "#     if len(data) > input_length:\n",
    "#         data = data[:input_length]\n",
    "\n",
    "#     elif input_length > len(data):\n",
    "#         max_offset = input_length - len(data)\n",
    "#         offset = np.random.randint(max_offset)\n",
    "#         data = np.pad(data, (offset, input_length - len(data) - offset), \"constant\")\n",
    "    \n",
    "#     # Fast Fourier Transform, a window for the results image\n",
    "#     n_fft = 2048\n",
    "#     # hop length slides the window (4:1 something er other?)\n",
    "#     hop_length = 512\n",
    "#     # converts audio spectrum into 128 evenly spaced groups based on human hearing\n",
    "#     n_mels = 128\n",
    "\n",
    "#     S = librosa.feature.melspectrogram(data, sr=sr, n_fft=n_fft, hop_length=hop_length, n_mels=n_mels)\n",
    "#     S_DB = librosa.power_to_db(S, ref=np.max)\n",
    "    \n",
    "    \n",
    "#     S_DB = S_DB.astype(np.uint8) #converting from float32 to uint8 (more efficient file format)\n",
    "    \n",
    "#     # NOT SCALING IN THIS ITERATION....\n",
    "# #     # # min-max scale to fit inside 8-bit range\n",
    "\n",
    "# #     img = scale_minmax(S_DB, 0, 255).astype(np.uint8)\n",
    "# #     img = np.flip(img, axis=0) # put low frequencies at the bottom in image\n",
    "# #     img = 255-img # invert. make black==more energy\n",
    "\n",
    "#     skimage.io.imsave(list_of_file_names[i][:-4] + '.png', S_DB)  # removing .wav suffix with .png \n",
    "#     # to display impage: librosa.display.specshow(img, sr=sr, hop_length=hop_length)\n",
    "    \n",
    "# end = time.time()\n",
    "# print(end - start)"
   ]
  },
  {
   "cell_type": "markdown",
   "metadata": {},
   "source": [
    "### Spectorgrams for Test Data\n"
   ]
  },
  {
   "cell_type": "code",
   "execution_count": 17,
   "metadata": {
    "scrolled": true
   },
   "outputs": [
    {
     "name": "stderr",
     "output_type": "stream",
     "text": [
      "/Users/Mateo/opt/anaconda3/lib/python3.7/site-packages/ipykernel_launcher.py:53: UserWarning: 387216.png is a low contrast image\n",
      "/Users/Mateo/opt/anaconda3/lib/python3.7/site-packages/ipykernel_launcher.py:53: UserWarning: 38709.png is a low contrast image\n",
      "/Users/Mateo/opt/anaconda3/lib/python3.7/site-packages/ipykernel_launcher.py:53: UserWarning: 366738.png is a low contrast image\n",
      "/Users/Mateo/opt/anaconda3/lib/python3.7/site-packages/ipykernel_launcher.py:53: UserWarning: 7417.png is a low contrast image\n",
      "/Users/Mateo/opt/anaconda3/lib/python3.7/site-packages/ipykernel_launcher.py:53: UserWarning: 110580.png is a low contrast image\n"
     ]
    },
    {
     "name": "stdout",
     "output_type": "stream",
     "text": [
      "950.5249390602112\n"
     ]
    }
   ],
   "source": [
    "# Spectorgrams for Test Data\n",
    "\n",
    "# creating directory\n",
    "os.chdir(base_dir)\n",
    "if not os.path.exists('data/test_spec_50k'):\n",
    "    os.makedirs('data/test_spec_50k')\n",
    "    \n",
    "# changing into desired directory to save spectrogram images\n",
    "path = 'data/test_spec_50k'\n",
    "os.chdir(path)\n",
    "\n",
    "\n",
    "start = time.time()\n",
    "\n",
    "for i in range(len(test_wav_names_lst)):\n",
    "    file_path = test_audio_dir + test_wav_names_lst[i]\n",
    "    # consider using 'kaiser_fast' instead of 'kaiser_best' for faster load time\n",
    "    data, sr = librosa.load(file_path, res_type='kaiser_fast')  \n",
    "    \n",
    "    # trimming to 5 seconds\n",
    "    # padding with random offset for shorter tracks to 5 seconds\n",
    "\n",
    "    input_length = 5 * 22050 # 5 seconds * 22050 samples per second (the sample_rate)\n",
    "\n",
    "    if len(data) > input_length:\n",
    "        data = data[:input_length]\n",
    "\n",
    "    elif input_length > len(data):\n",
    "        max_offset = input_length - len(data)\n",
    "        offset = np.random.randint(max_offset)\n",
    "        data = np.pad(data, (offset, input_length - len(data) - offset), \"constant\")\n",
    "    \n",
    "    # Fast Fourier Transform, a window for the results image\n",
    "    n_fft = 2048\n",
    "    # hop length slides the window (4:1 something er other?)\n",
    "    hop_length = 512\n",
    "    # converts audio spectrum into 128 evenly spaced groups based on human hearing\n",
    "    n_mels = 128\n",
    "\n",
    "    S = librosa.feature.melspectrogram(data, sr=sr, n_fft=n_fft, hop_length=hop_length, n_mels=n_mels)\n",
    "    S_DB = librosa.power_to_db(S, ref=np.max)\n",
    "    \n",
    "    \n",
    "    S_DB = S_DB.astype(np.uint8) #converting from float32 to uint8 (more efficient file format)\n",
    "    skimage.io.imsave(test_wav_names_lst[i][:-4] + '.png', S_DB)  \n",
    "    \n",
    "end = time.time()\n",
    "print(end - start)"
   ]
  },
  {
   "cell_type": "markdown",
   "metadata": {},
   "source": [
    "Spectrogram: Total run time of cell above: 13205.982905864716 (3.5 hours!) (training)\n",
    "\n",
    "Spectrogram: Test took 15 minutes, why so much faster (kaiser_fast?)"
   ]
  },
  {
   "cell_type": "markdown",
   "metadata": {},
   "source": [
    "# Extracting MFCC Spectrogram ( Convert to 40 MFCC Features at some point)\n",
    "## with this next iteration, extract Mean MFCC values before converting to np.uint8"
   ]
  },
  {
   "cell_type": "code",
   "execution_count": 38,
   "metadata": {},
   "outputs": [
    {
     "name": "stdout",
     "output_type": "stream",
     "text": [
      "36347.03870201111\n"
     ]
    }
   ],
   "source": [
    "# # saving MFCC's to disk in mfcc_50k directory\n",
    "\n",
    "# # creating directory\n",
    "# os.chdir(base_dir)\n",
    "# if not os.path.exists('data/mfcc_50k'):\n",
    "#     os.makedirs('data/mfcc_50k')\n",
    "    \n",
    "# # changing into desired directory to save mfcc images\n",
    "# path = 'data/mfcc_50k'\n",
    "# os.chdir(path)\n",
    "\n",
    "\n",
    "\n",
    "# start = time.time()\n",
    "\n",
    "# for i in range(len(list_of_file_names)):\n",
    "#     file_path = audio_dir + list_of_file_names[i]\n",
    "#     data, sr = librosa.load(file_path)\n",
    "    \n",
    "#     #padding/trimming to 5 seconds with random offset for shorter tracks\n",
    "\n",
    "#     input_length = 5 * 22050\n",
    "\n",
    "#     if len(data) > input_length:\n",
    "#         data = data[:input_length]\n",
    "\n",
    "#     elif input_length > len(data):\n",
    "#         max_offset = input_length - len(data)\n",
    "#         offset = np.random.randint(max_offset)\n",
    "#         data = np.pad(data, (offset, input_length - len(data) - offset), \"constant\")\n",
    "    \n",
    "#     # extracting mfcc features\n",
    "#     mfcc = librosa.feature.mfcc(y=data, sr=sr, n_mfcc=13)\n",
    "    \n",
    "#     # converting to uint8 num_type\n",
    "#     mfcc = mfcc.astype(np.uint8)\n",
    "#     skimage.io.imsave(list_of_file_names[i][:-4] + '.png', mfcc)  # removing .wav suffix with .png \n",
    "\n",
    "    \n",
    "# end = time.time()\n",
    "# print(end - start)"
   ]
  },
  {
   "cell_type": "code",
   "execution_count": 42,
   "metadata": {},
   "outputs": [
    {
     "name": "stdout",
     "output_type": "stream",
     "text": [
      "MFCC Spectrogram Time: 36347 10 hours to run!. I think things were being stored in memory while running...\n"
     ]
    }
   ],
   "source": [
    "print('MFCC Spectrogram Time:', 36347, '10 hours to run!. I think things were being stored in memory while running...')"
   ]
  },
  {
   "cell_type": "markdown",
   "metadata": {},
   "source": [
    "### Extracting Test Data MFCC Spectrogram and Mean MFCC Values"
   ]
  },
  {
   "cell_type": "code",
   "execution_count": 20,
   "metadata": {},
   "outputs": [
    {
     "name": "stdout",
     "output_type": "stream",
     "text": [
      "992.9505019187927\n"
     ]
    }
   ],
   "source": [
    "# saving Test Data MFCC's to disk in mfcc_50k directory\n",
    "\n",
    "# creating directory\n",
    "os.chdir(base_dir)\n",
    "if not os.path.exists('data/test_mfcc_50k'):\n",
    "    os.makedirs('data/test_mfcc_50k')\n",
    "    \n",
    "# changing into desired directory to save mfcc images\n",
    "path = 'data/test_mfcc_50k'\n",
    "os.chdir(path)\n",
    "\n",
    "\n",
    "\n",
    "start = time.time()\n",
    "\n",
    "\n",
    "\n",
    "# intanitating numpy array for Mean MFCC values\n",
    "num_files = len(test_wav_names_lst)\n",
    "num_mfcc_features = 13\n",
    "mfcc_mean_features = np.zeros(shape=(num_files, num_mfcc_features))\n",
    "\n",
    "\n",
    "\n",
    "for i in range(len(test_wav_names_lst)):\n",
    "    file_path = test_audio_dir + test_wav_names_lst[i]\n",
    "    data, sr = librosa.load(file_path, res_type = 'kaiser_fast')\n",
    "    \n",
    "    #padding/trimming to 5 seconds with random offset for shorter tracks\n",
    "\n",
    "    input_length = 5 * 22050\n",
    "\n",
    "    if len(data) > input_length:\n",
    "        data = data[:input_length]\n",
    "\n",
    "    elif input_length > len(data):\n",
    "        max_offset = input_length - len(data)\n",
    "        offset = np.random.randint(max_offset)\n",
    "        data = np.pad(data, (offset, input_length - len(data) - offset), \"constant\")\n",
    "    \n",
    "    # extracting mfcc features\n",
    "    mfcc = librosa.feature.mfcc(y=data, sr=sr, n_mfcc=13)\n",
    "    \n",
    "    \n",
    "    # extracting Mean for each MFCC band\n",
    "    mfcc_processed = np.mean(mfcc, axis= 1)  # orginally: np.mean(foo.T, axis= 0), but same no?\n",
    "    # appending mean values to features list\n",
    "    mfcc_mean_features[i] = mfcc_processed\n",
    "    \n",
    "    # converting to uint8 num_type\n",
    "    mfcc = mfcc.astype(np.uint8)\n",
    "    skimage.io.imsave(test_wav_names_lst[i][:-4] + '.png', mfcc)  # removing .wav suffix with .png \n",
    "    \n",
    "\n",
    "# saving numpy array to disk    \n",
    "mean_features_filepath = base_dir + 'data/test_mfcc_mean_features.npz'\n",
    "np.savez(mean_features_filepath, mfcc_mean_features)    \n",
    "\n",
    "end = time.time()\n",
    "print(end - start)"
   ]
  },
  {
   "cell_type": "code",
   "execution_count": 21,
   "metadata": {},
   "outputs": [
    {
     "data": {
      "text/plain": [
       "16.533333333333335"
      ]
     },
     "execution_count": 21,
     "metadata": {},
     "output_type": "execute_result"
    }
   ],
   "source": [
    "992/60\n"
   ]
  },
  {
   "cell_type": "markdown",
   "metadata": {},
   "source": [
    "Test MFCC Spectrogram and Mean MFCC ran in 16 minutes (all cuz kaiser_fast, or maybe I closed some tabs....)"
   ]
  },
  {
   "cell_type": "code",
   "execution_count": null,
   "metadata": {},
   "outputs": [],
   "source": []
  },
  {
   "cell_type": "markdown",
   "metadata": {},
   "source": [
    "## Converting Training MFCC to Mean MFCC ( Convert to 40 MFCC Features at some point)"
   ]
  },
  {
   "cell_type": "code",
   "execution_count": 85,
   "metadata": {},
   "outputs": [
    {
     "name": "stdout",
     "output_type": "stream",
     "text": [
      "18.719588041305542\n"
     ]
    }
   ],
   "source": [
    "# # Creating Numpy Matrix of Mean MFCC Features for Training Data\n",
    "\n",
    "\n",
    "\n",
    "\n",
    "# mfcc_dir = '/Users/Mateo/Springboard/FSD50k/data/mfcc_50k/'\n",
    "\n",
    "# num_files = len(list_of_file_names)\n",
    "# num_mfcc_features = 13\n",
    "\n",
    "# mfcc_mean_features = np.zeros(shape=(num_files, num_mfcc_features))\n",
    "\n",
    "# start = time.time()\n",
    "\n",
    "# for i in range(len(list_of_file_names)):  \n",
    "#     file_path = mfcc_dir + list_of_file_names[0][:-4] + '.png'\n",
    "    \n",
    "#     # loading processed MFCC Spectrogram Images\n",
    "#     mfcc = skimage.io.imread(file_path)\n",
    "\n",
    "#     # extract mfcc mean for each MFCC band\n",
    "#     mfcc_processed = np.mean(mfcc, axis= 1)  # orginally: np.mean(foo.T, axis= 0), but same no?\n",
    "\n",
    "#     # appending mean values to features list\n",
    "#     mfcc_mean_features[i] = mfcc_processed\n",
    "    \n",
    "# end = time.time()\n",
    "# print(end - start)"
   ]
  },
  {
   "cell_type": "code",
   "execution_count": 94,
   "metadata": {},
   "outputs": [],
   "source": [
    "mean_features_filepath = base_dir + 'data/mfcc_mean_features.npz'\n",
    "np.savez(mean_features_filepath, mfcc_mean_features)"
   ]
  },
  {
   "cell_type": "code",
   "execution_count": 103,
   "metadata": {},
   "outputs": [],
   "source": [
    "# loading npz for sanity check   # works!\n",
    "\n",
    "loaded_mfcc_mean_features = np.load(mean_features_filepath)['arr_0']"
   ]
  },
  {
   "cell_type": "code",
   "execution_count": 107,
   "metadata": {},
   "outputs": [
    {
     "data": {
      "text/plain": [
       "(40966, 13)"
      ]
     },
     "execution_count": 107,
     "metadata": {},
     "output_type": "execute_result"
    }
   ],
   "source": [
    "mfcc_mean_features.shape"
   ]
  },
  {
   "cell_type": "code",
   "execution_count": 106,
   "metadata": {},
   "outputs": [
    {
     "data": {
      "text/plain": [
       "(40966, 13)"
      ]
     },
     "execution_count": 106,
     "metadata": {},
     "output_type": "execute_result"
    }
   ],
   "source": [
    "loaded_mfcc_mean_features.shape"
   ]
  },
  {
   "cell_type": "markdown",
   "metadata": {},
   "source": [
    "# NOTES BELOW"
   ]
  },
  {
   "cell_type": "code",
   "execution_count": null,
   "metadata": {},
   "outputs": [],
   "source": []
  },
  {
   "cell_type": "code",
   "execution_count": null,
   "metadata": {},
   "outputs": [],
   "source": []
  },
  {
   "cell_type": "code",
   "execution_count": null,
   "metadata": {},
   "outputs": [],
   "source": []
  },
  {
   "cell_type": "code",
   "execution_count": null,
   "metadata": {},
   "outputs": [],
   "source": []
  }
 ],
 "metadata": {
  "kernelspec": {
   "display_name": "Python 3",
   "language": "python",
   "name": "python3"
  },
  "language_info": {
   "codemirror_mode": {
    "name": "ipython",
    "version": 3
   },
   "file_extension": ".py",
   "mimetype": "text/x-python",
   "name": "python",
   "nbconvert_exporter": "python",
   "pygments_lexer": "ipython3",
   "version": "3.7.7"
  }
 },
 "nbformat": 4,
 "nbformat_minor": 4
}
