{
 "cells": [
  {
   "cell_type": "markdown",
   "metadata": {},
   "source": [
    "[dataset: FSD50k (Free Sound Dataset 50k)](https://zenodo.org/record/4060432#.X5ySHHhKgWo)\n"
   ]
  },
  {
   "cell_type": "markdown",
   "metadata": {},
   "source": [
    "# Modeling\n",
    "\n",
    "This notebook is broken up into three sections for the three sets of extracted features: Mel-Frequency Spectrograms, MFCC Spectrograms, and the mean MFCC values. All models with have the same response variable of the audio class label.\n",
    "\n",
    "#### Part 1:\n",
    "Features: Mel-Frequency Spectrograms<br>\n",
    "- Model 1a: Convolutional Neural Network <br>\n",
    "\n",
    "#### Part 2: \n",
    "Features: MFCC Sprectrograms\n",
    "- Model 2a: Convolutional Nueral Network\n",
    "- Model 2b: CNN with Resnet50 Tranfering Learning \n",
    "\n",
    "#### Part 3: \n",
    "Features: Mean MFCC Values\n",
    "- Model 3a: Neural Network\n",
    "- Model 3b: Logistic Regression\n",
    "- Model 3c: Random Forest\n",
    "- Model 4b: Support Vector Machine\n",
    "\n",
    "Thesis: Classify raw audio files into categories associated with household noises to identify emergency related sounds(humans (voice), animals, instruments, water, door, car, explosion (boom, thunder)."
   ]
  },
  {
   "cell_type": "code",
   "execution_count": 9,
   "metadata": {},
   "outputs": [],
   "source": [
    "import pandas as pd\n",
    "import numpy as np\n",
    "import time\n",
    "import IPython.display as ipd\n",
    "import matplotlib.pyplot as plt\n",
    "from PIL import Image\n",
    "import skimage.io\n",
    "import os\n",
    "import pickle\n",
    "import keras\n",
    "import tensorflow as tf\n",
    "from keras.models import Sequential\n",
    "from keras.preprocessing.image import ImageDataGenerator\n",
    "from keras.layers import Dense, Dropout, Flatten, Conv2D, MaxPooling2D\n",
    "from keras.utils import to_categorical\n",
    "from keras import optimizers\n",
    "from keras.optimizers import Adam, SGD\n",
    "from keras.layers import LeakyReLU\n",
    "from sklearn.metrics import classification_report, confusion_matrix\n",
    "import seaborn as sns"
   ]
  },
  {
   "cell_type": "code",
   "execution_count": 27,
   "metadata": {},
   "outputs": [],
   "source": [
    "from keras.losses import sparse_categorical_crossentropy\n",
    "from keras.layers import BatchNormalization\n",
    "from keras.layers import UpSampling2D \n",
    "from keras.layers import GlobalAveragePooling2D\n",
    "from keras.callbacks import EarlyStopping\n",
    "from keras.optimizers import Adam, SGD\n",
    "from keras.layers import LeakyReLU\n",
    "from keras.applications.resnet50 import ResNet50\n",
    "from sklearn.metrics import classification_report, confusion_matrix\n",
    "import seaborn as sns\n",
    "from sklearn.metrics import precision_recall_fscore_support"
   ]
  },
  {
   "cell_type": "markdown",
   "metadata": {},
   "source": [
    "### Loading Meta Data"
   ]
  },
  {
   "cell_type": "code",
   "execution_count": 11,
   "metadata": {},
   "outputs": [],
   "source": [
    "dev_info = pd.read_json('data/labelled_dev_info.json')\n",
    "eval_info = pd.read_json('data/labelled_eval_info.json')\n",
    "dev_synth_info = pd.read_json('data/dev_info_resamp.json')"
   ]
  },
  {
   "cell_type": "code",
   "execution_count": null,
   "metadata": {},
   "outputs": [],
   "source": [
    "class_names_list = ['human', 'noise', 'animal', 'music', 'ambient', 'alarm', 'movement', 'other']\n",
    "\n",
    "class_labels_dict= {0:'human',\n",
    "                    1:'noise',\n",
    "                    2:'animal',\n",
    "                    3:'music',\n",
    "                    4:'ambient',\n",
    "                    5:'alarm',\n",
    "                    6:'movement',\n",
    "                    7:'other'\n",
    "                    }"
   ]
  },
  {
   "cell_type": "markdown",
   "metadata": {},
   "source": [
    "## Part 1: Mel-Frequency Spectograms Features\n",
    "\n",
    "## Model: Convolutional Neural Network\n"
   ]
  },
  {
   "cell_type": "code",
   "execution_count": 14,
   "metadata": {},
   "outputs": [
    {
     "name": "stdout",
     "output_type": "stream",
     "text": [
      "Found 40000 validated image filenames.\n",
      "Found 10231 validated image filenames.\n"
     ]
    }
   ],
   "source": [
    "# load data into generator with keras function .flow_from_directory\n",
    "\n",
    "train_datagen=ImageDataGenerator(rescale=1./255.)  # , default: validation_split= None\n",
    "# 25% test set before, thats why only 75 before, seperate  eval so validiation =0\n",
    "\n",
    "\n",
    "train_spec_generator=train_datagen.flow_from_dataframe(\n",
    "    dataframe= dev_synth_info,\n",
    "    directory= 'data/train_spectrograms',\n",
    "    x_col='png_name',\n",
    "    y_col= 'labels', \n",
    "    color_mode=\"grayscale\",\n",
    "    batch_size=32,\n",
    "    seed=42,\n",
    "    shuffle=True,\n",
    "    class_mode=  \"raw\", #  'raw' for numeric input\n",
    "    target_size=(128,216),\n",
    "    subset='training',\n",
    "    validate_filenames=True) # target_size=(64,64)) tuple of height/width\n",
    "\n",
    "# test generator\n",
    "test_datagen=ImageDataGenerator(rescale=1./255.)\n",
    "\n",
    "test_spec_generator=test_datagen.flow_from_dataframe(\n",
    "    dataframe= eval_info,\n",
    "    directory= 'data/test_spectrograms',\n",
    "    x_col='png_name',\n",
    "    y_col= 'labels',\n",
    "    color_mode=\"grayscale\",\n",
    "    batch_size=32,\n",
    "    seed=42,\n",
    "    shuffle=False,\n",
    "    class_mode=  \"raw\", # 'raw' for numeric input\n",
    "    target_size=(128,216),\n",
    "    validate_filenames=True) # target_size=(64,64)) tuple of height/width"
   ]
  },
  {
   "cell_type": "code",
   "execution_count": 15,
   "metadata": {
    "scrolled": false
   },
   "outputs": [
    {
     "name": "stdout",
     "output_type": "stream",
     "text": [
      "Model: \"sequential\"\n",
      "_________________________________________________________________\n",
      "Layer (type)                 Output Shape              Param #   \n",
      "=================================================================\n",
      "conv2d (Conv2D)              (None, 126, 214, 16)      160       \n",
      "_________________________________________________________________\n",
      "max_pooling2d (MaxPooling2D) (None, 126, 107, 16)      0         \n",
      "_________________________________________________________________\n",
      "conv2d_1 (Conv2D)            (None, 124, 105, 16)      2320      \n",
      "_________________________________________________________________\n",
      "max_pooling2d_1 (MaxPooling2 (None, 62, 52, 16)        0         \n",
      "_________________________________________________________________\n",
      "conv2d_2 (Conv2D)            (None, 60, 50, 32)        4640      \n",
      "_________________________________________________________________\n",
      "max_pooling2d_2 (MaxPooling2 (None, 30, 25, 32)        0         \n",
      "_________________________________________________________________\n",
      "conv2d_3 (Conv2D)            (None, 28, 23, 32)        9248      \n",
      "_________________________________________________________________\n",
      "max_pooling2d_3 (MaxPooling2 (None, 14, 11, 32)        0         \n",
      "_________________________________________________________________\n",
      "dropout (Dropout)            (None, 14, 11, 32)        0         \n",
      "_________________________________________________________________\n",
      "flatten (Flatten)            (None, 4928)              0         \n",
      "_________________________________________________________________\n",
      "dense (Dense)                (None, 64)                315456    \n",
      "_________________________________________________________________\n",
      "dropout_1 (Dropout)          (None, 64)                0         \n",
      "_________________________________________________________________\n",
      "dense_1 (Dense)              (None, 8)                 520       \n",
      "=================================================================\n",
      "Total params: 332,344\n",
      "Trainable params: 332,344\n",
      "Non-trainable params: 0\n",
      "_________________________________________________________________\n",
      "None\n"
     ]
    }
   ],
   "source": [
    "#Define Model\n",
    "model = Sequential()\n",
    "model.add(Conv2D(16, kernel_size=(3, 3), activation='relu', input_shape=(128,216,1))) # Height, Width, Num_channels\n",
    "model.add(MaxPooling2D(pool_size=(1, 2)))\n",
    "model.add(Conv2D(16, kernel_size=(3, 3), activation='relu')) # Height, Width, Num_channels\n",
    "model.add(MaxPooling2D(pool_size=(2, 2)))\n",
    "model.add(Conv2D(32, kernel_size=(3, 3), activation='relu'))\n",
    "model.add(MaxPooling2D(pool_size=(2, 2)))\n",
    "model.add(Conv2D(32, kernel_size=(3, 3), activation='relu'))\n",
    "model.add(MaxPooling2D(pool_size=(2, 2)))\n",
    "model.add(Dropout(0.25))\n",
    "model.add(Flatten())\n",
    "model.add(Dense(64, activation='relu'))\n",
    "model.add(Dropout(0.5))\n",
    "model.add(Dense(8, activation='softmax'))\n",
    "\n",
    "# optimizer=tf.keras.optimizers.adam() didnt work...\n",
    "optimizer = optimizers.SGD(lr=0.002, decay=1e-6, momentum=0.9, nesterov=True)\n",
    "\n",
    "model.compile(loss=keras.losses.sparse_categorical_crossentropy, optimizer=optimizer, metrics=['accuracy'])\n",
    "\n",
    "print(model.summary())"
   ]
  },
  {
   "cell_type": "code",
   "execution_count": 16,
   "metadata": {
    "scrolled": true
   },
   "outputs": [
    {
     "name": "stdout",
     "output_type": "stream",
     "text": [
      "Epoch 1/20\n",
      "1250/1250 [==============================] - 117s 93ms/step - loss: 2.0714 - accuracy: 0.1410 - val_loss: 2.0610 - val_accuracy: 0.1469\n",
      "Epoch 2/20\n",
      "1250/1250 [==============================] - 116s 93ms/step - loss: 1.9868 - accuracy: 0.2189 - val_loss: 1.9555 - val_accuracy: 0.2516\n",
      "Epoch 3/20\n",
      "1250/1250 [==============================] - 116s 93ms/step - loss: 1.8338 - accuracy: 0.3075 - val_loss: 1.8126 - val_accuracy: 0.3541\n",
      "Epoch 4/20\n",
      "1250/1250 [==============================] - 117s 93ms/step - loss: 1.6679 - accuracy: 0.3875 - val_loss: 1.7409 - val_accuracy: 0.3694\n",
      "Epoch 5/20\n",
      "1250/1250 [==============================] - 116s 93ms/step - loss: 1.5576 - accuracy: 0.4375 - val_loss: 1.7635 - val_accuracy: 0.3431\n",
      "Epoch 6/20\n",
      "1250/1250 [==============================] - 116s 93ms/step - loss: 1.4833 - accuracy: 0.4687 - val_loss: 1.7710 - val_accuracy: 0.3410\n",
      "Epoch 7/20\n",
      "1250/1250 [==============================] - 116s 93ms/step - loss: 1.4110 - accuracy: 0.5001 - val_loss: 1.8197 - val_accuracy: 0.3416\n",
      "Epoch 8/20\n",
      "1250/1250 [==============================] - 116s 93ms/step - loss: 1.3648 - accuracy: 0.5163 - val_loss: 2.0368 - val_accuracy: 0.3146\n",
      "Epoch 9/20\n",
      "1250/1250 [==============================] - 116s 93ms/step - loss: 1.3206 - accuracy: 0.5329 - val_loss: 1.7815 - val_accuracy: 0.3784\n",
      "Epoch 10/20\n",
      "1250/1250 [==============================] - 116s 93ms/step - loss: 1.2841 - accuracy: 0.5492 - val_loss: 2.0941 - val_accuracy: 0.3222\n",
      "Epoch 11/20\n",
      "1250/1250 [==============================] - 116s 93ms/step - loss: 1.2568 - accuracy: 0.5624 - val_loss: 2.2020 - val_accuracy: 0.3143\n",
      "Epoch 12/20\n",
      "1250/1250 [==============================] - 116s 93ms/step - loss: 1.2195 - accuracy: 0.5691 - val_loss: 1.9476 - val_accuracy: 0.3673\n",
      "Epoch 13/20\n",
      "1250/1250 [==============================] - 116s 93ms/step - loss: 1.1919 - accuracy: 0.5757 - val_loss: 1.7876 - val_accuracy: 0.3881\n",
      "Epoch 14/20\n",
      "1250/1250 [==============================] - 116s 93ms/step - loss: 1.1694 - accuracy: 0.5871 - val_loss: 1.9767 - val_accuracy: 0.3589\n",
      "Epoch 15/20\n",
      "1250/1250 [==============================] - 116s 93ms/step - loss: 1.1429 - accuracy: 0.5972 - val_loss: 1.8339 - val_accuracy: 0.4048\n",
      "Epoch 16/20\n",
      "1250/1250 [==============================] - 116s 93ms/step - loss: 1.1205 - accuracy: 0.6028 - val_loss: 1.6497 - val_accuracy: 0.4509\n",
      "Epoch 17/20\n",
      "1250/1250 [==============================] - 117s 93ms/step - loss: 1.0936 - accuracy: 0.6113 - val_loss: 1.7384 - val_accuracy: 0.4303\n",
      "Epoch 18/20\n",
      "1250/1250 [==============================] - 117s 93ms/step - loss: 1.0640 - accuracy: 0.6234 - val_loss: 1.5939 - val_accuracy: 0.4542\n",
      "Epoch 19/20\n",
      "1250/1250 [==============================] - 116s 93ms/step - loss: 1.0296 - accuracy: 0.6316 - val_loss: 1.5385 - val_accuracy: 0.4993\n",
      "Epoch 20/20\n",
      "1250/1250 [==============================] - 117s 93ms/step - loss: 1.0093 - accuracy: 0.6365 - val_loss: 1.5036 - val_accuracy: 0.4983\n",
      "2328.859635591507\n"
     ]
    }
   ],
   "source": [
    "#Train and Test The Model\n",
    "start= time.time()\n",
    "history = model.fit(x=train_spec_generator, validation_data=test_spec_generator, epochs=20, verbose=1)    # switched to 5 from 10\n",
    "\n",
    "end =time.time()\n",
    "print(end-start)"
   ]
  },
  {
   "cell_type": "code",
   "execution_count": 17,
   "metadata": {
    "scrolled": true
   },
   "outputs": [],
   "source": [
    "# Evaluating Testing Data\n",
    "\n",
    "spectrogram_preds = model.predict(test_spec_generator)\n",
    "spectrogram_preds = np.argmax(spectrogram_preds, axis=1)"
   ]
  },
  {
   "cell_type": "markdown",
   "metadata": {},
   "source": [
    "### Model Analysis"
   ]
  },
  {
   "cell_type": "code",
   "execution_count": 18,
   "metadata": {},
   "outputs": [
    {
     "name": "stdout",
     "output_type": "stream",
     "text": [
      "classification Report:\n",
      "              precision    recall  f1-score   support\n",
      "\n",
      "           0       0.39      0.72      0.51      1413\n",
      "           1       0.71      0.45      0.55      4206\n",
      "           2       0.35      0.35      0.35       829\n",
      "           3       0.58      0.74      0.65      1168\n",
      "           4       0.44      0.58      0.50      1559\n",
      "           5       0.30      0.21      0.25       378\n",
      "           6       0.40      0.31      0.35       110\n",
      "           7       0.07      0.04      0.05       568\n",
      "\n",
      "    accuracy                           0.50     10231\n",
      "   macro avg       0.41      0.42      0.40     10231\n",
      "weighted avg       0.53      0.50      0.49     10231\n",
      "\n"
     ]
    },
    {
     "data": {
      "image/png": "[encoded data removed]",
      "text/plain": [
       "<Figure size 1296x576 with 2 Axes>"
      ]
     },
     "metadata": {
      "needs_background": "light"
     },
     "output_type": "display_data"
    }
   ],
   "source": [
    "#Classification Report: \n",
    "print(\"classification Report:\")\n",
    "print(classification_report(eval_info.labels, spectrogram_preds))\n",
    "\n",
    "# Confusion Matrix\n",
    "fig=plt.figure()\n",
    "\n",
    "ax1 = plt.subplot(121)\n",
    "ax2 = plt.subplot(122)\n",
    "# fig1=plt.figure(figsize=(5,10))\n",
    "# fig2=plt.figure(figsize=(5,10))\n",
    "\n",
    "\n",
    "fig.set_size_inches(18,8)\n",
    "sns.heatmap(confusion_matrix(eval_info.labels, spectrogram_preds, normalize=None),\n",
    "            annot=True, fmt='g', cmap='Blues', cbar=False, ax=ax1)\n",
    "\n",
    "ax1.set_xlabel(\"Predicted labels\")\n",
    "ax1.set_ylabel(\"True labels\")\n",
    "ax1.set_title('Confusion matrix ')\n",
    "ax1.set_xticklabels(class_names_list)\n",
    "ax1.set_yticklabels(class_names_list, rotation='horizontal')\n",
    "\n",
    "sns.heatmap(confusion_matrix(eval_info.labels, spectrogram_preds, normalize='true'),  \n",
    "            annot=True, fmt='g', cmap='Blues', cbar=False, ax=ax2)\n",
    "ax2.set_xlabel(\"Predicted labels\")\n",
    "ax2.set_ylabel(\"True labels\")\n",
    "ax2.set_title('Confusion matrix (Normalized by True Labels)')\n",
    "ax2.set_xticklabels(class_names_list)\n",
    "ax2.set_yticklabels(class_names_list, rotation='horizontal')\n",
    "\n",
    "\n",
    "plt.show()\n",
    "# or mfcc_test_generator.classes ?"
   ]
  },
  {
   "cell_type": "code",
   "execution_count": 19,
   "metadata": {},
   "outputs": [
    {
     "data": {
      "image/png": "[encoded data removed]",
      "text/plain": [
       "<Figure size 432x288 with 1 Axes>"
      ]
     },
     "metadata": {
      "needs_background": "light"
     },
     "output_type": "display_data"
    },
    {
     "data": {
      "image/png": "[encoded data removed]",
      "text/plain": [
       "<Figure size 432x288 with 1 Axes>"
      ]
     },
     "metadata": {
      "needs_background": "light"
     },
     "output_type": "display_data"
    }
   ],
   "source": [
    "# Call back history for graphing\n",
    "# summarize history for accuracy\n",
    "plt.plot(history.history['accuracy'])\n",
    "plt.plot(history.history['val_accuracy'])\n",
    "plt.title('model accuracy')\n",
    "plt.ylabel('accuracy')\n",
    "plt.xlabel('epoch')\n",
    "plt.legend(['train', 'test'], loc='upper left')\n",
    "plt.show()\n",
    "\n",
    "# summarize history for loss\n",
    "plt.plot(history.history['loss'])\n",
    "plt.plot(history.history['val_loss'])\n",
    "plt.title('model loss')\n",
    "plt.ylabel('loss')\n",
    "plt.xlabel('epoch')\n",
    "plt.legend(['train', 'test'], loc='upper left')\n",
    "plt.show()"
   ]
  },
  {
   "cell_type": "markdown",
   "metadata": {},
   "source": [
    "### [save model, metrics, and history here]\n",
    "____"
   ]
  },
  {
   "cell_type": "markdown",
   "metadata": {},
   "source": [
    "## Part 2a: MFCC Spectograms Features\n",
    "## Model: Convolutional Neural Network\n"
   ]
  },
  {
   "cell_type": "code",
   "execution_count": 20,
   "metadata": {},
   "outputs": [
    {
     "name": "stdout",
     "output_type": "stream",
     "text": [
      "Found 40000 validated image filenames.\n",
      "Found 10231 validated image filenames.\n"
     ]
    }
   ],
   "source": [
    "# loading MFCC Spectrograms into train and test generators\n",
    "\n",
    "datagen=ImageDataGenerator(rescale=1./255.)       #validation_split=0.2\n",
    "\n",
    "mfcc_train_generator=datagen.flow_from_dataframe(\n",
    "    dataframe= dev_synth_info,\n",
    "    directory= 'data/train_mfcc',\n",
    "    x_col='png_name',\n",
    "    y_col= 'labels',\n",
    "    color_mode=\"grayscale\",\n",
    "    batch_size=32,\n",
    "    seed=42,\n",
    "    shuffle=True,\n",
    "    subset='training',\n",
    "    class_mode=\"raw\", \n",
    "    target_size=(32,216)) # target_size=(64,64)) tuple of height/width\n",
    "\n",
    "# test generator\n",
    "datagen=ImageDataGenerator(rescale=1./255.)\n",
    "\n",
    "mfcc_test_generator=datagen.flow_from_dataframe(\n",
    "    dataframe= eval_info,\n",
    "    directory= 'data/test_mfcc',\n",
    "    x_col='png_name',\n",
    "    y_col= 'labels',\n",
    "    color_mode=\"grayscale\",\n",
    "    batch_size=32,\n",
    "    seed=42,\n",
    "    shuffle=False,\n",
    "    class_mode=\"raw\", \n",
    "    target_size=(32,216)) # target_size=(64,64)) tuple of height/width"
   ]
  },
  {
   "cell_type": "code",
   "execution_count": 21,
   "metadata": {},
   "outputs": [],
   "source": [
    "# rerun this with consistent pool size of (2,2)"
   ]
  },
  {
   "cell_type": "code",
   "execution_count": 24,
   "metadata": {},
   "outputs": [
    {
     "name": "stdout",
     "output_type": "stream",
     "text": [
      "Model: \"sequential_2\"\n",
      "_________________________________________________________________\n",
      "Layer (type)                 Output Shape              Param #   \n",
      "=================================================================\n",
      "conv2d_10 (Conv2D)           (None, 32, 216, 8)        80        \n",
      "_________________________________________________________________\n",
      "max_pooling2d_8 (MaxPooling2 (None, 32, 108, 8)        0         \n",
      "_________________________________________________________________\n",
      "conv2d_11 (Conv2D)           (None, 32, 108, 8)        584       \n",
      "_________________________________________________________________\n",
      "max_pooling2d_9 (MaxPooling2 (None, 32, 54, 8)         0         \n",
      "_________________________________________________________________\n",
      "conv2d_12 (Conv2D)           (None, 32, 54, 16)        1168      \n",
      "_________________________________________________________________\n",
      "max_pooling2d_10 (MaxPooling (None, 32, 27, 16)        0         \n",
      "_________________________________________________________________\n",
      "conv2d_13 (Conv2D)           (None, 32, 27, 16)        2320      \n",
      "_________________________________________________________________\n",
      "max_pooling2d_11 (MaxPooling (None, 16, 13, 16)        0         \n",
      "_________________________________________________________________\n",
      "conv2d_14 (Conv2D)           (None, 16, 13, 32)        4640      \n",
      "_________________________________________________________________\n",
      "dropout_5 (Dropout)          (None, 16, 13, 32)        0         \n",
      "_________________________________________________________________\n",
      "conv2d_15 (Conv2D)           (None, 16, 13, 32)        9248      \n",
      "_________________________________________________________________\n",
      "dropout_6 (Dropout)          (None, 16, 13, 32)        0         \n",
      "_________________________________________________________________\n",
      "flatten_2 (Flatten)          (None, 6656)              0         \n",
      "_________________________________________________________________\n",
      "dense_4 (Dense)              (None, 128)               852096    \n",
      "_________________________________________________________________\n",
      "dropout_7 (Dropout)          (None, 128)               0         \n",
      "_________________________________________________________________\n",
      "dense_5 (Dense)              (None, 8)                 1032      \n",
      "=================================================================\n",
      "Total params: 871,168\n",
      "Trainable params: 871,168\n",
      "Non-trainable params: 0\n",
      "_________________________________________________________________\n"
     ]
    }
   ],
   "source": [
    "model = Sequential()\n",
    "\n",
    "model.add(Conv2D(8, kernel_size=(3, 3), activation='relu', padding=\"same\", input_shape=(32, 216,1)))\n",
    "model.add(MaxPooling2D(pool_size=(1, 2)))\n",
    "model.add(Conv2D(8, kernel_size=(3, 3), activation='relu', padding=\"same\"))\n",
    "model.add(MaxPooling2D(pool_size=(1, 2)))\n",
    "\n",
    "model.add(Conv2D(16, kernel_size=(3, 3), activation='relu', padding=\"same\"))\n",
    "model.add(MaxPooling2D(pool_size=(1, 2)))\n",
    "model.add(Conv2D(16, kernel_size=(3, 3), activation='relu', padding=\"same\"))\n",
    "model.add(MaxPooling2D(pool_size=(2, 2)))\n",
    "\n",
    "model.add(Conv2D(32, kernel_size=(3, 3), activation='relu', padding=\"same\"))\n",
    "model.add(Dropout(0.25))\n",
    "model.add(Conv2D(32, kernel_size=(3, 3), activation='relu', padding=\"same\"))\n",
    "model.add(Dropout(0.25))\n",
    "\n",
    "model.add(Flatten())\n",
    "model.add(Dense(128, activation='relu'))\n",
    "model.add(Dropout(0.5))\n",
    "model.add(Dense(8, activation='softmax'))\n",
    "\n",
    "optimizer = SGD(lr=0.002, decay=1e-6, momentum=0.9, nesterov=True)\n",
    "\n",
    "\n",
    "model.compile(loss=sparse_categorical_crossentropy,\n",
    "              optimizer=optimizer,\n",
    "              metrics='accuracy')\n",
    "\n",
    "model.summary()"
   ]
  },
  {
   "cell_type": "markdown",
   "metadata": {},
   "source": [
    "#### addding classes weights to model (currently disabled)"
   ]
  },
  {
   "cell_type": "code",
   "execution_count": 25,
   "metadata": {},
   "outputs": [],
   "source": [
    "# class_weights = dict(40966 / (8 *dev_info.labels.value_counts()))\n",
    "\n",
    "# # tuning: scaled back the weights of the minority classes (still within the same proportions of the training data)\n",
    "\n",
    "# tuned_class_weights= {\n",
    "#      1: 1,\n",
    "#      3: 1,\n",
    "#      0: 1,\n",
    "#      4: 1,\n",
    "#      2: 1,\n",
    "#      5: 2,\n",
    "#      7: 2,\n",
    "#      6: 2}"
   ]
  },
  {
   "cell_type": "code",
   "execution_count": 29,
   "metadata": {},
   "outputs": [
    {
     "name": "stdout",
     "output_type": "stream",
     "text": [
      "Epoch 1/10\n",
      "1250/1250 [==============================] - 53s 43ms/step - loss: 1.9235 - accuracy: 0.2495 - val_loss: 1.9435 - val_accuracy: 0.2792\n",
      "Epoch 2/10\n",
      "1250/1250 [==============================] - 26s 20ms/step - loss: 1.7025 - accuracy: 0.3750 - val_loss: 1.7853 - val_accuracy: 0.3223\n",
      "Epoch 3/10\n",
      "1250/1250 [==============================] - 26s 20ms/step - loss: 1.6246 - accuracy: 0.4099 - val_loss: 1.8279 - val_accuracy: 0.3225\n",
      "Epoch 4/10\n",
      "1250/1250 [==============================] - 26s 20ms/step - loss: 1.5659 - accuracy: 0.4357 - val_loss: 1.6693 - val_accuracy: 0.3863\n",
      "Epoch 5/10\n",
      "1250/1250 [==============================] - 26s 20ms/step - loss: 1.5186 - accuracy: 0.4529 - val_loss: 1.6340 - val_accuracy: 0.3979\n",
      "Epoch 6/10\n",
      "1250/1250 [==============================] - 26s 20ms/step - loss: 1.4801 - accuracy: 0.4689 - val_loss: 1.7424 - val_accuracy: 0.3648\n",
      "Epoch 7/10\n",
      "1250/1250 [==============================] - 26s 20ms/step - loss: 1.4367 - accuracy: 0.4854 - val_loss: 1.6789 - val_accuracy: 0.3604\n",
      "Epoch 8/10\n",
      "1250/1250 [==============================] - 26s 21ms/step - loss: 1.4023 - accuracy: 0.4988 - val_loss: 1.6213 - val_accuracy: 0.3877\n",
      "Epoch 9/10\n",
      "1250/1250 [==============================] - 26s 21ms/step - loss: 1.3636 - accuracy: 0.5097 - val_loss: 1.6970 - val_accuracy: 0.3829\n",
      "Epoch 10/10\n",
      "1250/1250 [==============================] - 26s 20ms/step - loss: 1.3317 - accuracy: 0.5256 - val_loss: 1.6585 - val_accuracy: 0.4120\n",
      "284.7731611728668\n"
     ]
    }
   ],
   "source": [
    "start =time.time()\n",
    "\n",
    "# class_weight=tuned_class_weights (disabled currently)\n",
    "\n",
    "history = model.fit(x=mfcc_train_generator, validation_data=mfcc_test_generator,\n",
    "                    callbacks=[EarlyStopping(monitor='val_accuracy', mode='max',\n",
    "                     min_delta=1, patience=50)], epochs=10,\n",
    "                     verbose=1)   \n",
    "\n",
    "end = time.time()\n",
    "print(end - start)"
   ]
  },
  {
   "cell_type": "code",
   "execution_count": null,
   "metadata": {},
   "outputs": [],
   "source": [
    "# Calculating predictions for test set\n",
    "mfcc_preds = model.predict(mfcc_test_generator, verbose=1)\n",
    "mfcc_preds = np.argmax(mfcc_preds, axis=1)"
   ]
  },
  {
   "cell_type": "code",
   "execution_count": null,
   "metadata": {},
   "outputs": [],
   "source": [
    "#Classification Report: \n",
    "print(\"classification Report:\")\n",
    "print(classification_report(eval_info.labels, mfcc_preds))"
   ]
  },
  {
   "cell_type": "markdown",
   "metadata": {},
   "source": [
    "#### [question] should include confusion matrix here or only in final notebook?"
   ]
  },
  {
   "cell_type": "markdown",
   "metadata": {},
   "source": [
    "#### [save model, metrics, and history here]\n",
    "____"
   ]
  },
  {
   "cell_type": "markdown",
   "metadata": {},
   "source": [
    "## Part 2b: MFCC Spectograms Features\n",
    "## Model: CNN Transfer Learning with ResNet50"
   ]
  },
  {
   "cell_type": "code",
   "execution_count": null,
   "metadata": {},
   "outputs": [],
   "source": [
    "# have to instaniate image generators to import images with 3 channels (rbg) to fit Resnet50 hyperparameters:\n",
    "\n",
    "train_datagen=ImageDataGenerator(rescale=1./255.)       \n",
    "mfcc_resnet_train_generator=train_datagen.flow_from_dataframe(\n",
    "    dataframe= dev_synth_info,\n",
    "    directory= 'data/train_mfcc',\n",
    "    x_col='png_no_aug',\n",
    "    y_col= 'labels',\n",
    "    color_mode=\"rgb\",\n",
    "    batch_size=64,\n",
    "    seed=42,\n",
    "    shuffle=True,\n",
    "    subset='training',\n",
    "    class_mode=\"raw\", \n",
    "    target_size=(32,216)) \n",
    "\n",
    "# test generator\n",
    "test_datagen=ImageDataGenerator(rescale=1./255.)\n",
    "mfcc_resnet_test_generator=test_datagen.flow_from_dataframe(\n",
    "    dataframe= eval_info,\n",
    "    directory= 'data/test_mfcc',\n",
    "    x_col='png_name',\n",
    "    y_col= 'labels',\n",
    "    color_mode=\"rgb\",\n",
    "    batch_size=64,\n",
    "    seed=42,\n",
    "    shuffle=False,\n",
    "    class_mode=\"raw\", \n",
    "    target_size=(32,216)) "
   ]
  },
  {
   "cell_type": "code",
   "execution_count": null,
   "metadata": {},
   "outputs": [],
   "source": [
    "# loading ResNet50 Model with ImageNet Weights\n",
    "\n",
    "resnet = ResNet50(include_top=False, weights='imagenet', input_shape=(32,216,3))   \n",
    "\n",
    "# Removing final output layer to add customized trainable layers\n",
    "output = resnet.layers[-1].output\n",
    "output = keras.layers.Flatten()(output)\n",
    "resnet = Model(inputs=resnet.input, outputs=output)\n",
    "\n",
    "\n",
    "# # commented out code is for a frozen resnet model, and uncommented is for tuneable resnet weights.\n",
    "# for layer in resnet.layers:\n",
    "#     layer.trainable = False\n",
    "\n",
    "for layer in resnet.layers:\n",
    "    if isinstance(layer, BatchNormalization):\n",
    "        layer.trainable = True\n",
    "    else:\n",
    "        layer.trainable = False\n",
    "        \n",
    "        \n",
    "# summary of Resnet50 model:\n",
    "resnet.summary() "
   ]
  },
  {
   "cell_type": "code",
   "execution_count": null,
   "metadata": {},
   "outputs": [],
   "source": [
    "#instantiating an empty model, loading Resnet50 layers and weights, adding 2 custom layers and an output layer.\n",
    "\n",
    "model = Sequential()\n",
    "model.add(resnet)\n",
    "model.add(Dense(512, activation='relu', input_dim=(32,216,3)))\n",
    "model.add(Dropout(0.3))\n",
    "model.add(Dense(256, activation='relu'))\n",
    "model.add(Dropout(0.3))\n",
    "model.add(Dense(8, activation='softmax'))\n",
    "\n",
    "model.compile(loss=keras.losses.sparse_categorical_crossentropy,\n",
    "              optimizer=SGD(lr=0.01, decay=1e-6, momentum=0.9, nesterov=True),\n",
    "              metrics='accuracy')\n",
    "\n",
    "model.summary()"
   ]
  },
  {
   "cell_type": "code",
   "execution_count": null,
   "metadata": {},
   "outputs": [],
   "source": [
    "start =time.time()\n",
    "\n",
    "resnet_history = model.fit(x=mfcc_train_generator, validation_data=mfcc_test_generator,\n",
    "                    epochs= 10, workers=36, verbose=1)   \n",
    "\n",
    "end = time.time()\n",
    "print(end - start)"
   ]
  },
  {
   "cell_type": "code",
   "execution_count": null,
   "metadata": {},
   "outputs": [],
   "source": [
    "# making predictions on test set\n",
    "\n",
    "resnet_preds = model.predict(mfcc_test_generator)\n",
    "resnet_preds = np.argmax(resnet_preds, axis=1)"
   ]
  },
  {
   "cell_type": "code",
   "execution_count": null,
   "metadata": {},
   "outputs": [],
   "source": [
    "#Classification Report: \n",
    "print(\"classification Report:\")\n",
    "print(classification_report(eval_info.labels, resnet_preds))"
   ]
  },
  {
   "cell_type": "markdown",
   "metadata": {},
   "source": [
    "### [saved model, etc.]\n",
    "___"
   ]
  },
  {
   "cell_type": "markdown",
   "metadata": {},
   "source": [
    "## Part 3\n",
    "- In this section we will use the feature set of the mean MFCC values. -\n",
    "- This is the average of the Mel-Frequency Cepstrum Coefficients aggegrated over time. Thus for each audio event we have 32 MFC coefficients. \n",
    "- Now that no longer have an image but rather a 1-d array of features, we can apply standard classification algorithms to these features. \n",
    "- In the section we will train a standard Neural Network, Logistic Regression, Random Forest, and Support Vector Machine Classifier."
   ]
  },
  {
   "cell_type": "markdown",
   "metadata": {},
   "source": [
    "#### loading Training and Test Features: Numpy Arrays of Mean MFCC values  "
   ]
  },
  {
   "cell_type": "code",
   "execution_count": null,
   "metadata": {},
   "outputs": [],
   "source": [
    "# loading Training and Testing Data features: Numpy Arrays of Mean MFCC values\n",
    "    \n",
    "X_train = np.load('data/train_mean_mfcc.npz')['arr_0']\n",
    "X_train_resamp = np.load('data/train_resamp_mean_mfcc_values.npz')['arr_0']\n",
    "X_test = np.load('data/test_mean_mfcc.npz')['arr_0']\n",
    "X_test_aug = np.load('data/test_augmented_mean_mfcc_values.npz')['arr_0']\n",
    "\n",
    "# declaring target variable:\n",
    "\n",
    "y_train = dev_info['labels'].to_numpy()\n",
    "y_test = eval_info['labels'].to_numpy()\n",
    "y_train_resamp = dev_info_resamp['labels'].to_numpy()\n",
    "\n",
    "# scaling features and assigning indices \n",
    "\n",
    "scaler = StandardScaler()\n",
    "X_train = scaler.fit_transform(X_train)\n",
    "X_train_resamp = scaler.fit_transform(X_train_resamp)\n",
    "X_test = scaler.fit_transform(X_test)\n",
    "X_test_aug = scaler.fit_transform(X_test_aug)\n",
    "\n",
    "print(X_train.shape)\n",
    "print(X_train_resamp.shape)\n",
    "print(X_test.shape)\n",
    "print(X_test_aug.shape)\n",
    "\n",
    "print(y_train.shape)\n",
    "print(y_train_resamp.shape)\n",
    "print(y_test.shape)"
   ]
  },
  {
   "cell_type": "markdown",
   "metadata": {},
   "source": [
    "### Part 3a: Mean MFCC Value Features\n",
    "### Model: Neural Network"
   ]
  },
  {
   "cell_type": "code",
   "execution_count": null,
   "metadata": {},
   "outputs": [],
   "source": [
    "model = Sequential()\n",
    "model.add(Dense(16, input_dim=32, activation='relu'))\n",
    "model.add(Dropout(0.2))\n",
    "model.add(Dense(16, activation='relu'))\n",
    "model.add(Dropout(0.2))\n",
    "model.add(Dense(32, activation='relu'))\n",
    "#model.add(Dropout(0.25))\n",
    "model.add(Dense(32, activation='relu'))\n",
    "#model.add(Dropout(0.25))\n",
    "#model.add(Dense(128, activation='relu'))\n",
    "#model.add(Dropout(0.25))\n",
    "model.add(Dense(8, activation='softmax'))\n",
    "\n",
    "# compile the keras model\n",
    "model.compile(loss=keras.losses.sparse_categorical_crossentropy, optimizer='adam', metrics=['accuracy'])\n",
    "model.summary()"
   ]
  },
  {
   "cell_type": "code",
   "execution_count": null,
   "metadata": {},
   "outputs": [],
   "source": [
    "model.fit(X_train, y_train, validation_data = (X_test_aug, y_test), epochs=50, batch_size=32, verbose=1)"
   ]
  },
  {
   "cell_type": "code",
   "execution_count": null,
   "metadata": {},
   "outputs": [],
   "source": [
    "# Making predictions on the test set\n",
    "\n",
    "mean_mfcc_preds =  model.predict(X_test_aug)\n",
    "mean_mfcc_preds = np.argmax(mean_mfcc_preds, axis=1)"
   ]
  },
  {
   "cell_type": "code",
   "execution_count": null,
   "metadata": {},
   "outputs": [],
   "source": [
    "#Classification Report: \n",
    "print(\"classification Report:\")\n",
    "print(classification_report(eval_info.labels, mean_mfcc_preds))"
   ]
  },
  {
   "cell_type": "markdown",
   "metadata": {},
   "source": [
    "#### [save model here]"
   ]
  },
  {
   "cell_type": "markdown",
   "metadata": {},
   "source": [
    "### Part 3b: Mean MFCC Value Features\n",
    "### Model: Logistic Regression\n",
    "#### Hyperparameters:\n",
    "- Regularization Penalty: Elastic Net (l1_ratio=0.5)\n",
    "- Solver: SAGA (extension of Stochastic Average Gradient(SAG) descent with L1 regualization, generally faster than SAG)"
   ]
  },
  {
   "cell_type": "code",
   "execution_count": null,
   "metadata": {},
   "outputs": [],
   "source": [
    "## Baseline Model: Logistic Regression\n",
    "\n",
    "# saga= stochastic average gradient descent\n",
    "lr = LogisticRegression(penalty= 'elasticnet', solver='saga', l1_ratio= 0.5, max_iter=500)\n",
    "lr.fit(X_train_resamp, y_train_resamp)\n",
    "lr_preds= lr.predict(X_test_aug)\n",
    "\n",
    "print(classification_report(y_test, lr_preds))"
   ]
  },
  {
   "cell_type": "markdown",
   "metadata": {},
   "source": [
    "### Part 3c: Mean MFCC Value Features\n",
    "### Model: Random Forest\n",
    "#### Hyperparameters:\n",
    "\n",
    "- Tuning \"n_estimators\"(number of trees), \"max_features\"(number of features to analyze at each split), \"max_depth\"(number of levels in the tree)\n",
    "- Employing a Random Grid Search with 3 fold Cross-Validation with 50 iterations"
   ]
  },
  {
   "cell_type": "code",
   "execution_count": null,
   "metadata": {},
   "outputs": [],
   "source": [
    "# return to this article on tuning: https://towardsdatascience.com/hyperparameter-tuning-the-random-forest-in-python-using-scikit-learn-28d2aa77dd74\n",
    "\n",
    "# Number of trees in random forest\n",
    "n_estimators = [int(x) for x in np.linspace(start = 50, stop = 500, num = 20)] #originally 200-2000\n",
    "# Number of features to consider at every split\n",
    "\n",
    "#changed from 'auto ' to None as 'auto' is same as 'sqrt'\n",
    "max_features = [None, 'sqrt'] \n",
    "# Maximum number of levels in tree\n",
    "max_depth = [int(x) for x in np.linspace(5, 50, num = 11)]\n",
    "max_depth.append(None)\n",
    "# # Minimum number of samples required to split a node\n",
    "# min_samples_split = [2, 5, 10]\n",
    "# # Minimum number of samples required at each leaf node\n",
    "# min_samples_leaf = [1, 2, 4]\n",
    "\n",
    "# Create the random grid\n",
    "random_grid = {'n_estimators': n_estimators,\n",
    "               'max_features': max_features,\n",
    "               'max_depth': max_depth}\n",
    "#                'min_samples_split': min_samples_split,\n",
    "#                'min_samples_leaf': min_samples_leaf}"
   ]
  },
  {
   "cell_type": "code",
   "execution_count": null,
   "metadata": {},
   "outputs": [],
   "source": [
    "start = time.time()\n",
    "\n",
    "# Using random grid to search for best hyperparameters\n",
    "\n",
    "# Creating the base model to tune\n",
    "rf = RandomForestClassifier()\n",
    "\n",
    "# Random search of parameters, using 3 fold cross validation, \n",
    "# search across 50 different combinations, and use all available cores\n",
    "rf_random_cv = RandomizedSearchCV(estimator = rf, \n",
    "                                  param_distributions = random_grid, \n",
    "                                  n_iter = 50, \n",
    "                                  cv = 3, \n",
    "                                  verbose=1, \n",
    "                                  random_state=42, \n",
    "                                  n_jobs =-1)\n",
    "\n",
    "# Fit the random search model\n",
    "rf_random_cv.fit(X_train_resamp, y_train_resamp)\n",
    "\n",
    "stop = time.time()\n",
    "print(stop - start)"
   ]
  },
  {
   "cell_type": "code",
   "execution_count": null,
   "metadata": {},
   "outputs": [],
   "source": [
    "print(\"Best Parameters:\", rf_random_cv.best_params_)"
   ]
  },
  {
   "cell_type": "code",
   "execution_count": null,
   "metadata": {},
   "outputs": [],
   "source": [
    "rf_preds = rf_random_cv.best_estimator_.predict(X_test)\n",
    "\n",
    "#Classification Report: \n",
    "print(\"classification Report:\")\n",
    "print(classification_report(y_test, rf_preds))"
   ]
  },
  {
   "cell_type": "markdown",
   "metadata": {},
   "source": [
    "#### Feature Importance"
   ]
  },
  {
   "cell_type": "code",
   "execution_count": null,
   "metadata": {},
   "outputs": [],
   "source": [
    "# Impurity-based feature importances. The higher, the more important the feature. \n",
    "# The importance of a feature is computed as the (normalized) total reduction of \n",
    "# the criterion brought by that feature. It is also known as the Gini importance.\n",
    "# Warning: impurity-based feature importances can be misleading for high cardinality \n",
    "# features (many unique values). \n",
    "# Consider sklearn.inspection.permutation_importance as an alternative.\n",
    "\n",
    "plt.figure(figsize=(14,6))\n",
    "sns.barplot(y=list(range(1,33)), x=rf_random_cv.best_estimator_.feature_importances_, orient='h')\n",
    "plt.title('MFC Coefficient Feature Importance from Random Forest Model')"
   ]
  },
  {
   "cell_type": "markdown",
   "metadata": {},
   "source": [
    "### Part 3c: Mean MFCC Value Features\n",
    "### Model: Support Vector Machine Classifier\n",
    "#### Hyperparameters:\n",
    " - Tuning the kernel with either \"linear\" or \"rbf\", \"gamma\" from a reciprocal distribution from 0.001 to 1, \"C\" from a uniform distributin from 0.1 to 100.\n",
    " - Employed a Random Grid Search with 3 fold Cross-Validation with 20 iterations."
   ]
  },
  {
   "cell_type": "code",
   "execution_count": null,
   "metadata": {},
   "outputs": [],
   "source": [
    "# alternatively:\n",
    "start= time.time()\n",
    "\n",
    "svc = SVC()\n",
    "\n",
    "# Adding all values of hyperparameters in a list from which the values of hyperparameter\n",
    "# will randomly inserted as hyperparameter\n",
    "param_distributions = {\"gamma\": reciprocal(0.001, 1),\n",
    "                       \"C\": uniform(0.1, 100), # 0.1 - 100\n",
    "                      kernel': ['linear','rbf']} \n",
    "                       \n",
    "\n",
    "svc_random_cv = RandomizedSearchCV(svc, \n",
    "                                   param_distributions, \n",
    "                                   n_iter=20, \n",
    "                                   verbose=2, \n",
    "                                   cv=3, \n",
    "                                   n_jobs =-1) \n",
    "\n",
    "svc_random_cv.fit(X_train_resamp, y_train_resamp)\n",
    "\n",
    "end= time.time()\n",
    "print(end - start)"
   ]
  },
  {
   "cell_type": "code",
   "execution_count": null,
   "metadata": {},
   "outputs": [],
   "source": []
  },
  {
   "cell_type": "code",
   "execution_count": null,
   "metadata": {},
   "outputs": [],
   "source": []
  },
  {
   "cell_type": "code",
   "execution_count": null,
   "metadata": {},
   "outputs": [],
   "source": []
  },
  {
   "cell_type": "code",
   "execution_count": null,
   "metadata": {},
   "outputs": [],
   "source": []
  },
  {
   "cell_type": "code",
   "execution_count": null,
   "metadata": {},
   "outputs": [],
   "source": []
  },
  {
   "cell_type": "markdown",
   "metadata": {},
   "source": [
    "## End | Notes Below"
   ]
  }
 ],
 "metadata": {
  "kernelspec": {
   "display_name": "conda_python3",
   "language": "python",
   "name": "conda_python3"
  },
  "language_info": {
   "codemirror_mode": {
    "name": "ipython",
    "version": 3
   },
   "file_extension": ".py",
   "mimetype": "text/x-python",
   "name": "python",
   "nbconvert_exporter": "python",
   "pygments_lexer": "ipython3",
   "version": "3.6.10"
  }
 },
 "nbformat": 4,
 "nbformat_minor": 4
}
