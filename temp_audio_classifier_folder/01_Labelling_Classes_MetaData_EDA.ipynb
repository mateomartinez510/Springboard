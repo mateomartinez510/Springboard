{
 "cells": [
  {
   "cell_type": "markdown",
   "metadata": {},
   "source": [
    "### Loose EDA"
   ]
  },
  {
   "cell_type": "markdown",
   "metadata": {},
   "source": [
    "data: from https://zenodo.org/record/4060432#.X5ySHHhKgWo\n",
    "\n",
    "\n",
    "Thesis: identify humans (voice), animals, instruments, water, door, car, explosion (boom, thunder)\n",
    "\n",
    "3 Main CNN Models:\n",
    "\n",
    "Spectrograms\n",
    "MFCC Image Analysis\n",
    "Mean-MFCC Coefficient Analysis\n",
    "\n",
    "To do items:\n",
    "\n",
    "Update:\n",
    "1. model on image analysis of Mel Frequency Spectrogram (images)\n",
    "2. model on analysis of coefficients of MFCC (unless it ends up making sense to analyze the image as well)\n",
    "\n",
    "\n",
    "- create new columns of labels I will use (tags too long and many)\n",
    "\n",
    "- extract MFCC of all files to add to dataframe\n",
    "\n",
    "- consider need to trim audio files to make same length, OR adding length to short files (padding them?)"
   ]
  },
  {
   "cell_type": "code",
   "execution_count": 9,
   "metadata": {},
   "outputs": [],
   "source": [
    "import pandas as pd\n",
    "%matplotlib inline"
   ]
  },
  {
   "cell_type": "code",
   "execution_count": 51,
   "metadata": {},
   "outputs": [],
   "source": [
    "dev_info = pd.read_json('data/FSD50K.metadata/dev_clips_info_FSD50K.json').T"
   ]
  },
  {
   "cell_type": "code",
   "execution_count": 52,
   "metadata": {},
   "outputs": [],
   "source": [
    "eval_info = pd.read_json('data/FSD50K.metadata/eval_clips_info_FSD50K.json').T"
   ]
  },
  {
   "cell_type": "code",
   "execution_count": 53,
   "metadata": {},
   "outputs": [
    {
     "data": {
      "text/html": [
       "<div>\n",
       "<style scoped>\n",
       "    .dataframe tbody tr th:only-of-type {\n",
       "        vertical-align: middle;\n",
       "    }\n",
       "\n",
       "    .dataframe tbody tr th {\n",
       "        vertical-align: top;\n",
       "    }\n",
       "\n",
       "    .dataframe thead th {\n",
       "        text-align: right;\n",
       "    }\n",
       "</style>\n",
       "<table border=\"1\" class=\"dataframe\">\n",
       "  <thead>\n",
       "    <tr style=\"text-align: right;\">\n",
       "      <th></th>\n",
       "      <th>title</th>\n",
       "      <th>description</th>\n",
       "      <th>tags</th>\n",
       "      <th>license</th>\n",
       "      <th>uploader</th>\n",
       "      <th>track_num</th>\n",
       "      <th>wav_name</th>\n",
       "      <th>png_name</th>\n",
       "    </tr>\n",
       "  </thead>\n",
       "  <tbody>\n",
       "    <tr>\n",
       "      <th>63</th>\n",
       "      <td>RalfHutterWorking.wav</td>\n",
       "      <td>Ralf Hutter from Kraftwerk saying \"Working on ...</td>\n",
       "      <td>[male, voice]</td>\n",
       "      <td>http://creativecommons.org/licenses/by/3.0/</td>\n",
       "      <td>fectoper</td>\n",
       "      <td>63</td>\n",
       "      <td>63.wav</td>\n",
       "      <td>63.png</td>\n",
       "    </tr>\n",
       "    <tr>\n",
       "      <th>136</th>\n",
       "      <td>keyboard-rhymtic.wav</td>\n",
       "      <td>Noise of an average logitech keyboard. Pretty ...</td>\n",
       "      <td>[keyboard, rhythmic, tap, type]</td>\n",
       "      <td>http://creativecommons.org/licenses/by/3.0/</td>\n",
       "      <td>Anton</td>\n",
       "      <td>136</td>\n",
       "      <td>136.wav</td>\n",
       "      <td>136.png</td>\n",
       "    </tr>\n",
       "    <tr>\n",
       "      <th>137</th>\n",
       "      <td>keyboard-typing.wav</td>\n",
       "      <td>Noise of an average logitech keyboard. Pretty ...</td>\n",
       "      <td>[computer, environmental-sounds-research, key,...</td>\n",
       "      <td>http://creativecommons.org/licenses/by/3.0/</td>\n",
       "      <td>Anton</td>\n",
       "      <td>137</td>\n",
       "      <td>137.wav</td>\n",
       "      <td>137.png</td>\n",
       "    </tr>\n",
       "    <tr>\n",
       "      <th>221</th>\n",
       "      <td>bell.wav</td>\n",
       "      <td>simple *ting* sound</td>\n",
       "      <td>[bell]</td>\n",
       "      <td>http://creativecommons.org/publicdomain/zero/1.0/</td>\n",
       "      <td>Erratic</td>\n",
       "      <td>221</td>\n",
       "      <td>221.wav</td>\n",
       "      <td>221.png</td>\n",
       "    </tr>\n",
       "    <tr>\n",
       "      <th>236</th>\n",
       "      <td>BUSSES.aiff</td>\n",
       "      <td>Departing busses\\r\\n at Utrecht Central Railwa...</td>\n",
       "      <td>[bus, depart, drive, station]</td>\n",
       "      <td>http://creativecommons.org/licenses/by-nc/3.0/</td>\n",
       "      <td>hanstimm</td>\n",
       "      <td>236</td>\n",
       "      <td>236.wav</td>\n",
       "      <td>236.png</td>\n",
       "    </tr>\n",
       "  </tbody>\n",
       "</table>\n",
       "</div>"
      ],
      "text/plain": [
       "                     title                                        description  \\\n",
       "63   RalfHutterWorking.wav  Ralf Hutter from Kraftwerk saying \"Working on ...   \n",
       "136   keyboard-rhymtic.wav  Noise of an average logitech keyboard. Pretty ...   \n",
       "137    keyboard-typing.wav  Noise of an average logitech keyboard. Pretty ...   \n",
       "221               bell.wav                                simple *ting* sound   \n",
       "236            BUSSES.aiff  Departing busses\\r\\n at Utrecht Central Railwa...   \n",
       "\n",
       "                                                  tags  \\\n",
       "63                                       [male, voice]   \n",
       "136                    [keyboard, rhythmic, tap, type]   \n",
       "137  [computer, environmental-sounds-research, key,...   \n",
       "221                                             [bell]   \n",
       "236                      [bus, depart, drive, station]   \n",
       "\n",
       "                                               license  uploader  track_num  \\\n",
       "63         http://creativecommons.org/licenses/by/3.0/  fectoper         63   \n",
       "136        http://creativecommons.org/licenses/by/3.0/     Anton        136   \n",
       "137        http://creativecommons.org/licenses/by/3.0/     Anton        137   \n",
       "221  http://creativecommons.org/publicdomain/zero/1.0/   Erratic        221   \n",
       "236     http://creativecommons.org/licenses/by-nc/3.0/  hanstimm        236   \n",
       "\n",
       "    wav_name png_name  \n",
       "63    63.wav   63.png  \n",
       "136  136.wav  136.png  \n",
       "137  137.wav  137.png  \n",
       "221  221.wav  221.png  \n",
       "236  236.wav  236.png  "
      ]
     },
     "execution_count": 53,
     "metadata": {},
     "output_type": "execute_result"
    }
   ],
   "source": [
    "dev_info['track_num'] = dev_info.index\n",
    "dev_info['wav_name'] = dev_info['track_num'].apply(lambda x: str(x) + '.wav')\n",
    "dev_info['png_name'] = dev_info['track_num'].apply(lambda x: str(x) + '.png')\n",
    "dev_info = dev_info.sort_index()\n",
    "dev_info.head()"
   ]
  },
  {
   "cell_type": "code",
   "execution_count": 54,
   "metadata": {},
   "outputs": [
    {
     "data": {
      "text/plain": [
       "(40966, 8)"
      ]
     },
     "execution_count": 54,
     "metadata": {},
     "output_type": "execute_result"
    }
   ],
   "source": [
    "dev_info.shape"
   ]
  },
  {
   "cell_type": "code",
   "execution_count": 55,
   "metadata": {
    "scrolled": true
   },
   "outputs": [
    {
     "data": {
      "text/html": [
       "<div>\n",
       "<style scoped>\n",
       "    .dataframe tbody tr th:only-of-type {\n",
       "        vertical-align: middle;\n",
       "    }\n",
       "\n",
       "    .dataframe tbody tr th {\n",
       "        vertical-align: top;\n",
       "    }\n",
       "\n",
       "    .dataframe thead th {\n",
       "        text-align: right;\n",
       "    }\n",
       "</style>\n",
       "<table border=\"1\" class=\"dataframe\">\n",
       "  <thead>\n",
       "    <tr style=\"text-align: right;\">\n",
       "      <th></th>\n",
       "      <th>title</th>\n",
       "      <th>description</th>\n",
       "      <th>tags</th>\n",
       "      <th>license</th>\n",
       "      <th>uploader</th>\n",
       "      <th>track_num</th>\n",
       "      <th>wav_name</th>\n",
       "      <th>png_name</th>\n",
       "    </tr>\n",
       "  </thead>\n",
       "  <tbody>\n",
       "    <tr>\n",
       "      <th>391277</th>\n",
       "      <td>Spring Birds Forest 04 Amp.wav</td>\n",
       "      <td>An other birds singings recorded on the mornin...</td>\n",
       "      <td>[birdsong, bird, forest, environment, morning,...</td>\n",
       "      <td>http://creativecommons.org/publicdomain/zero/1.0/</td>\n",
       "      <td>ANARKYA</td>\n",
       "      <td>391277</td>\n",
       "      <td>391277.wav</td>\n",
       "      <td>391277.png</td>\n",
       "    </tr>\n",
       "    <tr>\n",
       "      <th>392115</th>\n",
       "      <td>Snap of fingers</td>\n",
       "      <td>a snap of one's fingers</td>\n",
       "      <td>[fingers, finger, 5maudio17, uam, fingersnap]</td>\n",
       "      <td>http://creativecommons.org/publicdomain/zero/1.0/</td>\n",
       "      <td>edton</td>\n",
       "      <td>392115</td>\n",
       "      <td>392115.wav</td>\n",
       "      <td>392115.png</td>\n",
       "    </tr>\n",
       "    <tr>\n",
       "      <th>411438</th>\n",
       "      <td>Pouring Water</td>\n",
       "      <td>A sound of Hot water pouring into a cup</td>\n",
       "      <td>[fill, can, beverage, glass, water, pour, drin...</td>\n",
       "      <td>http://creativecommons.org/publicdomain/zero/1.0/</td>\n",
       "      <td>edsward</td>\n",
       "      <td>411438</td>\n",
       "      <td>411438.wav</td>\n",
       "      <td>411438.png</td>\n",
       "    </tr>\n",
       "    <tr>\n",
       "      <th>395238</th>\n",
       "      <td>Tearing papers.wav</td>\n",
       "      <td>Tearing papers with reverb.\\r\\n\\r\\nI used a Sa...</td>\n",
       "      <td>[ripping, papier, paper, scheuren, rip, tearing]</td>\n",
       "      <td>http://creativecommons.org/licenses/by/3.0/</td>\n",
       "      <td>ellenmentor</td>\n",
       "      <td>395238</td>\n",
       "      <td>395238.wav</td>\n",
       "      <td>395238.png</td>\n",
       "    </tr>\n",
       "    <tr>\n",
       "      <th>425681</th>\n",
       "      <td>sigh.mp3</td>\n",
       "      <td>i recorded me sighing.</td>\n",
       "      <td>[sad, happy, sigh]</td>\n",
       "      <td>http://creativecommons.org/publicdomain/zero/1.0/</td>\n",
       "      <td>Camo1018</td>\n",
       "      <td>425681</td>\n",
       "      <td>425681.wav</td>\n",
       "      <td>425681.png</td>\n",
       "    </tr>\n",
       "  </tbody>\n",
       "</table>\n",
       "</div>"
      ],
      "text/plain": [
       "                                 title  \\\n",
       "391277  Spring Birds Forest 04 Amp.wav   \n",
       "392115                 Snap of fingers   \n",
       "411438                   Pouring Water   \n",
       "395238              Tearing papers.wav   \n",
       "425681                        sigh.mp3   \n",
       "\n",
       "                                              description  \\\n",
       "391277  An other birds singings recorded on the mornin...   \n",
       "392115                            a snap of one's fingers   \n",
       "411438            A sound of Hot water pouring into a cup   \n",
       "395238  Tearing papers with reverb.\\r\\n\\r\\nI used a Sa...   \n",
       "425681                             i recorded me sighing.   \n",
       "\n",
       "                                                     tags  \\\n",
       "391277  [birdsong, bird, forest, environment, morning,...   \n",
       "392115      [fingers, finger, 5maudio17, uam, fingersnap]   \n",
       "411438  [fill, can, beverage, glass, water, pour, drin...   \n",
       "395238   [ripping, papier, paper, scheuren, rip, tearing]   \n",
       "425681                                 [sad, happy, sigh]   \n",
       "\n",
       "                                                  license     uploader  \\\n",
       "391277  http://creativecommons.org/publicdomain/zero/1.0/      ANARKYA   \n",
       "392115  http://creativecommons.org/publicdomain/zero/1.0/        edton   \n",
       "411438  http://creativecommons.org/publicdomain/zero/1.0/      edsward   \n",
       "395238        http://creativecommons.org/licenses/by/3.0/  ellenmentor   \n",
       "425681  http://creativecommons.org/publicdomain/zero/1.0/     Camo1018   \n",
       "\n",
       "        track_num    wav_name    png_name  \n",
       "391277     391277  391277.wav  391277.png  \n",
       "392115     392115  392115.wav  392115.png  \n",
       "411438     411438  411438.wav  411438.png  \n",
       "395238     395238  395238.wav  395238.png  \n",
       "425681     425681  425681.wav  425681.png  "
      ]
     },
     "execution_count": 55,
     "metadata": {},
     "output_type": "execute_result"
    }
   ],
   "source": [
    "eval_info['track_num'] = eval_info.index\n",
    "eval_info['wav_name'] = eval_info['track_num'].apply(lambda x: str(x) + '.wav')\n",
    "eval_info['png_name'] = eval_info['track_num'].apply(lambda x: str(x) + '.png')\n",
    "\n",
    "eval_info.head()"
   ]
  },
  {
   "cell_type": "code",
   "execution_count": 56,
   "metadata": {},
   "outputs": [
    {
     "data": {
      "text/plain": [
       "(10231, 8)"
      ]
     },
     "execution_count": 56,
     "metadata": {},
     "output_type": "execute_result"
    }
   ],
   "source": [
    "eval_info.shape"
   ]
  },
  {
   "cell_type": "markdown",
   "metadata": {},
   "source": [
    "# Building Labels Column with Lamdba Conditional Functions"
   ]
  },
  {
   "cell_type": "code",
   "execution_count": 71,
   "metadata": {},
   "outputs": [],
   "source": [
    "human_words = ['human', 'man', 'male', 'voice','woman','female',\n",
    "                'talk', 'talking', 'announcement', 'announcer',\n",
    "              'conversations', 'people', 'chant', 'whisper',\n",
    "              'speech','yelling', 'yell']\n",
    "\n",
    "comedy_words = ['comedy', 'laughing', 'laughs', 'laugh']\n",
    "\n",
    "foley_words = ['keyboard', 'keys', 'coin', 'money', 'scratch', 'coins', \n",
    "               'crackle', 'eating', 'click', 'zipper', 'tools', 'foley', 'breath', 'cough',\n",
    "              'creaking', 'squeak', 'skateboard', 'bicycle', 'bike', 'crunch',\n",
    "              'crinkle', 'thump', 'noise', 'plastic', 'sfx', 'typing', 'zip', 'knife',\n",
    "              'tape', 'breathe', 'brush', 'toothbrush', 'velcro', 'cup', 'scissors',\n",
    "               'swish', 'hands', 'flame', 'shuffling', 'eat', 'sigh', 'pen']\n",
    "\n",
    "baby_words = ['crying','baby', 'scream', 'screaming', 'children','child','kids', 'boy', 'girl']\n",
    "\n",
    "animal_words = ['dog', 'dogs', 'cat', 'bark', 'purr', 'frogs','frog', 'cricket', \n",
    "                'crickets', 'birds', 'bird', 'warbler', 'insects','birdsong',\n",
    "               'bee', 'insect','pigs', 'pig','animal-sounds','grasshopper','bugs',\n",
    "               'ducks', 'rooster', 'owl', 'monkey', 'animals', 'cattle',\n",
    "               'hen', 'hens', 'fart','flatulence', 'animal', 'belch', 'burp',\n",
    "                'neighing','snorting','whinny', 'whinnie','snort', 'breathing',\n",
    "               'yawn','farm', 'sneeze', 'snore', 'growl', 'throat','canary', 'geese']\n",
    "\n",
    "music_words = ['instrument', 'guitar', 'piano', 'bell', 'shaker', \n",
    "               'sax', 'clarinet', 'riff', 'single-note', 'chord',\n",
    "              'electric-piano', 'bass', 'cello', 'organ', 'violin', 'viola', \n",
    "               'double-bass', 'classical-guitar', 'chordophone',\n",
    "               'transverse-flute','bassoon', 'flute', 'trumpet', 'harmonica',\n",
    "              'music', 'brass', 'saxophone', 'orchestra', 'drumloop', 'chords',\n",
    "              'bells', 'electro', 'groovy', 'world-music', 'clink', 'horn',\n",
    "              'harp', 'theremin', 'xylophone', 'ukulele', 'vibraphone',\n",
    "              'metalic', 'singing', 'vocals', 'gong', 'doorbell', 'ringtone',\n",
    "              'marimba', 'singing-bowl', 'windchime']\n",
    "\n",
    "percussion_words = ['drums', 'drum', 'bass-drum', 'percussion', \n",
    "                    'cymbal' ,'hi-hat', 'hihat','tambourine''xylophone', 'didgeridoo', 'snare',\n",
    "                   'tambourine', 'fingersnap', 'tabla', 'percussive', 'clapping', 'rattle',\n",
    "                   'bassdrum']\n",
    "\n",
    "nature_words = ['water', 'rain', 'wind', 'ocean', 'waterfall', 'peeing',\n",
    "                'whoosh', 'nature', 'faucet', 'boiling', 'dripping', 'flush', 'liquid',\n",
    "               'river', 'flushing']\n",
    "\n",
    "machinery_words = ['car', 'engine', 'bus', 'driving', 'drive', 'mixer',\n",
    "                   'machine', 'drill','blender', 'blendering', 'trains','train', 'metro',\n",
    "                  'helicopter', 'motorcycle', 'airplane', 'mechanical', 'vacuum', 'truck',\n",
    "                  'cars', 'subway', 'motor', 'electric']\n",
    "\n",
    "ambient_words = ['environmental-sounds-research','applause', 'clap', 'crowd', 'traffic',\n",
    "                'air', 'sea', 'fan', 'london', 'aviation','aircraft', 'city', 'ferry',\n",
    "                'ship']\n",
    "\n",
    "door_words = ['door', 'opening', 'closing', 'drawer', 'shut', 'close', 'gate', 'doorslam',\n",
    "             'breaking', 'tear']\n",
    "\n",
    "fire_words = ['lighter','fire', 'spark', 'explosion', 'glass', 'thunder', \n",
    "              'lightning', 'gun', 'crack','burning', 'bang', 'banging', 'hit',\n",
    "             'beep', 'beeping', 'kettle', 'alarm', 'phone', 'fireworks', 'breaking-glass',\n",
    "             'pistol', 'rifle', 'shot', 'pop','break','steam', 'siren', 'shotgun']\n",
    "\n",
    "movement_words = ['footsteps', 'clop', 'walk', 'walking','steps', 'hooves', 'trot',\n",
    "                  'gallop', 'horse', 'running', 'footstep']\n",
    "\n",
    "# combine foley with household\n",
    "household_words = ['cooking', 'pot', 'pan', 'slicing', 'cutting', 'cut', 'writing', 'write'\n",
    "                   'sharpening', 'clock', 'ticking', 'paper', 'camera', 'metal', 'hammer', 'telephone',\n",
    "                  'tap', 'tapping', 'kitchen', 'tool', 'saw', 'printer', 'wood', 'microwave',\n",
    "                  'bathroom']\n",
    "\n",
    "\n",
    "\n",
    "\n",
    "def cat_labeler(tag_list):\n",
    "    if set(human_words).intersection(tag_list):\n",
    "        return 0 #'human'\n",
    "    elif set(comedy_words).intersection(tag_list):\n",
    "        return 1 #'comedy'\n",
    "    elif set(door_words).intersection(tag_list):\n",
    "        return 2 #'door'  \n",
    "    elif set(baby_words).intersection(tag_list):\n",
    "        return 3 #'baby'\n",
    "    elif set(animal_words).intersection(tag_list):\n",
    "        return 4 #'animal'    \n",
    "    elif set(music_words).intersection(tag_list):\n",
    "        return 5 #'music'\n",
    "    elif set(percussion_words).intersection(tag_list):\n",
    "        return 6 #'percussion'\n",
    "    elif set(machinery_words).intersection(tag_list):\n",
    "        return 7 #'machines'\n",
    "    elif set(ambient_words).intersection(tag_list):\n",
    "        return  8#'ambient'\n",
    "    elif set(fire_words).intersection(tag_list):\n",
    "        return 9 #'fire'   \n",
    "    elif set(movement_words).intersection(tag_list):\n",
    "        return 10 #'movement'\n",
    "    elif set(household_words).intersection(tag_list):\n",
    "        return 11 #'household'\n",
    "    elif set(foley_words).intersection(tag_list):\n",
    "        return 12 #'foley'  \n",
    "    elif set(nature_words).intersection(tag_list):\n",
    "        return 13 #'nature'\n",
    "    else:\n",
    "        return 14 #'other'\n"
   ]
  },
  {
   "cell_type": "markdown",
   "metadata": {},
   "source": [
    "# Labeling Dev and Eval Datasets"
   ]
  },
  {
   "cell_type": "code",
   "execution_count": 72,
   "metadata": {},
   "outputs": [
    {
     "data": {
      "text/plain": [
       "(40966, 9)"
      ]
     },
     "execution_count": 72,
     "metadata": {},
     "output_type": "execute_result"
    }
   ],
   "source": [
    "dev_info.shape"
   ]
  },
  {
   "cell_type": "code",
   "execution_count": 73,
   "metadata": {},
   "outputs": [],
   "source": [
    "dev_info['labels'] = dev_info['tags'].apply(cat_labeler) \n",
    "\n",
    "eval_info['labels'] = eval_info['tags'].apply(cat_labeler)    "
   ]
  },
  {
   "cell_type": "code",
   "execution_count": 74,
   "metadata": {},
   "outputs": [
    {
     "data": {
      "text/html": [
       "<div>\n",
       "<style scoped>\n",
       "    .dataframe tbody tr th:only-of-type {\n",
       "        vertical-align: middle;\n",
       "    }\n",
       "\n",
       "    .dataframe tbody tr th {\n",
       "        vertical-align: top;\n",
       "    }\n",
       "\n",
       "    .dataframe thead th {\n",
       "        text-align: right;\n",
       "    }\n",
       "</style>\n",
       "<table border=\"1\" class=\"dataframe\">\n",
       "  <thead>\n",
       "    <tr style=\"text-align: right;\">\n",
       "      <th></th>\n",
       "      <th>title</th>\n",
       "      <th>description</th>\n",
       "      <th>tags</th>\n",
       "      <th>license</th>\n",
       "      <th>uploader</th>\n",
       "      <th>track_num</th>\n",
       "      <th>wav_name</th>\n",
       "      <th>png_name</th>\n",
       "      <th>labels</th>\n",
       "    </tr>\n",
       "  </thead>\n",
       "  <tbody>\n",
       "    <tr>\n",
       "      <th>63</th>\n",
       "      <td>RalfHutterWorking.wav</td>\n",
       "      <td>Ralf Hutter from Kraftwerk saying \"Working on ...</td>\n",
       "      <td>[male, voice]</td>\n",
       "      <td>http://creativecommons.org/licenses/by/3.0/</td>\n",
       "      <td>fectoper</td>\n",
       "      <td>63</td>\n",
       "      <td>63.wav</td>\n",
       "      <td>63.png</td>\n",
       "      <td>0</td>\n",
       "    </tr>\n",
       "    <tr>\n",
       "      <th>136</th>\n",
       "      <td>keyboard-rhymtic.wav</td>\n",
       "      <td>Noise of an average logitech keyboard. Pretty ...</td>\n",
       "      <td>[keyboard, rhythmic, tap, type]</td>\n",
       "      <td>http://creativecommons.org/licenses/by/3.0/</td>\n",
       "      <td>Anton</td>\n",
       "      <td>136</td>\n",
       "      <td>136.wav</td>\n",
       "      <td>136.png</td>\n",
       "      <td>11</td>\n",
       "    </tr>\n",
       "    <tr>\n",
       "      <th>137</th>\n",
       "      <td>keyboard-typing.wav</td>\n",
       "      <td>Noise of an average logitech keyboard. Pretty ...</td>\n",
       "      <td>[computer, environmental-sounds-research, key,...</td>\n",
       "      <td>http://creativecommons.org/licenses/by/3.0/</td>\n",
       "      <td>Anton</td>\n",
       "      <td>137</td>\n",
       "      <td>137.wav</td>\n",
       "      <td>137.png</td>\n",
       "      <td>8</td>\n",
       "    </tr>\n",
       "    <tr>\n",
       "      <th>221</th>\n",
       "      <td>bell.wav</td>\n",
       "      <td>simple *ting* sound</td>\n",
       "      <td>[bell]</td>\n",
       "      <td>http://creativecommons.org/publicdomain/zero/1.0/</td>\n",
       "      <td>Erratic</td>\n",
       "      <td>221</td>\n",
       "      <td>221.wav</td>\n",
       "      <td>221.png</td>\n",
       "      <td>5</td>\n",
       "    </tr>\n",
       "    <tr>\n",
       "      <th>236</th>\n",
       "      <td>BUSSES.aiff</td>\n",
       "      <td>Departing busses\\r\\n at Utrecht Central Railwa...</td>\n",
       "      <td>[bus, depart, drive, station]</td>\n",
       "      <td>http://creativecommons.org/licenses/by-nc/3.0/</td>\n",
       "      <td>hanstimm</td>\n",
       "      <td>236</td>\n",
       "      <td>236.wav</td>\n",
       "      <td>236.png</td>\n",
       "      <td>7</td>\n",
       "    </tr>\n",
       "    <tr>\n",
       "      <th>...</th>\n",
       "      <td>...</td>\n",
       "      <td>...</td>\n",
       "      <td>...</td>\n",
       "      <td>...</td>\n",
       "      <td>...</td>\n",
       "      <td>...</td>\n",
       "      <td>...</td>\n",
       "      <td>...</td>\n",
       "      <td>...</td>\n",
       "    </tr>\n",
       "    <tr>\n",
       "      <th>435288</th>\n",
       "      <td>Farts_37.wav</td>\n",
       "      <td>dloaded from freesound with CC0 , Sliced, Resa...</td>\n",
       "      <td>[comedy, fart, effect, farts, sfx, soundfx, so...</td>\n",
       "      <td>http://creativecommons.org/publicdomain/zero/1.0/</td>\n",
       "      <td>penetrermind</td>\n",
       "      <td>435288</td>\n",
       "      <td>435288.wav</td>\n",
       "      <td>435288.png</td>\n",
       "      <td>1</td>\n",
       "    </tr>\n",
       "    <tr>\n",
       "      <th>435414</th>\n",
       "      <td>explosion11.wav</td>\n",
       "      <td>Explosion sounds made with Audacity with brown...</td>\n",
       "      <td>[detonation, explosion, boom, bang, explode, b...</td>\n",
       "      <td>http://creativecommons.org/publicdomain/zero/1.0/</td>\n",
       "      <td>V-ktor</td>\n",
       "      <td>435414</td>\n",
       "      <td>435414.wav</td>\n",
       "      <td>435414.png</td>\n",
       "      <td>9</td>\n",
       "    </tr>\n",
       "    <tr>\n",
       "      <th>435415</th>\n",
       "      <td>explosion10.wav</td>\n",
       "      <td>Explosion sounds made with Audacity with white...</td>\n",
       "      <td>[detonation, explosion, boom, bang, explode, b...</td>\n",
       "      <td>http://creativecommons.org/publicdomain/zero/1.0/</td>\n",
       "      <td>V-ktor</td>\n",
       "      <td>435415</td>\n",
       "      <td>435415.wav</td>\n",
       "      <td>435415.png</td>\n",
       "      <td>9</td>\n",
       "    </tr>\n",
       "    <tr>\n",
       "      <th>435557</th>\n",
       "      <td>Cup on Table</td>\n",
       "      <td>Put a mug on the table or desk.</td>\n",
       "      <td>[tray, table, put, place, mug, drop, cup]</td>\n",
       "      <td>http://creativecommons.org/licenses/by/3.0/</td>\n",
       "      <td>dersuperanton</td>\n",
       "      <td>435557</td>\n",
       "      <td>435557.wav</td>\n",
       "      <td>435557.png</td>\n",
       "      <td>12</td>\n",
       "    </tr>\n",
       "    <tr>\n",
       "      <th>435559</th>\n",
       "      <td>Boiling Water</td>\n",
       "      <td>Boiling water in the kitchen. It's hot!</td>\n",
       "      <td>[kitchen, boil, steam, brew, appliances, boili...</td>\n",
       "      <td>http://creativecommons.org/licenses/by/3.0/</td>\n",
       "      <td>dersuperanton</td>\n",
       "      <td>435559</td>\n",
       "      <td>435559.wav</td>\n",
       "      <td>435559.png</td>\n",
       "      <td>9</td>\n",
       "    </tr>\n",
       "  </tbody>\n",
       "</table>\n",
       "<p>40966 rows × 9 columns</p>\n",
       "</div>"
      ],
      "text/plain": [
       "                        title  \\\n",
       "63      RalfHutterWorking.wav   \n",
       "136      keyboard-rhymtic.wav   \n",
       "137       keyboard-typing.wav   \n",
       "221                  bell.wav   \n",
       "236               BUSSES.aiff   \n",
       "...                       ...   \n",
       "435288           Farts_37.wav   \n",
       "435414        explosion11.wav   \n",
       "435415        explosion10.wav   \n",
       "435557           Cup on Table   \n",
       "435559          Boiling Water   \n",
       "\n",
       "                                              description  \\\n",
       "63      Ralf Hutter from Kraftwerk saying \"Working on ...   \n",
       "136     Noise of an average logitech keyboard. Pretty ...   \n",
       "137     Noise of an average logitech keyboard. Pretty ...   \n",
       "221                                   simple *ting* sound   \n",
       "236     Departing busses\\r\\n at Utrecht Central Railwa...   \n",
       "...                                                   ...   \n",
       "435288  dloaded from freesound with CC0 , Sliced, Resa...   \n",
       "435414  Explosion sounds made with Audacity with brown...   \n",
       "435415  Explosion sounds made with Audacity with white...   \n",
       "435557                    Put a mug on the table or desk.   \n",
       "435559            Boiling water in the kitchen. It's hot!   \n",
       "\n",
       "                                                     tags  \\\n",
       "63                                          [male, voice]   \n",
       "136                       [keyboard, rhythmic, tap, type]   \n",
       "137     [computer, environmental-sounds-research, key,...   \n",
       "221                                                [bell]   \n",
       "236                         [bus, depart, drive, station]   \n",
       "...                                                   ...   \n",
       "435288  [comedy, fart, effect, farts, sfx, soundfx, so...   \n",
       "435414  [detonation, explosion, boom, bang, explode, b...   \n",
       "435415  [detonation, explosion, boom, bang, explode, b...   \n",
       "435557          [tray, table, put, place, mug, drop, cup]   \n",
       "435559  [kitchen, boil, steam, brew, appliances, boili...   \n",
       "\n",
       "                                                  license       uploader  \\\n",
       "63            http://creativecommons.org/licenses/by/3.0/       fectoper   \n",
       "136           http://creativecommons.org/licenses/by/3.0/          Anton   \n",
       "137           http://creativecommons.org/licenses/by/3.0/          Anton   \n",
       "221     http://creativecommons.org/publicdomain/zero/1.0/        Erratic   \n",
       "236        http://creativecommons.org/licenses/by-nc/3.0/       hanstimm   \n",
       "...                                                   ...            ...   \n",
       "435288  http://creativecommons.org/publicdomain/zero/1.0/   penetrermind   \n",
       "435414  http://creativecommons.org/publicdomain/zero/1.0/         V-ktor   \n",
       "435415  http://creativecommons.org/publicdomain/zero/1.0/         V-ktor   \n",
       "435557        http://creativecommons.org/licenses/by/3.0/  dersuperanton   \n",
       "435559        http://creativecommons.org/licenses/by/3.0/  dersuperanton   \n",
       "\n",
       "        track_num    wav_name    png_name  labels  \n",
       "63             63      63.wav      63.png       0  \n",
       "136           136     136.wav     136.png      11  \n",
       "137           137     137.wav     137.png       8  \n",
       "221           221     221.wav     221.png       5  \n",
       "236           236     236.wav     236.png       7  \n",
       "...           ...         ...         ...     ...  \n",
       "435288     435288  435288.wav  435288.png       1  \n",
       "435414     435414  435414.wav  435414.png       9  \n",
       "435415     435415  435415.wav  435415.png       9  \n",
       "435557     435557  435557.wav  435557.png      12  \n",
       "435559     435559  435559.wav  435559.png       9  \n",
       "\n",
       "[40966 rows x 9 columns]"
      ]
     },
     "execution_count": 74,
     "metadata": {},
     "output_type": "execute_result"
    }
   ],
   "source": [
    "dev_info"
   ]
  },
  {
   "cell_type": "code",
   "execution_count": 75,
   "metadata": {},
   "outputs": [
    {
     "name": "stderr",
     "output_type": "stream",
     "text": [
      "/Users/Mateo/opt/anaconda3/lib/python3.7/site-packages/ipykernel_launcher.py:13: DeprecationWarning: The default dtype for empty Series will be 'object' instead of 'float64' in a future version. Specify a dtype explicitly to silence this warning.\n",
      "  del sys.path[0]\n"
     ]
    },
    {
     "data": {
      "text/plain": [
       "Series([], dtype: float64)"
      ]
     },
     "execution_count": 75,
     "metadata": {},
     "output_type": "execute_result"
    }
   ],
   "source": [
    "# dictionary for remaining tags\n",
    "\n",
    "remaining_tags_dict = {}\n",
    "\n",
    "for row in dev_info[dev_info.labels == 'other']['tags']:\n",
    "    for tag in row:\n",
    "        if tag not in remaining_tags_dict:\n",
    "            remaining_tags_dict[tag] =1\n",
    "        else:\n",
    "            remaining_tags_dict[tag] += 1  \n",
    "            \n",
    "            \n",
    "remaining_tags_series = pd.Series(remaining_tags_dict)\n",
    "remaining_tags_series.sort_values(ascending=False).iloc[:20]"
   ]
  },
  {
   "cell_type": "code",
   "execution_count": 76,
   "metadata": {
    "scrolled": true
   },
   "outputs": [],
   "source": [
    "for row in dev_info[dev_info.labels == 'other']['tags']:\n",
    "    for tag in row:\n",
    "        if tag == 'flushing':\n",
    "            print(row)"
   ]
  },
  {
   "cell_type": "code",
   "execution_count": 77,
   "metadata": {
    "scrolled": true
   },
   "outputs": [
    {
     "data": {
      "text/plain": [
       "5     11633\n",
       "0      4566\n",
       "4      3797\n",
       "9      3721\n",
       "6      2740\n",
       "7      2723\n",
       "12     2439\n",
       "11     2229\n",
       "2      2214\n",
       "13     1510\n",
       "8      1134\n",
       "14      776\n",
       "10      700\n",
       "1       459\n",
       "3       325\n",
       "Name: labels, dtype: int64"
      ]
     },
     "execution_count": 77,
     "metadata": {},
     "output_type": "execute_result"
    }
   ],
   "source": [
    "dev_info.labels.value_counts()"
   ]
  },
  {
   "cell_type": "code",
   "execution_count": 78,
   "metadata": {},
   "outputs": [
    {
     "data": {
      "text/plain": [
       "5     1649\n",
       "0     1183\n",
       "4      928\n",
       "7      909\n",
       "11     883\n",
       "9      866\n",
       "12     804\n",
       "2      721\n",
       "14     568\n",
       "6      521\n",
       "13     462\n",
       "8      295\n",
       "10     213\n",
       "3      134\n",
       "1       95\n",
       "Name: labels, dtype: int64"
      ]
     },
     "execution_count": 78,
     "metadata": {},
     "output_type": "execute_result"
    }
   ],
   "source": [
    "eval_info.labels.value_counts()"
   ]
  },
  {
   "cell_type": "code",
   "execution_count": 79,
   "metadata": {
    "scrolled": true
   },
   "outputs": [
    {
     "data": {
      "text/html": [
       "<div>\n",
       "<style scoped>\n",
       "    .dataframe tbody tr th:only-of-type {\n",
       "        vertical-align: middle;\n",
       "    }\n",
       "\n",
       "    .dataframe tbody tr th {\n",
       "        vertical-align: top;\n",
       "    }\n",
       "\n",
       "    .dataframe thead th {\n",
       "        text-align: right;\n",
       "    }\n",
       "</style>\n",
       "<table border=\"1\" class=\"dataframe\">\n",
       "  <thead>\n",
       "    <tr style=\"text-align: right;\">\n",
       "      <th></th>\n",
       "      <th>title</th>\n",
       "      <th>description</th>\n",
       "      <th>tags</th>\n",
       "      <th>license</th>\n",
       "      <th>uploader</th>\n",
       "      <th>track_num</th>\n",
       "      <th>wav_name</th>\n",
       "      <th>png_name</th>\n",
       "      <th>labels</th>\n",
       "    </tr>\n",
       "  </thead>\n",
       "  <tbody>\n",
       "    <tr>\n",
       "      <th>63</th>\n",
       "      <td>RalfHutterWorking.wav</td>\n",
       "      <td>Ralf Hutter from Kraftwerk saying \"Working on ...</td>\n",
       "      <td>[male, voice]</td>\n",
       "      <td>http://creativecommons.org/licenses/by/3.0/</td>\n",
       "      <td>fectoper</td>\n",
       "      <td>63</td>\n",
       "      <td>63.wav</td>\n",
       "      <td>63.png</td>\n",
       "      <td>0</td>\n",
       "    </tr>\n",
       "    <tr>\n",
       "      <th>136</th>\n",
       "      <td>keyboard-rhymtic.wav</td>\n",
       "      <td>Noise of an average logitech keyboard. Pretty ...</td>\n",
       "      <td>[keyboard, rhythmic, tap, type]</td>\n",
       "      <td>http://creativecommons.org/licenses/by/3.0/</td>\n",
       "      <td>Anton</td>\n",
       "      <td>136</td>\n",
       "      <td>136.wav</td>\n",
       "      <td>136.png</td>\n",
       "      <td>11</td>\n",
       "    </tr>\n",
       "    <tr>\n",
       "      <th>137</th>\n",
       "      <td>keyboard-typing.wav</td>\n",
       "      <td>Noise of an average logitech keyboard. Pretty ...</td>\n",
       "      <td>[computer, environmental-sounds-research, key,...</td>\n",
       "      <td>http://creativecommons.org/licenses/by/3.0/</td>\n",
       "      <td>Anton</td>\n",
       "      <td>137</td>\n",
       "      <td>137.wav</td>\n",
       "      <td>137.png</td>\n",
       "      <td>8</td>\n",
       "    </tr>\n",
       "    <tr>\n",
       "      <th>221</th>\n",
       "      <td>bell.wav</td>\n",
       "      <td>simple *ting* sound</td>\n",
       "      <td>[bell]</td>\n",
       "      <td>http://creativecommons.org/publicdomain/zero/1.0/</td>\n",
       "      <td>Erratic</td>\n",
       "      <td>221</td>\n",
       "      <td>221.wav</td>\n",
       "      <td>221.png</td>\n",
       "      <td>5</td>\n",
       "    </tr>\n",
       "    <tr>\n",
       "      <th>236</th>\n",
       "      <td>BUSSES.aiff</td>\n",
       "      <td>Departing busses\\r\\n at Utrecht Central Railwa...</td>\n",
       "      <td>[bus, depart, drive, station]</td>\n",
       "      <td>http://creativecommons.org/licenses/by-nc/3.0/</td>\n",
       "      <td>hanstimm</td>\n",
       "      <td>236</td>\n",
       "      <td>236.wav</td>\n",
       "      <td>236.png</td>\n",
       "      <td>7</td>\n",
       "    </tr>\n",
       "  </tbody>\n",
       "</table>\n",
       "</div>"
      ],
      "text/plain": [
       "                     title                                        description  \\\n",
       "63   RalfHutterWorking.wav  Ralf Hutter from Kraftwerk saying \"Working on ...   \n",
       "136   keyboard-rhymtic.wav  Noise of an average logitech keyboard. Pretty ...   \n",
       "137    keyboard-typing.wav  Noise of an average logitech keyboard. Pretty ...   \n",
       "221               bell.wav                                simple *ting* sound   \n",
       "236            BUSSES.aiff  Departing busses\\r\\n at Utrecht Central Railwa...   \n",
       "\n",
       "                                                  tags  \\\n",
       "63                                       [male, voice]   \n",
       "136                    [keyboard, rhythmic, tap, type]   \n",
       "137  [computer, environmental-sounds-research, key,...   \n",
       "221                                             [bell]   \n",
       "236                      [bus, depart, drive, station]   \n",
       "\n",
       "                                               license  uploader  track_num  \\\n",
       "63         http://creativecommons.org/licenses/by/3.0/  fectoper         63   \n",
       "136        http://creativecommons.org/licenses/by/3.0/     Anton        136   \n",
       "137        http://creativecommons.org/licenses/by/3.0/     Anton        137   \n",
       "221  http://creativecommons.org/publicdomain/zero/1.0/   Erratic        221   \n",
       "236     http://creativecommons.org/licenses/by-nc/3.0/  hanstimm        236   \n",
       "\n",
       "    wav_name png_name  labels  \n",
       "63    63.wav   63.png       0  \n",
       "136  136.wav  136.png      11  \n",
       "137  137.wav  137.png       8  \n",
       "221  221.wav  221.png       5  \n",
       "236  236.wav  236.png       7  "
      ]
     },
     "execution_count": 79,
     "metadata": {},
     "output_type": "execute_result"
    }
   ],
   "source": [
    "dev_info.head()"
   ]
  },
  {
   "cell_type": "code",
   "execution_count": 80,
   "metadata": {
    "scrolled": false
   },
   "outputs": [
    {
     "data": {
      "text/html": [
       "<div>\n",
       "<style scoped>\n",
       "    .dataframe tbody tr th:only-of-type {\n",
       "        vertical-align: middle;\n",
       "    }\n",
       "\n",
       "    .dataframe tbody tr th {\n",
       "        vertical-align: top;\n",
       "    }\n",
       "\n",
       "    .dataframe thead th {\n",
       "        text-align: right;\n",
       "    }\n",
       "</style>\n",
       "<table border=\"1\" class=\"dataframe\">\n",
       "  <thead>\n",
       "    <tr style=\"text-align: right;\">\n",
       "      <th></th>\n",
       "      <th>title</th>\n",
       "      <th>description</th>\n",
       "      <th>tags</th>\n",
       "      <th>license</th>\n",
       "      <th>uploader</th>\n",
       "      <th>track_num</th>\n",
       "      <th>wav_name</th>\n",
       "      <th>png_name</th>\n",
       "      <th>labels</th>\n",
       "    </tr>\n",
       "  </thead>\n",
       "  <tbody>\n",
       "    <tr>\n",
       "      <th>391277</th>\n",
       "      <td>Spring Birds Forest 04 Amp.wav</td>\n",
       "      <td>An other birds singings recorded on the mornin...</td>\n",
       "      <td>[birdsong, bird, forest, environment, morning,...</td>\n",
       "      <td>http://creativecommons.org/publicdomain/zero/1.0/</td>\n",
       "      <td>ANARKYA</td>\n",
       "      <td>391277</td>\n",
       "      <td>391277.wav</td>\n",
       "      <td>391277.png</td>\n",
       "      <td>4</td>\n",
       "    </tr>\n",
       "    <tr>\n",
       "      <th>392115</th>\n",
       "      <td>Snap of fingers</td>\n",
       "      <td>a snap of one's fingers</td>\n",
       "      <td>[fingers, finger, 5maudio17, uam, fingersnap]</td>\n",
       "      <td>http://creativecommons.org/publicdomain/zero/1.0/</td>\n",
       "      <td>edton</td>\n",
       "      <td>392115</td>\n",
       "      <td>392115.wav</td>\n",
       "      <td>392115.png</td>\n",
       "      <td>6</td>\n",
       "    </tr>\n",
       "    <tr>\n",
       "      <th>411438</th>\n",
       "      <td>Pouring Water</td>\n",
       "      <td>A sound of Hot water pouring into a cup</td>\n",
       "      <td>[fill, can, beverage, glass, water, pour, drin...</td>\n",
       "      <td>http://creativecommons.org/publicdomain/zero/1.0/</td>\n",
       "      <td>edsward</td>\n",
       "      <td>411438</td>\n",
       "      <td>411438.wav</td>\n",
       "      <td>411438.png</td>\n",
       "      <td>9</td>\n",
       "    </tr>\n",
       "    <tr>\n",
       "      <th>395238</th>\n",
       "      <td>Tearing papers.wav</td>\n",
       "      <td>Tearing papers with reverb.\\r\\n\\r\\nI used a Sa...</td>\n",
       "      <td>[ripping, papier, paper, scheuren, rip, tearing]</td>\n",
       "      <td>http://creativecommons.org/licenses/by/3.0/</td>\n",
       "      <td>ellenmentor</td>\n",
       "      <td>395238</td>\n",
       "      <td>395238.wav</td>\n",
       "      <td>395238.png</td>\n",
       "      <td>11</td>\n",
       "    </tr>\n",
       "    <tr>\n",
       "      <th>425681</th>\n",
       "      <td>sigh.mp3</td>\n",
       "      <td>i recorded me sighing.</td>\n",
       "      <td>[sad, happy, sigh]</td>\n",
       "      <td>http://creativecommons.org/publicdomain/zero/1.0/</td>\n",
       "      <td>Camo1018</td>\n",
       "      <td>425681</td>\n",
       "      <td>425681.wav</td>\n",
       "      <td>425681.png</td>\n",
       "      <td>12</td>\n",
       "    </tr>\n",
       "  </tbody>\n",
       "</table>\n",
       "</div>"
      ],
      "text/plain": [
       "                                 title  \\\n",
       "391277  Spring Birds Forest 04 Amp.wav   \n",
       "392115                 Snap of fingers   \n",
       "411438                   Pouring Water   \n",
       "395238              Tearing papers.wav   \n",
       "425681                        sigh.mp3   \n",
       "\n",
       "                                              description  \\\n",
       "391277  An other birds singings recorded on the mornin...   \n",
       "392115                            a snap of one's fingers   \n",
       "411438            A sound of Hot water pouring into a cup   \n",
       "395238  Tearing papers with reverb.\\r\\n\\r\\nI used a Sa...   \n",
       "425681                             i recorded me sighing.   \n",
       "\n",
       "                                                     tags  \\\n",
       "391277  [birdsong, bird, forest, environment, morning,...   \n",
       "392115      [fingers, finger, 5maudio17, uam, fingersnap]   \n",
       "411438  [fill, can, beverage, glass, water, pour, drin...   \n",
       "395238   [ripping, papier, paper, scheuren, rip, tearing]   \n",
       "425681                                 [sad, happy, sigh]   \n",
       "\n",
       "                                                  license     uploader  \\\n",
       "391277  http://creativecommons.org/publicdomain/zero/1.0/      ANARKYA   \n",
       "392115  http://creativecommons.org/publicdomain/zero/1.0/        edton   \n",
       "411438  http://creativecommons.org/publicdomain/zero/1.0/      edsward   \n",
       "395238        http://creativecommons.org/licenses/by/3.0/  ellenmentor   \n",
       "425681  http://creativecommons.org/publicdomain/zero/1.0/     Camo1018   \n",
       "\n",
       "        track_num    wav_name    png_name  labels  \n",
       "391277     391277  391277.wav  391277.png       4  \n",
       "392115     392115  392115.wav  392115.png       6  \n",
       "411438     411438  411438.wav  411438.png       9  \n",
       "395238     395238  395238.wav  395238.png      11  \n",
       "425681     425681  425681.wav  425681.png      12  "
      ]
     },
     "execution_count": 80,
     "metadata": {},
     "output_type": "execute_result"
    }
   ],
   "source": [
    "eval_info.head()"
   ]
  },
  {
   "cell_type": "code",
   "execution_count": 83,
   "metadata": {},
   "outputs": [
    {
     "data": {
      "text/html": [
       "<div>\n",
       "<style scoped>\n",
       "    .dataframe tbody tr th:only-of-type {\n",
       "        vertical-align: middle;\n",
       "    }\n",
       "\n",
       "    .dataframe tbody tr th {\n",
       "        vertical-align: top;\n",
       "    }\n",
       "\n",
       "    .dataframe thead th {\n",
       "        text-align: right;\n",
       "    }\n",
       "</style>\n",
       "<table border=\"1\" class=\"dataframe\">\n",
       "  <thead>\n",
       "    <tr style=\"text-align: right;\">\n",
       "      <th></th>\n",
       "      <th>title</th>\n",
       "      <th>description</th>\n",
       "      <th>tags</th>\n",
       "      <th>license</th>\n",
       "      <th>uploader</th>\n",
       "      <th>track_num</th>\n",
       "      <th>wav_name</th>\n",
       "      <th>png_name</th>\n",
       "      <th>labels</th>\n",
       "    </tr>\n",
       "  </thead>\n",
       "  <tbody>\n",
       "  </tbody>\n",
       "</table>\n",
       "</div>"
      ],
      "text/plain": [
       "Empty DataFrame\n",
       "Columns: [title, description, tags, license, uploader, track_num, wav_name, png_name, labels]\n",
       "Index: []"
      ]
     },
     "execution_count": 83,
     "metadata": {},
     "output_type": "execute_result"
    }
   ],
   "source": [
    "dev_info[dev_info.labels.isnull()]"
   ]
  },
  {
   "cell_type": "code",
   "execution_count": 84,
   "metadata": {},
   "outputs": [
    {
     "data": {
      "text/html": [
       "<div>\n",
       "<style scoped>\n",
       "    .dataframe tbody tr th:only-of-type {\n",
       "        vertical-align: middle;\n",
       "    }\n",
       "\n",
       "    .dataframe tbody tr th {\n",
       "        vertical-align: top;\n",
       "    }\n",
       "\n",
       "    .dataframe thead th {\n",
       "        text-align: right;\n",
       "    }\n",
       "</style>\n",
       "<table border=\"1\" class=\"dataframe\">\n",
       "  <thead>\n",
       "    <tr style=\"text-align: right;\">\n",
       "      <th></th>\n",
       "      <th>title</th>\n",
       "      <th>description</th>\n",
       "      <th>tags</th>\n",
       "      <th>license</th>\n",
       "      <th>uploader</th>\n",
       "      <th>track_num</th>\n",
       "      <th>wav_name</th>\n",
       "      <th>png_name</th>\n",
       "      <th>labels</th>\n",
       "    </tr>\n",
       "  </thead>\n",
       "  <tbody>\n",
       "  </tbody>\n",
       "</table>\n",
       "</div>"
      ],
      "text/plain": [
       "Empty DataFrame\n",
       "Columns: [title, description, tags, license, uploader, track_num, wav_name, png_name, labels]\n",
       "Index: []"
      ]
     },
     "execution_count": 84,
     "metadata": {},
     "output_type": "execute_result"
    }
   ],
   "source": [
    "dev_info[dev_info.tags.isnull()]"
   ]
  },
  {
   "cell_type": "code",
   "execution_count": 90,
   "metadata": {},
   "outputs": [
    {
     "data": {
      "text/html": [
       "<div>\n",
       "<style scoped>\n",
       "    .dataframe tbody tr th:only-of-type {\n",
       "        vertical-align: middle;\n",
       "    }\n",
       "\n",
       "    .dataframe tbody tr th {\n",
       "        vertical-align: top;\n",
       "    }\n",
       "\n",
       "    .dataframe thead th {\n",
       "        text-align: right;\n",
       "    }\n",
       "</style>\n",
       "<table border=\"1\" class=\"dataframe\">\n",
       "  <thead>\n",
       "    <tr style=\"text-align: right;\">\n",
       "      <th></th>\n",
       "      <th>title</th>\n",
       "      <th>description</th>\n",
       "      <th>tags</th>\n",
       "      <th>license</th>\n",
       "      <th>uploader</th>\n",
       "      <th>track_num</th>\n",
       "      <th>wav_name</th>\n",
       "      <th>png_name</th>\n",
       "      <th>labels</th>\n",
       "    </tr>\n",
       "  </thead>\n",
       "  <tbody>\n",
       "    <tr>\n",
       "      <th>63</th>\n",
       "      <td>RalfHutterWorking.wav</td>\n",
       "      <td>Ralf Hutter from Kraftwerk saying \"Working on ...</td>\n",
       "      <td>[male, voice]</td>\n",
       "      <td>http://creativecommons.org/licenses/by/3.0/</td>\n",
       "      <td>fectoper</td>\n",
       "      <td>63</td>\n",
       "      <td>63.wav</td>\n",
       "      <td>63.png</td>\n",
       "      <td>0</td>\n",
       "    </tr>\n",
       "    <tr>\n",
       "      <th>136</th>\n",
       "      <td>keyboard-rhymtic.wav</td>\n",
       "      <td>Noise of an average logitech keyboard. Pretty ...</td>\n",
       "      <td>[keyboard, rhythmic, tap, type]</td>\n",
       "      <td>http://creativecommons.org/licenses/by/3.0/</td>\n",
       "      <td>Anton</td>\n",
       "      <td>136</td>\n",
       "      <td>136.wav</td>\n",
       "      <td>136.png</td>\n",
       "      <td>11</td>\n",
       "    </tr>\n",
       "    <tr>\n",
       "      <th>137</th>\n",
       "      <td>keyboard-typing.wav</td>\n",
       "      <td>Noise of an average logitech keyboard. Pretty ...</td>\n",
       "      <td>[computer, environmental-sounds-research, key,...</td>\n",
       "      <td>http://creativecommons.org/licenses/by/3.0/</td>\n",
       "      <td>Anton</td>\n",
       "      <td>137</td>\n",
       "      <td>137.wav</td>\n",
       "      <td>137.png</td>\n",
       "      <td>8</td>\n",
       "    </tr>\n",
       "    <tr>\n",
       "      <th>221</th>\n",
       "      <td>bell.wav</td>\n",
       "      <td>simple *ting* sound</td>\n",
       "      <td>[bell]</td>\n",
       "      <td>http://creativecommons.org/publicdomain/zero/1.0/</td>\n",
       "      <td>Erratic</td>\n",
       "      <td>221</td>\n",
       "      <td>221.wav</td>\n",
       "      <td>221.png</td>\n",
       "      <td>5</td>\n",
       "    </tr>\n",
       "    <tr>\n",
       "      <th>236</th>\n",
       "      <td>BUSSES.aiff</td>\n",
       "      <td>Departing busses\\r\\n at Utrecht Central Railwa...</td>\n",
       "      <td>[bus, depart, drive, station]</td>\n",
       "      <td>http://creativecommons.org/licenses/by-nc/3.0/</td>\n",
       "      <td>hanstimm</td>\n",
       "      <td>236</td>\n",
       "      <td>236.wav</td>\n",
       "      <td>236.png</td>\n",
       "      <td>7</td>\n",
       "    </tr>\n",
       "  </tbody>\n",
       "</table>\n",
       "</div>"
      ],
      "text/plain": [
       "                     title                                        description  \\\n",
       "63   RalfHutterWorking.wav  Ralf Hutter from Kraftwerk saying \"Working on ...   \n",
       "136   keyboard-rhymtic.wav  Noise of an average logitech keyboard. Pretty ...   \n",
       "137    keyboard-typing.wav  Noise of an average logitech keyboard. Pretty ...   \n",
       "221               bell.wav                                simple *ting* sound   \n",
       "236            BUSSES.aiff  Departing busses\\r\\n at Utrecht Central Railwa...   \n",
       "\n",
       "                                                  tags  \\\n",
       "63                                       [male, voice]   \n",
       "136                    [keyboard, rhythmic, tap, type]   \n",
       "137  [computer, environmental-sounds-research, key,...   \n",
       "221                                             [bell]   \n",
       "236                      [bus, depart, drive, station]   \n",
       "\n",
       "                                               license  uploader  track_num  \\\n",
       "63         http://creativecommons.org/licenses/by/3.0/  fectoper         63   \n",
       "136        http://creativecommons.org/licenses/by/3.0/     Anton        136   \n",
       "137        http://creativecommons.org/licenses/by/3.0/     Anton        137   \n",
       "221  http://creativecommons.org/publicdomain/zero/1.0/   Erratic        221   \n",
       "236     http://creativecommons.org/licenses/by-nc/3.0/  hanstimm        236   \n",
       "\n",
       "    wav_name png_name  labels  \n",
       "63    63.wav   63.png       0  \n",
       "136  136.wav  136.png      11  \n",
       "137  137.wav  137.png       8  \n",
       "221  221.wav  221.png       5  \n",
       "236  236.wav  236.png       7  "
      ]
     },
     "execution_count": 90,
     "metadata": {},
     "output_type": "execute_result"
    }
   ],
   "source": [
    "dev_info.head()"
   ]
  },
  {
   "cell_type": "code",
   "execution_count": 87,
   "metadata": {},
   "outputs": [
    {
     "data": {
      "text/plain": [
       "(10231, 9)"
      ]
     },
     "execution_count": 87,
     "metadata": {},
     "output_type": "execute_result"
    }
   ],
   "source": [
    "eval_info.shape"
   ]
  },
  {
   "cell_type": "code",
   "execution_count": 89,
   "metadata": {},
   "outputs": [],
   "source": [
    "dev_info.to_json('data/labelled_dev_info.json')\n",
    "# pd.read_csv('data/labelled_dev_info.csv', index_col=0)"
   ]
  },
  {
   "cell_type": "code",
   "execution_count": 86,
   "metadata": {},
   "outputs": [],
   "source": [
    "# error saving dataframe, using pickle instead\n",
    "import pickle\n",
    "\n",
    "with open('/Users/Mateo/Springboard/FSD50k/data/labelled_dev_info_csv.pkl', 'wb') as f:\n",
    "    pickle.dump(dev_info, f)\n",
    "    \n",
    "# # loading pickle\n",
    "\n",
    "# with open('/Users/Mateo/Springboard/FSD50k/data/mfcc_100.pkl', 'rb') as f:\n",
    "#     loaded_mfcc_list = pickle.load(f)    "
   ]
  },
  {
   "cell_type": "code",
   "execution_count": 91,
   "metadata": {},
   "outputs": [],
   "source": [
    "eval_info.to_json('data/labelled_eval_info.json')\n",
    "# pd.read_csv('data/labelled_eval_info.csv', index_col=0)"
   ]
  },
  {
   "cell_type": "markdown",
   "metadata": {},
   "source": [
    "# Audio Tags EDA "
   ]
  },
  {
   "cell_type": "code",
   "execution_count": 65,
   "metadata": {},
   "outputs": [
    {
     "data": {
      "text/plain": [
       "6     6167\n",
       "3     5006\n",
       "5     4914\n",
       "4     4856\n",
       "7     3725\n",
       "8     2967\n",
       "9     2836\n",
       "10    2164\n",
       "11    1163\n",
       "12    1068\n",
       "2      983\n",
       "13     732\n",
       "14     683\n",
       "16     475\n",
       "15     421\n",
       "21     350\n",
       "18     296\n",
       "17     280\n",
       "1      267\n",
       "19     250\n",
       "dtype: int64"
      ]
     },
     "execution_count": 65,
     "metadata": {},
     "output_type": "execute_result"
    }
   ],
   "source": [
    "# Investigating lengths of tags per audio file\n",
    "\n",
    "tag_length_counter = {}\n",
    "\n",
    "for row in dev_info.tags:\n",
    "    num_tags = len(row)\n",
    "    if num_tags not in tag_length_counter:\n",
    "        tag_length_counter[num_tags] =1\n",
    "    else:\n",
    "        tag_length_counter[num_tags] += 1     \n",
    "\n",
    "tag_lengths_series = pd.Series(tag_length_counter)\n",
    "tag_lengths_series.sort_values(ascending=False).iloc[:20]  "
   ]
  },
  {
   "cell_type": "code",
   "execution_count": 42,
   "metadata": {},
   "outputs": [],
   "source": [
    "# Investigating how many unique tags there are.\n",
    "\n",
    "unique_tags = []\n",
    "\n",
    "for tag_list in dev_info.tags:\n",
    "    for tag in tag_list:\n",
    "        if tag not in unique_tags:\n",
    "            unique_tags.append(tag)"
   ]
  },
  {
   "cell_type": "code",
   "execution_count": 67,
   "metadata": {},
   "outputs": [
    {
     "name": "stdout",
     "output_type": "stream",
     "text": [
      "16309\n"
     ]
    },
    {
     "data": {
      "text/plain": [
       "['male',\n",
       " 'voice',\n",
       " 'keyboard',\n",
       " 'rhythmic',\n",
       " 'tap',\n",
       " 'type',\n",
       " 'computer',\n",
       " 'environmental-sounds-research',\n",
       " 'key',\n",
       " 'typing',\n",
       " 'bell',\n",
       " 'bus',\n",
       " 'depart',\n",
       " 'drive',\n",
       " 'station',\n",
       " 'car',\n",
       " 'engine',\n",
       " 'passing',\n",
       " 'dutch',\n",
       " 'speech']"
      ]
     },
     "execution_count": 67,
     "metadata": {},
     "output_type": "execute_result"
    }
   ],
   "source": [
    "print(len(unique_tags))\n",
    "unique_tags[:20]"
   ]
  },
  {
   "cell_type": "code",
   "execution_count": 103,
   "metadata": {
    "scrolled": true
   },
   "outputs": [
    {
     "data": {
      "text/plain": [
       "multisample        5564\n",
       "single-note        3768\n",
       "field-recording    3490\n",
       "good-sounds        3081\n",
       "neumann-u87        3080\n",
       "voice              2511\n",
       "water              2167\n",
       "percussion         1728\n",
       "guitar             1606\n",
       "drum               1434\n",
       "door               1300\n",
       "metal              1271\n",
       "hit                1178\n",
       "velocity           1177\n",
       "female             1165\n",
       "loop               1154\n",
       "vsco-2             1089\n",
       "noise              1082\n",
       "nature             1066\n",
       "male               1058\n",
       "dtype: int64"
      ]
     },
     "execution_count": 103,
     "metadata": {},
     "output_type": "execute_result"
    }
   ],
   "source": [
    "# Checking Value Counts for Unique Tags\n",
    "\n",
    "dict_counter = {}\n",
    "\n",
    "for row in dev_info.tags:\n",
    "    for tag in row:\n",
    "        if tag not in dict_counter:\n",
    "            dict_counter[tag] =1\n",
    "        else:\n",
    "            dict_counter[tag] += 1     \n",
    "            \n",
    "all_tags_series = pd.Series(dict_counter)\n",
    "all_tags_series = all_tags_series.sort_values(ascending=False)\n",
    "all_tags_series.head(20)"
   ]
  },
  {
   "cell_type": "code",
   "execution_count": 102,
   "metadata": {},
   "outputs": [
    {
     "data": {
      "image/png": "[encoded data removed]",
      "text/plain": [
       "<Figure size 432x288 with 1 Axes>"
      ]
     },
     "metadata": {
      "needs_background": "light"
     },
     "output_type": "display_data"
    }
   ],
   "source": [
    "import seaborn as sns\n",
    "import matplotlib.pyplot as plt\n",
    "\n",
    "sns.barplot(x=all_tags_series.iloc[:10].index, y=all_tags_series.iloc[:10].values)\n",
    "plt.xticks(rotation=90)\n",
    "plt.show()"
   ]
  },
  {
   "cell_type": "code",
   "execution_count": 82,
   "metadata": {},
   "outputs": [
    {
     "name": "stdout",
     "output_type": "stream",
     "text": [
      "['distortion', 'dive', 'electric', 'free', 'guitar', 'heavy', 'metal', 'multisample', 'note', 'sample', 'sampler', 'sound', 'speed', 'thrash', 'tremolo', 'wave', 'whammy']\n",
      "['chord', 'electric', 'guitar', 'multisample', 'power']\n",
      "['chord', 'electric', 'guitar', 'multisample', 'power']\n",
      "['chord', 'electric', 'guitar', 'multisample', 'power']\n",
      "['chord', 'electric', 'guitar', 'multisample', 'power']\n",
      "['chord', 'electric', 'guitar', 'multisample', 'power']\n",
      "['chord', 'electric', 'guitar', 'multisample', 'power']\n",
      "['chord', 'electric', 'guitar', 'multisample', 'power']\n",
      "['chord', 'electric', 'guitar', 'multisample', 'power']\n",
      "['chord', 'electric', 'guitar', 'multisample', 'power']\n"
     ]
    }
   ],
   "source": [
    "# Investigating what the whole tag list description is for the most common tags: 'multisample'\n",
    "\n",
    "counter = 0 # \n",
    "\n",
    "for row in dev_info['tags']:\n",
    "    for tag in row:\n",
    "        if tag == 'multisample':\n",
    "            print(row)\n",
    "            counter += 1\n",
    "    if counter == 10:\n",
    "        break"
   ]
  },
  {
   "cell_type": "code",
   "execution_count": 83,
   "metadata": {
    "scrolled": true
   },
   "outputs": [
    {
     "name": "stdout",
     "output_type": "stream",
     "text": [
      "['environmental-sounds-research', 'field-recording', 'train']\n",
      "['bark', 'dog', 'field-recording']\n",
      "['cat', 'field-recording', 'purr']\n",
      "['cat', 'field-recording', 'roar']\n",
      "['cat', 'field-recording', 'purr']\n",
      "['beat', 'field-recording', 'kitchen', 'metal']\n",
      "['bass', 'drone', 'field-recording', 'machinery']\n",
      "['field-recording', 'hiss', 'noise', 'rustle', 'stove-pipe', 'wind']\n",
      "['field-recording', 'hiss', 'rustle', 'stove-pipe', 'wind']\n",
      "['bridge', 'canada', 'field-recording', 'montreal', 'passing', 'train']\n"
     ]
    }
   ],
   "source": [
    "# Investigating what the whole tag list description is for the most common tags: 'field-recording'\n",
    "\n",
    "counter = 0 # \n",
    "\n",
    "for row in dev_info['tags']:\n",
    "    for tag in row:\n",
    "        if tag == 'field-recording':\n",
    "            print(row)\n",
    "            counter += 1\n",
    "    if counter == 10:\n",
    "        break"
   ]
  },
  {
   "cell_type": "code",
   "execution_count": 84,
   "metadata": {
    "scrolled": true
   },
   "outputs": [
    {
     "name": "stdout",
     "output_type": "stream",
     "text": [
      "['male', 'voice']\n",
      "['animal', 'growl', 'horror', 'monster', 'processed', 'voice']\n",
      "['analogx', 'anderstein', 'dj', 'free', 'hip-hop', 'rap', 'sample', 'scratch', 'sound', 'vinyl', 'voice']\n",
      "['boy', 'child', 'eio', 'free', 'human', 'lofi', 'sample', 'singing', 'sound', 'voice']\n",
      "['female', 'human', 'phone', 'raw', 'sexy', 'voice']\n",
      "['female', 'human', 'phone', 'raw', 'sexy', 'voice']\n",
      "['girl', 'human', 'singing', 'voice']\n",
      "['girl', 'human', 'singing', 'voice']\n",
      "['girl', 'human', 'singing', 'voice']\n",
      "['girl', 'human', 'processed', 'singing', 'voice']\n"
     ]
    }
   ],
   "source": [
    "# Investigating what the whole tag list description is for the most common tags: 'voice'\n",
    "\n",
    "counter = 0 # \n",
    "\n",
    "for row in dev_info['tags']:\n",
    "    for tag in row:\n",
    "        if tag == 'voice':\n",
    "            print(row)\n",
    "            counter += 1\n",
    "    if counter == 10:\n",
    "        break"
   ]
  },
  {
   "cell_type": "markdown",
   "metadata": {},
   "source": [
    "# Metadata EDA"
   ]
  },
  {
   "cell_type": "code",
   "execution_count": 49,
   "metadata": {
    "scrolled": false
   },
   "outputs": [
    {
     "name": "stdout",
     "output_type": "stream",
     "text": [
      "Number of Unique License Types: 4\n"
     ]
    },
    {
     "data": {
      "text/plain": [
       "http://creativecommons.org/licenses/by/3.0/           20017\n",
       "http://creativecommons.org/publicdomain/zero/1.0/     14959\n",
       "http://creativecommons.org/licenses/by-nc/3.0/         4616\n",
       "http://creativecommons.org/licenses/sampling+/1.0/     1374\n",
       "Name: license, dtype: int64"
      ]
     },
     "execution_count": 49,
     "metadata": {},
     "output_type": "execute_result"
    }
   ],
   "source": [
    "# Value Counts for License Column\n",
    "\n",
    "print(\"Number of Unique License Types:\", dev_info.license.nunique())\n",
    "dev_info.license.value_counts()"
   ]
  },
  {
   "cell_type": "code",
   "execution_count": 48,
   "metadata": {},
   "outputs": [
    {
     "name": "stdout",
     "output_type": "stream",
     "text": [
      "4947\n"
     ]
    },
    {
     "data": {
      "text/plain": [
       "MTG                          3080\n",
       "Samulis                      1122\n",
       "quartertone                  1021\n",
       "NoiseCollector                663\n",
       "Corsica_S                     575\n",
       "dobroide                      547\n",
       "Robinhood76                   478\n",
       "Carlos_Vaquero                390\n",
       "pjcohen                       377\n",
       "Reitanna                      354\n",
       "delphidebrain                 352\n",
       "IFartInUrGeneralDirection     346\n",
       "Jagadamba                     341\n",
       "qubodup                       310\n",
       "sandyrb                       252\n",
       "clruwe                        249\n",
       "kwahmah_02                    244\n",
       "lex1975                       237\n",
       "Adam_N                        219\n",
       "InspectorJ                    215\n",
       "Name: uploader, dtype: int64"
      ]
     },
     "execution_count": 48,
     "metadata": {},
     "output_type": "execute_result"
    }
   ],
   "source": [
    "# Value Counts for Uploader Column\n",
    "\n",
    "print(\"Number of Unique Uploaders:\", dev_info.uploader.nunique())\n",
    "dev_info.uploader.value_counts().iloc[:20]"
   ]
  },
  {
   "cell_type": "code",
   "execution_count": 50,
   "metadata": {
    "scrolled": true
   },
   "outputs": [
    {
     "name": "stdout",
     "output_type": "stream",
     "text": [
      "Number of Unique Uploaders: 2297\n"
     ]
    },
    {
     "data": {
      "text/plain": [
       "Timbre                 135\n",
       "nicStage                82\n",
       "cognito perceptu        74\n",
       "Heigh-hoo               66\n",
       "juskiddink              65\n",
       "V4cuum                  63\n",
       "Tomlija                 62\n",
       "Puniho                  60\n",
       "RHumphries              59\n",
       "macdaddyno1             55\n",
       "Soundscape_Leuphana     52\n",
       "milton.                 52\n",
       "zagi2                   50\n",
       "jppi_Stu                50\n",
       "joedeshon               49\n",
       "UncleSigmund            48\n",
       "bsumusictech            48\n",
       "xserra                  45\n",
       "lonemonk                44\n",
       "morgantj                44\n",
       "Name: uploader, dtype: int64"
      ]
     },
     "execution_count": 50,
     "metadata": {},
     "output_type": "execute_result"
    }
   ],
   "source": [
    "print(\"Number of Unique Uploaders:\", eval_info.uploader.nunique())\n",
    "eval_info.uploader.value_counts().iloc[:20]"
   ]
  },
  {
   "cell_type": "code",
   "execution_count": 64,
   "metadata": {
    "scrolled": true
   },
   "outputs": [
    {
     "data": {
      "text/plain": [
       "set()"
      ]
     },
     "execution_count": 64,
     "metadata": {},
     "output_type": "execute_result"
    }
   ],
   "source": [
    "# checking for continuity of uploaders between dev and eval datasets\n",
    "# it appears that there is no overlap of between datasets (double check this...)\n",
    "\n",
    "set(eval_info.uploader.unique()).intersection(set(dev_info.uploader.unique()))"
   ]
  },
  {
   "cell_type": "code",
   "execution_count": null,
   "metadata": {},
   "outputs": [],
   "source": []
  }
 ],
 "metadata": {
  "kernelspec": {
   "display_name": "Python 3",
   "language": "python",
   "name": "python3"
  },
  "language_info": {
   "codemirror_mode": {
    "name": "ipython",
    "version": 3
   },
   "file_extension": ".py",
   "mimetype": "text/x-python",
   "name": "python",
   "nbconvert_exporter": "python",
   "pygments_lexer": "ipython3",
   "version": "3.7.7"
  }
 },
 "nbformat": 4,
 "nbformat_minor": 4
}
