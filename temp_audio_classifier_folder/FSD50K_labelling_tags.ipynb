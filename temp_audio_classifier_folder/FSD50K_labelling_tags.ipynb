{
 "cells": [
  {
   "cell_type": "markdown",
   "metadata": {},
   "source": [
    "### Loose EDA"
   ]
  },
  {
   "cell_type": "markdown",
   "metadata": {},
   "source": [
    "data: from https://zenodo.org/record/4060432#.X5ySHHhKgWo\n",
    "\n",
    "\n",
    "Thesis: identify humans (voice), animals, instruments, water, door, car, explosion (boom, thunder)\n",
    "\n",
    "3 Main CNN Models:\n",
    "\n",
    "Spectrograms\n",
    "MFCC Image Analysis\n",
    "Mean-MFCC Coefficient Analysis\n",
    "\n",
    "To do items:\n",
    "\n",
    "Update:\n",
    "1. model on image analysis of Mel Frequency Spectrogram (images)\n",
    "2. model on analysis of coefficients of MFCC (unless it ends up making sense to analyze the image as well)\n",
    "\n",
    "\n",
    "- create new columns of labels I will use (tags too long and many)\n",
    "\n",
    "- extract MFCC of all files to add to dataframe\n",
    "\n",
    "- consider need to trim audio files to make same length, OR adding length to short files (padding them?)"
   ]
  },
  {
   "cell_type": "code",
   "execution_count": 1,
   "metadata": {},
   "outputs": [],
   "source": [
    "import pandas as pd\n",
    "%matplotlib inline"
   ]
  },
  {
   "cell_type": "code",
   "execution_count": 2,
   "metadata": {},
   "outputs": [],
   "source": [
    "dev_info = pd.read_json('data/FSD50K.metadata/dev_clips_info_FSD50K.json').T"
   ]
  },
  {
   "cell_type": "code",
   "execution_count": 3,
   "metadata": {},
   "outputs": [],
   "source": [
    "eval_info = pd.read_json('data/FSD50K.metadata/eval_clips_info_FSD50K.json').T\n"
   ]
  },
  {
   "cell_type": "code",
   "execution_count": 5,
   "metadata": {
    "scrolled": true
   },
   "outputs": [
    {
     "data": {
      "text/html": [
       "<div>\n",
       "<style scoped>\n",
       "    .dataframe tbody tr th:only-of-type {\n",
       "        vertical-align: middle;\n",
       "    }\n",
       "\n",
       "    .dataframe tbody tr th {\n",
       "        vertical-align: top;\n",
       "    }\n",
       "\n",
       "    .dataframe thead th {\n",
       "        text-align: right;\n",
       "    }\n",
       "</style>\n",
       "<table border=\"1\" class=\"dataframe\">\n",
       "  <thead>\n",
       "    <tr style=\"text-align: right;\">\n",
       "      <th></th>\n",
       "      <th>title</th>\n",
       "      <th>description</th>\n",
       "      <th>tags</th>\n",
       "      <th>license</th>\n",
       "      <th>uploader</th>\n",
       "      <th>track_num</th>\n",
       "    </tr>\n",
       "  </thead>\n",
       "  <tbody>\n",
       "    <tr>\n",
       "      <th>63</th>\n",
       "      <td>RalfHutterWorking.wav</td>\n",
       "      <td>Ralf Hutter from Kraftwerk saying \"Working on ...</td>\n",
       "      <td>[male, voice]</td>\n",
       "      <td>http://creativecommons.org/licenses/by/3.0/</td>\n",
       "      <td>fectoper</td>\n",
       "      <td>63.wav</td>\n",
       "    </tr>\n",
       "    <tr>\n",
       "      <th>136</th>\n",
       "      <td>keyboard-rhymtic.wav</td>\n",
       "      <td>Noise of an average logitech keyboard. Pretty ...</td>\n",
       "      <td>[keyboard, rhythmic, tap, type]</td>\n",
       "      <td>http://creativecommons.org/licenses/by/3.0/</td>\n",
       "      <td>Anton</td>\n",
       "      <td>136.wav</td>\n",
       "    </tr>\n",
       "    <tr>\n",
       "      <th>137</th>\n",
       "      <td>keyboard-typing.wav</td>\n",
       "      <td>Noise of an average logitech keyboard. Pretty ...</td>\n",
       "      <td>[computer, environmental-sounds-research, key,...</td>\n",
       "      <td>http://creativecommons.org/licenses/by/3.0/</td>\n",
       "      <td>Anton</td>\n",
       "      <td>137.wav</td>\n",
       "    </tr>\n",
       "    <tr>\n",
       "      <th>221</th>\n",
       "      <td>bell.wav</td>\n",
       "      <td>simple *ting* sound</td>\n",
       "      <td>[bell]</td>\n",
       "      <td>http://creativecommons.org/publicdomain/zero/1.0/</td>\n",
       "      <td>Erratic</td>\n",
       "      <td>221.wav</td>\n",
       "    </tr>\n",
       "    <tr>\n",
       "      <th>236</th>\n",
       "      <td>BUSSES.aiff</td>\n",
       "      <td>Departing busses\\r\\n at Utrecht Central Railwa...</td>\n",
       "      <td>[bus, depart, drive, station]</td>\n",
       "      <td>http://creativecommons.org/licenses/by-nc/3.0/</td>\n",
       "      <td>hanstimm</td>\n",
       "      <td>236.wav</td>\n",
       "    </tr>\n",
       "  </tbody>\n",
       "</table>\n",
       "</div>"
      ],
      "text/plain": [
       "                     title                                        description  \\\n",
       "63   RalfHutterWorking.wav  Ralf Hutter from Kraftwerk saying \"Working on ...   \n",
       "136   keyboard-rhymtic.wav  Noise of an average logitech keyboard. Pretty ...   \n",
       "137    keyboard-typing.wav  Noise of an average logitech keyboard. Pretty ...   \n",
       "221               bell.wav                                simple *ting* sound   \n",
       "236            BUSSES.aiff  Departing busses\\r\\n at Utrecht Central Railwa...   \n",
       "\n",
       "                                                  tags  \\\n",
       "63                                       [male, voice]   \n",
       "136                    [keyboard, rhythmic, tap, type]   \n",
       "137  [computer, environmental-sounds-research, key,...   \n",
       "221                                             [bell]   \n",
       "236                      [bus, depart, drive, station]   \n",
       "\n",
       "                                               license  uploader track_num  \n",
       "63         http://creativecommons.org/licenses/by/3.0/  fectoper    63.wav  \n",
       "136        http://creativecommons.org/licenses/by/3.0/     Anton   136.wav  \n",
       "137        http://creativecommons.org/licenses/by/3.0/     Anton   137.wav  \n",
       "221  http://creativecommons.org/publicdomain/zero/1.0/   Erratic   221.wav  \n",
       "236     http://creativecommons.org/licenses/by-nc/3.0/  hanstimm   236.wav  "
      ]
     },
     "execution_count": 5,
     "metadata": {},
     "output_type": "execute_result"
    }
   ],
   "source": [
    "dev_info = dev_info.sort_index()\n",
    "dev_info['track_num'] = dev_info.index\n",
    "dev_info['track_num'] = dev_info['track_num'].apply(lambda x: str(x) + '.wav')\n",
    "dev_info.head()"
   ]
  },
  {
   "cell_type": "code",
   "execution_count": 7,
   "metadata": {},
   "outputs": [],
   "source": [
    "# Nothing useful here, but why would they include this if useless?\n",
    "\n",
    "# ratings_info = pd.read_json('FSD50K.metadata/pp_pnp_ratings_FSD50K.json')"
   ]
  },
  {
   "cell_type": "code",
   "execution_count": 8,
   "metadata": {},
   "outputs": [],
   "source": [
    "# eval_info.sort_index(inplace=True)\n",
    "# eval_info['track_num'] = eval_info.index\n",
    "# eval_info['track_num'] = eval_info['track_num'].apply(lambda x: str(x) + '.wav')\n",
    "# #eval_info.head()"
   ]
  },
  {
   "cell_type": "code",
   "execution_count": 6,
   "metadata": {},
   "outputs": [],
   "source": [
    "dev_info['track_num'] = dev_info.index\n",
    "dev_info['track_num'] = dev_info['track_num'].apply(lambda x: str(x) + '.wav')\n",
    "#dev_info.head()"
   ]
  },
  {
   "cell_type": "code",
   "execution_count": 10,
   "metadata": {},
   "outputs": [],
   "source": [
    "# unique_tags = []\n",
    "\n",
    "# for tag_list in dev_info.tags:\n",
    "#     for sub_tag in tag_list:\n",
    "#         if sub_tag not in unique_tags:\n",
    "#             unique_tags.append(sub_tag)\n",
    "\n",
    "# len(unique_tags)"
   ]
  },
  {
   "cell_type": "code",
   "execution_count": 7,
   "metadata": {
    "scrolled": true
   },
   "outputs": [],
   "source": [
    "# print(unique_tags[:100])"
   ]
  },
  {
   "cell_type": "markdown",
   "metadata": {},
   "source": [
    "# Building Labels Column with Lamdba Conditional Functions"
   ]
  },
  {
   "cell_type": "code",
   "execution_count": 8,
   "metadata": {
    "scrolled": false
   },
   "outputs": [
    {
     "data": {
      "text/html": [
       "<div>\n",
       "<style scoped>\n",
       "    .dataframe tbody tr th:only-of-type {\n",
       "        vertical-align: middle;\n",
       "    }\n",
       "\n",
       "    .dataframe tbody tr th {\n",
       "        vertical-align: top;\n",
       "    }\n",
       "\n",
       "    .dataframe thead th {\n",
       "        text-align: right;\n",
       "    }\n",
       "</style>\n",
       "<table border=\"1\" class=\"dataframe\">\n",
       "  <thead>\n",
       "    <tr style=\"text-align: right;\">\n",
       "      <th></th>\n",
       "      <th>title</th>\n",
       "      <th>description</th>\n",
       "      <th>tags</th>\n",
       "      <th>license</th>\n",
       "      <th>uploader</th>\n",
       "      <th>track_num</th>\n",
       "    </tr>\n",
       "  </thead>\n",
       "  <tbody>\n",
       "    <tr>\n",
       "      <th>63</th>\n",
       "      <td>RalfHutterWorking.wav</td>\n",
       "      <td>Ralf Hutter from Kraftwerk saying \"Working on ...</td>\n",
       "      <td>[male, voice]</td>\n",
       "      <td>http://creativecommons.org/licenses/by/3.0/</td>\n",
       "      <td>fectoper</td>\n",
       "      <td>63.wav</td>\n",
       "    </tr>\n",
       "    <tr>\n",
       "      <th>136</th>\n",
       "      <td>keyboard-rhymtic.wav</td>\n",
       "      <td>Noise of an average logitech keyboard. Pretty ...</td>\n",
       "      <td>[keyboard, rhythmic, tap, type]</td>\n",
       "      <td>http://creativecommons.org/licenses/by/3.0/</td>\n",
       "      <td>Anton</td>\n",
       "      <td>136.wav</td>\n",
       "    </tr>\n",
       "    <tr>\n",
       "      <th>137</th>\n",
       "      <td>keyboard-typing.wav</td>\n",
       "      <td>Noise of an average logitech keyboard. Pretty ...</td>\n",
       "      <td>[computer, environmental-sounds-research, key,...</td>\n",
       "      <td>http://creativecommons.org/licenses/by/3.0/</td>\n",
       "      <td>Anton</td>\n",
       "      <td>137.wav</td>\n",
       "    </tr>\n",
       "    <tr>\n",
       "      <th>221</th>\n",
       "      <td>bell.wav</td>\n",
       "      <td>simple *ting* sound</td>\n",
       "      <td>[bell]</td>\n",
       "      <td>http://creativecommons.org/publicdomain/zero/1.0/</td>\n",
       "      <td>Erratic</td>\n",
       "      <td>221.wav</td>\n",
       "    </tr>\n",
       "    <tr>\n",
       "      <th>236</th>\n",
       "      <td>BUSSES.aiff</td>\n",
       "      <td>Departing busses\\r\\n at Utrecht Central Railwa...</td>\n",
       "      <td>[bus, depart, drive, station]</td>\n",
       "      <td>http://creativecommons.org/licenses/by-nc/3.0/</td>\n",
       "      <td>hanstimm</td>\n",
       "      <td>236.wav</td>\n",
       "    </tr>\n",
       "  </tbody>\n",
       "</table>\n",
       "</div>"
      ],
      "text/plain": [
       "                     title                                        description  \\\n",
       "63   RalfHutterWorking.wav  Ralf Hutter from Kraftwerk saying \"Working on ...   \n",
       "136   keyboard-rhymtic.wav  Noise of an average logitech keyboard. Pretty ...   \n",
       "137    keyboard-typing.wav  Noise of an average logitech keyboard. Pretty ...   \n",
       "221               bell.wav                                simple *ting* sound   \n",
       "236            BUSSES.aiff  Departing busses\\r\\n at Utrecht Central Railwa...   \n",
       "\n",
       "                                                  tags  \\\n",
       "63                                       [male, voice]   \n",
       "136                    [keyboard, rhythmic, tap, type]   \n",
       "137  [computer, environmental-sounds-research, key,...   \n",
       "221                                             [bell]   \n",
       "236                      [bus, depart, drive, station]   \n",
       "\n",
       "                                               license  uploader track_num  \n",
       "63         http://creativecommons.org/licenses/by/3.0/  fectoper    63.wav  \n",
       "136        http://creativecommons.org/licenses/by/3.0/     Anton   136.wav  \n",
       "137        http://creativecommons.org/licenses/by/3.0/     Anton   137.wav  \n",
       "221  http://creativecommons.org/publicdomain/zero/1.0/   Erratic   221.wav  \n",
       "236     http://creativecommons.org/licenses/by-nc/3.0/  hanstimm   236.wav  "
      ]
     },
     "execution_count": 8,
     "metadata": {},
     "output_type": "execute_result"
    }
   ],
   "source": [
    "dev_info.head()"
   ]
  },
  {
   "cell_type": "code",
   "execution_count": 30,
   "metadata": {},
   "outputs": [],
   "source": [
    "human_words = ['human', 'man', 'male', 'voice','woman','children',\n",
    "               'boy', 'girl', 'talk', 'kids','announcement', 'announcer',\n",
    "              'conversations', 'people', 'singing', 'vocals', 'chant']\n",
    "\n",
    "comedy_words = ['comedy', 'laughing', 'laughs', 'laugh']\n",
    "\n",
    "foley_words = ['keyboard', 'keys', 'coin', 'money', 'scratch', 'coins', \n",
    "               'crackle', 'eating', 'click', 'zipper', 'tools', 'foley', 'breath', 'cough']\n",
    "\n",
    "baby_words = ['crying','baby', 'scream']\n",
    "\n",
    "animal_words = ['dog', 'dogs', 'cat', 'bark', 'purr', 'frogs','frog', 'cricket', \n",
    "                'crickets', 'birds', 'bird', 'warbler', 'insects','birdsong',\n",
    "               'bee', 'insect','pigs', 'pig','animal-sounds','grasshopper','bugs',\n",
    "               'ducks', 'rooster', 'owl', 'monkey', 'animals', 'cattle',\n",
    "               'hen', 'hens' 'fart', 'flatulence', 'animal']\n",
    "\n",
    "music_words = ['instrument', 'guitar', 'piano', 'bell', 'shaker', \n",
    "               'sax', 'clarinet', 'riff', 'single-note', 'chord',\n",
    "              'electric-piano', 'bass', 'cello', 'organ', 'violin', 'viola', \n",
    "               'double-bass', 'classical-guitar', 'chordophone',\n",
    "               'transverse-flute','bassoon', 'flute', 'trumpet', 'harmonica',\n",
    "              'music', 'brass', 'saxophone', 'orchestra', 'drumloop']\n",
    "\n",
    "percussion_words = ['drums', 'drum', 'bass-drum', 'percussion', \n",
    "                    'cymbal' ,'hi-hat','tambourine''xylophone']\n",
    "\n",
    "nature_words = ['water', 'rain', 'wind', 'ocean', 'waterfall', 'peeing',\n",
    "                'whoosh', 'nature', 'faucet', 'boiling', 'dripping']\n",
    "\n",
    "machinery_words = ['car', 'engine', 'bus', 'driving', 'drive', 'mixer',\n",
    "                   'machine', 'drill','blender', 'blendering', 'train', 'metro']\n",
    "\n",
    "ambient_words = ['environmental-sounds-research','applause', 'clap', 'crowd']\n",
    "\n",
    "door_words = ['door', 'opening', 'closing', 'drawer', 'shut', 'close', 'gate', 'doorslam']\n",
    "\n",
    "fire_words = ['lighter','fire', 'spark', 'explosion', 'glass', 'thunder', \n",
    "              'lightning', 'gun', 'crack','burning', 'bang', 'banging', 'hit',\n",
    "             'beep', 'beeping', 'kettle', 'alarm', 'phone']\n",
    "\n",
    "movement_words = ['footsteps', 'clop', 'walk']\n",
    "\n",
    "# combine foley with household\n",
    "household_words = ['cooking', 'pot', 'pan', 'slicing', 'cutting', 'cut', \n",
    "                   'sharpening', 'clock', 'ticking', 'paper', 'camera', 'metal']\n",
    "\n",
    "'dance'\n",
    "'electro'\n",
    "'bells'\n",
    "'helicopter'\n",
    "'whisper'\n",
    "'chords'\n",
    "'didgeridoo'\n",
    "'snare'\n",
    "'groovy'\n",
    "'world-music'\n",
    "'trains'\n",
    "'motorcycle'\n",
    "\n",
    "def cat_labeler(tag_list):\n",
    "    if set(human_words).intersection(tag_list):\n",
    "        return 'human'\n",
    "    elif set(comedy_words).intersection(tag_list):\n",
    "        return 'comedy'\n",
    "    elif set(door_words).intersection(tag_list):\n",
    "        return 'door'  \n",
    "    elif set(baby_words).intersection(tag_list):\n",
    "        return 'baby'\n",
    "    elif set(animal_words).intersection(tag_list):\n",
    "        return 'animal'    \n",
    "    elif set(music_words).intersection(tag_list):\n",
    "        return 'music'\n",
    "    elif set(percussion_words).intersection(tag_list):\n",
    "        return 'percussion'\n",
    "    elif set(machinery_words).intersection(tag_list):\n",
    "        return 'machines'\n",
    "    elif set(ambient_words).intersection(tag_list):\n",
    "        return 'ambient'\n",
    "    elif set(fire_words).intersection(tag_list):\n",
    "        return 'fire'   \n",
    "    elif set(movement_words).intersection(tag_list):\n",
    "        return 'movement'\n",
    "    elif set(household_words).intersection(tag_list):\n",
    "        return 'household'\n",
    "    elif set(foley_words).intersection(tag_list):\n",
    "        return 'foley'  \n",
    "    elif set(nature_words).intersection(tag_list):\n",
    "        return 'nature'\n",
    "    else:\n",
    "        return 'other'\n",
    "    \n",
    "dev_info['labels'] = dev_info['tags'].apply(cat_labeler)    "
   ]
  },
  {
   "cell_type": "code",
   "execution_count": 31,
   "metadata": {
    "scrolled": true
   },
   "outputs": [
    {
     "name": "stdout",
     "output_type": "stream",
     "text": [
      "['133bpm', 'drumloop', 'electro', 'loop']\n",
      "['115bpm', 'dance', 'drumloop', 'electronic', 'loop', 'weird']\n",
      "['115bpm', 'dance', 'drumloop', 'electronic', 'loop', 'weird']\n",
      "['115bpm', 'dance', 'drumloop', 'electronic', 'loop', 'weird']\n",
      "['140-bpm', 'drumloop', 'electro', 'loop']\n",
      "['140-bpm', 'drumloop', 'electro', 'loop']\n",
      "['140-bpm', 'drumloop', 'electro', 'loop']\n",
      "['acoustic', 'drumloop', 'loop']\n",
      "['acoustic', 'drumloop', 'loop']\n",
      "['acoustic', 'drumloop', 'loop']\n",
      "['acoustic', 'drumloop', 'loop']\n",
      "['acoustic', 'drumloop', 'loop']\n",
      "['acoustic', 'drumloop', 'loop']\n",
      "['bells', 'delay', 'loop', 'remix']\n",
      "['120bpm', 'drumloop', 'electro', 'electronic', 'loop', 'rhythmic']\n",
      "['120bpm', 'drumloop', 'electro', 'electronic', 'loop', 'rhythmic']\n",
      "['120bpm', 'beat', 'binaural', 'drumloop', 'loop', 'rhythm', 'rhythmic']\n",
      "['100bpm', 'dance', 'didgeridoo', 'didjeridu', 'fast', 'loop', 'rhythm', 'wild']\n",
      "['bells', 'campanology', 'church', 'field-recording', 'loop', 'peal', 'pealing', 'repeat', 'ring', 'ringing']\n",
      "['buddhist', 'chant', 'field-recording', 'korea', 'loop', 'temple']\n",
      "['buddhist', 'chant', 'field-recording', 'korea', 'loop', 'temple']\n",
      "['field-recording', 'korea', 'loop', 'seoul', 'subway']\n",
      "['120bpm', 'drumloop', 'loop', 'minimal']\n",
      "['120bpm', 'drumloop', 'experimental', 'loop', 'minimal']\n",
      "['bells', 'campanology', 'church', 'field-recording', 'loop', 'pealing', 'repeat']\n",
      "['124', '124bpm', 'bleach', 'crunch', 'dice', 'dices', 'ice', 'loop', 'shake']\n",
      "['130', '130bpm', 'bleach', 'crunch', 'dice', 'dices', 'ice', 'loop', 'shake']\n",
      "['electro', 'electronic', 'improv', 'loop', 'minimal', 'simple', 'theremin']\n",
      "['beat', 'breakbeat', 'dirty', 'distorsion', 'drumloop', 'dub', 'electro', 'filter', 'hiphop', 'loop', 'phat', 'powerful', 'processing', 'remix', 'space', 'warning']\n",
      "['bathroom', 'boiler', 'laundry', 'loop', 'loopable', 'noise', 'washing-machine']\n",
      "['barcelona-ciutat-vella', 'facade-demolition', 'field-recording', 'hammer', 'loop', 'machines-artifacts', 'metal-scaffolding', 'rhythmic', 'scarp', 'sonsdebarcelona-micro']\n",
      "['barcelona-ciutat-vella', 'facade-demolition', 'field-recording', 'hammer', 'loop', 'machines-artifacts', 'metal-scaffolding', 'rhythmic', 'scarp', 'sonsdebarcelona-micro']\n",
      "['barcelona-ciutat-vella', 'facade-demolition', 'field-recording', 'hammer', 'loop', 'machines-artifacts', 'metal-scaffolding', 'rhythmic', 'scarp', 'sonsdebarcelona-micro']\n",
      "['field-recording', 'flying', 'helicopter', 'hover', 'hovering', 'loop', 'oy', 'piston-engine', 'r22', 'robinson', 'zoom-h2']\n",
      "['field-recording', 'flying', 'helicopter', 'idle', 'loop', 'oy', 'piston-engine', 'r22', 'robinson', 'zoom-h2']\n",
      "['colibri', 'ec-120b', 'eurocopter', 'field-recording', 'gas-turbine', 'helicopter', 'hover', 'hovering', 'loop', 'news', 'news-helicopter', 'oy', 'turboshaft', 'tv2', 'zoom-h2']\n",
      "['120', 'hip', 'hiphop', 'hop', 'loop', 'out', 'rap', 'take', 'this']\n",
      "['cellphone', 'loop', 'mobile', 'mobile-phone', 'mono', 'samsung', 'telephone', 'vibrate']\n",
      "['loop', 'whisper']\n",
      "['trombone', 'hook', 'sequenced', 'loop', '120bpm']\n",
      "['laundry', 'household', 'wash-cycle', 'dryer', 'washing-machine', 'washer', 'loop', 'clothes']\n",
      "['broken', 'snare', '32-bit', '180', 'loop']\n",
      "['105-bpm', 'dream', 'loop', 'harp']\n",
      "['beat', 'dub', 'modern', 'down-tempo', 'beatbox', 'drumloop', 'dubstep', 'loop', 'rap', 'sharp', 'electro', 'groove', 'hip-hop']\n",
      "['helikopter', 'hubschrauber', 'hubschrapschrap', 'propeller', 'aircraft', 'propelled', 'loops', 'helicopter', 'heli', 'loop']\n",
      "['house-music', 'kick-drum', 'loop']\n",
      "['c-maj', 'old-fashioned', 'hookline', 'd-min', 'cozy', 'chords', '120bpm', 'pizzicato', 'cinematic', 'plucked', 'cheerful', 'background', 'vintage', 'jingle', 'happy', 'strings', 'jolly', 'harp', 'loop']\n",
      "['hi-hats', 'open-hi-hatd', 'closed-hi-hats', '4x4-records', '140-bpm', 'jlee', 'loop']\n",
      "['beatbox', 'whisper', 'vocal', 'bfj2', 'dare-19', 'loop']\n",
      "['beatbox', 'whisper', 'vocal', 'bfj2', 'dare-19', 'loop']\n",
      "['flight', 'heli', 'flying', 'air-travel', 'attack', 'repeatable', 'seeamless', 'vehicle', 'gapless', 'helicopter', 'aerodynamic', 'technology', 'loop']\n",
      "['glass-bottle', 'tapping', 'loop']\n",
      "['rotor', 'blade', 'flight', 'vibration', 'aviation', 'technology', 'vibrating', 'flying', 'seamless', 'air-travel', 'pressure', 'air', 'game-sound', 'vehicle', 'gapless', 'helicopter', 'military', 'heli', 'loop', 'movement']\n",
      "['rotor', 'flying', 'flight', 'vibration', 'military', 'technology', 'blade', 'seamless', 'air-travel', 'pressure', 'vibrating', 'vehicle', 'loop', 'helicopter', 'gapless', 'aviation', 'air', 'heli', 'game-sound', 'movement']\n",
      "['livedrums', 'snare', 'bpm', 'bassdrum', 'loop']\n",
      "['sound', 'made', 'electronic', 'studio', 'guitars', 'fl', 'loop']\n",
      "['rhythmic', '120bpm', 'granular', 'beat', 'drumloop', 'dance', 'distorted', 'filtered', 'electro', 'electronic', 'loop']\n",
      "['rhythmic', '120bpm', 'granular', 'beat', 'drumloop', 'dance', 'distorted', 'filtered', 'electro', 'electronic', 'loop']\n",
      "['rhythmic', '120bpm', 'granular', 'beat', 'drumloop', 'dance', 'distorted', 'filtered', 'electro', 'electronic', 'loop']\n",
      "['rhythmic', '120bpm', 'granular', 'beat', 'drumloop', 'dance', 'distorted', 'filtered', 'electro', 'electronic', 'loop']\n",
      "['rhythmic', '120bpm', 'granular', 'beat', 'drumloop', 'dance', 'distorted', 'filtered', 'electro', 'electronic', 'loop']\n",
      "['rhythmic', '120bpm', 'granular', 'beat', 'drumloop', 'dance', 'distorted', 'filtered', 'electro', 'electronic', 'loop']\n",
      "['rhythmic', '120bpm', 'granular', 'beat', 'drumloop', 'dance', 'distorted', 'filtered', 'electro', 'electronic', 'loop']\n",
      "['noise', 'electric', 'power', 'electricity', 'hum', 'game', 'zap', 'buzz', 'sfx', 'line', 'loop']\n",
      "['circular-breathing', 'australia', 'didgeridoo', 'primal', 'tribal', 'didjeridu', '115-bpm', 'loop']\n",
      "['circular-breathing', 'australia', 'didgeridoo', 'primal', 'tribal', 'didjeridu', '115-bpm', 'loop']\n",
      "['circular-breathing', 'australia', 'field-recording', 'didgeridoo', 'primal', 'tribal', 'didjeridu', 'recording', 'beat', 'kick-drum', '100-bpm', 'loop']\n",
      "['circular-breathing', 'australia', 'field-recording', 'didgeridoo', 'primal', 'tribal', 'didjeridu', 'recording', 'beat', '100-bpm', 'loop']\n",
      "['4-bar', 'australia', 'didgeridoo', 'primal', 'tribal', 'didjeridu', '100-bpm', 'loop']\n",
      "['4-bar', 'australia', 'didgeridoo', 'primal', 'tribal', 'didjeridu', '100-bpm', 'loop']\n",
      "['groovy', 'beat', 'break', '98-bpm', 'drum-loop', 'breakbeat', 'loop']\n",
      "['beat', 'breakbeats', 'drumloop', '135-bpm', 'breakbeat', 'loop', '3-4']\n",
      "['beat', 'breakbeats', 'drumloop', '135-bpm', 'breakbeat', 'loop', '3-4']\n",
      "['beat', 'bpm', '115', '115bpm', 'drumloop', 'maschine', 'loop']\n",
      "['beat', 'bpm', '115', '115bpm', 'drumloop', 'maschine', 'loop']\n",
      "['drum-loop', 'rhythm', 'beat', 'oldskool', 'drumloop', '120-bpm', 'old-school', 'breakbeat', 'golden-age', 'loop', 'bigbeat']\n",
      "['drum-loop', 'rhythm', 'beat', 'oldskool', 'drumloop', '120-bpm', 'old-school', 'breakbeat', 'golden-age', 'loop', 'bigbeat']\n",
      "['beat', 'bpm', 'drumloop', '130', 'maschine', 'loop']\n",
      "['beat', 'bpm', 'drumloop', 'maschine', '95', 'loop', 'rhythm']\n",
      "['dance', 'house', 'housemusic', 'minimalist', 'beat', 'techno', 'minimal', 'drum-loop', 'electro', 'electronic', 'loop']\n",
      "['didgeridoo', 'didjeridu', 'loop']\n",
      "['snare', 'loop', 'kick']\n",
      "['interacting', 'fx', 'laptop', 'computer', 'typing', 'hacking', 'loop']\n",
      "['pedal', 'bike', 'bicycle', 'loop']\n",
      "['city', 'siren', 'police', 'city-noise', 'cops', 'street', 'traffic', 'loop', 'police-siren', 'highway', 'chase']\n",
      "['euphoria', 'chorus', 'hymn', 'choir', 'handel', 'victory', 'hallelujah', 'church', 'cathedral', 'religious', 'messiah', 'loopable', 'loop']\n",
      "['echoing', 'repetitive', 'searching', 'echo', 'suspense', 'subtle', 'film', 'repetition', 'mallet', 'movie', 'loopable', 'delay', 'waiting', 'wood', 'percussive', 'tension', '80bpm', 'biding', 'cinematic', 'dramatic', 'tense', 'background', 'expectant', 'subdued', 'wooden', 'observant', 'expecting', 'loop']\n",
      "['ventilation', 'field-recording', 'loop', 'air']\n",
      "['cleaner', 'electric', 'loop', 'vacuum']\n",
      "['airbus', '777', 'noise', 'inside', 'ambiance', 'interior', 'plane', 'background', 'ambience', 'repeat', 'airplane', 'loop']\n",
      "['groovy', 'rhythm', 'beat', '99-bpm', 'percussion-loop', 'funky', 'drum-loop', 'blues', 'loop']\n",
      "['rhythm', 'beat', 'bounce', 'percussion-loop', '120-bmp', 'drum-loop', 'percs', 'loop']\n",
      "['wheel', 'pedaling', 'bike', 'spokes', 'mechanic', 'bicycle', 'loop', 'cycle']\n",
      "['hammer', 'loop', 'metallic']\n",
      "['end', 'steam', 'loop']\n",
      "['start', 'steam', 'loop']\n",
      "['beatbox', 'drum-machine', 'beat', 'drumloop', 'rhythm', 'electro', 'groove', 'loop']\n",
      "['electronica', 'free', 'chants', 'idm', 'ethnic', 'rythms', 'braindance', 'loop']\n",
      "['loop', 'seamless-loop', 'loopable', 'moody', 'horror', 'fear', 'choir', 'terror', 'ambient', '98-bpm', 'haunted', 'drama', 'creepy', 'halloween', '98bpm', 'nightmare', 'spooky', 'scary', 'sinister', 'dark', 'phantom']\n",
      "['140-bpm', 'loop', 'drumloop', 'beat', 'breakbeat']\n",
      "['world-music', 'didgeridu', 'rhythm', 'loop', 'filler', 'didjeridu', 'didgeridoo', 'aerophone']\n",
      "['world-music', 'didgeridu', 'rhythm', 'loop', 'filler', 'didjeridu', 'didgeridoo', 'aerophone']\n",
      "['world-music', 'didgeridu', 'rhythm', 'loop', 'filler', 'didjeridu', 'didgeridoo', 'aerophone']\n",
      "['world-music', 'didgeridu', 'rhythm', 'loop', 'filler', 'didjeridu', 'didgeridoo', 'aerophone']\n",
      "['world-music', 'didgeridu', 'rhythm', 'loop', 'filler', 'didjeridu', 'didgeridoo', 'aerophone']\n",
      "['didgeridu', 'rhythm', 'loop', 'filler', 'didjeridu', 'didgeridoo', 'aerophone']\n",
      "['loop', 'didgeridu', 'drone', 'wave', 'didgeridoo', 'natural']\n",
      "['loop', 'compressed', 'drumloop', 'hard', 'beat', '162bpm']\n",
      "['refrigerator', 'ambient', 'loop', 'fridge', 'appliance', 'household', 'hum', 'cooler']\n",
      "['trains', 'rhythm', 'loop']\n",
      "['trains', 'rhythm', 'loop']\n",
      "['trains', 'rhythm', 'loop']\n",
      "['trains', 'rhythm', 'loop']\n",
      "['loop', 'bit', '8', 'nintendo', '8bit', 'gameboy', 'ds10', 'ringtone', 'lsdj', 'loopable']\n",
      "['loop', 'chant', 'wo']\n",
      "['motorcycle', 'loop', 'revs', 'low', 'static', 'twin', 'deep', 'tickover', 'cylinder', 'idling']\n"
     ]
    }
   ],
   "source": [
    "for row in dev_info[dev_info.labels == 'other']['tags']:\n",
    "    for tag in row:\n",
    "        if tag == 'loop':\n",
    "            print(row)"
   ]
  },
  {
   "cell_type": "code",
   "execution_count": null,
   "metadata": {},
   "outputs": [],
   "source": [
    "'dance'\n",
    "'electro'\n",
    "'bells'\n",
    "'helicopter'\n",
    "'whisper'\n",
    "'chords'\n",
    "'didgeridoo'\n",
    "'snare'\n",
    "'groovy'\n",
    "'world-music'\n",
    "'trains'\n",
    "'motorcycle'"
   ]
  },
  {
   "cell_type": "code",
   "execution_count": 18,
   "metadata": {},
   "outputs": [],
   "source": [
    "# dictionary for remaining tags\n",
    "\n",
    "remaining_tags_dict = {}\n",
    "\n",
    "for row in dev_info[dev_info.labels == 'other']['tags']:\n",
    "    for tag in row:\n",
    "        if tag not in remaining_tags_dict:\n",
    "            remaining_tags_dict[tag] =1\n",
    "        else:\n",
    "            remaining_tags_dict[tag] += 1  \n"
   ]
  },
  {
   "cell_type": "code",
   "execution_count": null,
   "metadata": {},
   "outputs": [],
   "source": []
  },
  {
   "cell_type": "code",
   "execution_count": 19,
   "metadata": {
    "scrolled": false
   },
   "outputs": [
    {
     "data": {
      "text/plain": [
       "field-recording    487\n",
       "metal              213\n",
       "camera             172\n",
       "noise              139\n",
       "sound              123\n",
       "loop               116\n",
       "wood               115\n",
       "owi                109\n",
       "squeak             109\n",
       "burp               103\n",
       "samples             99\n",
       "speech              92\n",
       "plastic             89\n",
       "shutter             88\n",
       "toilet              85\n",
       "metallic            84\n",
       "bicycle             82\n",
       "hammer              82\n",
       "flush               80\n",
       "horse               79\n",
       "dtype: int64"
      ]
     },
     "execution_count": 19,
     "metadata": {},
     "output_type": "execute_result"
    }
   ],
   "source": [
    "remaining_tags_series = pd.Series(remaining_tags_dict)\n",
    "remaining_tags_series.sort_values(ascending=False).iloc[:20]"
   ]
  },
  {
   "cell_type": "code",
   "execution_count": 20,
   "metadata": {},
   "outputs": [
    {
     "data": {
      "text/plain": [
       "music         10124\n",
       "other          5416\n",
       "human          4445\n",
       "fire           3865\n",
       "animal         3268\n",
       "percussion     2489\n",
       "foley          2281\n",
       "machines       2258\n",
       "nature         2232\n",
       "door           1673\n",
       "household      1058\n",
       "ambient         801\n",
       "movement        412\n",
       "comedy          399\n",
       "baby            245\n",
       "Name: labels, dtype: int64"
      ]
     },
     "execution_count": 20,
     "metadata": {},
     "output_type": "execute_result"
    }
   ],
   "source": [
    "dev_info.labels.value_counts()"
   ]
  },
  {
   "cell_type": "code",
   "execution_count": 25,
   "metadata": {
    "scrolled": false
   },
   "outputs": [
    {
     "data": {
      "text/plain": [
       "music         10124\n",
       "other          5416\n",
       "human          4445\n",
       "fire           3865\n",
       "animal         3268\n",
       "percussion     2489\n",
       "foley          2281\n",
       "machines       2258\n",
       "nature         2232\n",
       "door           1673\n",
       "household      1058\n",
       "ambient         801\n",
       "movement        412\n",
       "comedy          399\n",
       "baby            245\n",
       "Name: labels, dtype: int64"
      ]
     },
     "execution_count": 25,
     "metadata": {},
     "output_type": "execute_result"
    }
   ],
   "source": [
    "# dev_info[dev_info.labels == 'other'].labels\n",
    "dev_info.labels.value_counts()"
   ]
  },
  {
   "cell_type": "code",
   "execution_count": 32,
   "metadata": {},
   "outputs": [
    {
     "data": {
      "text/html": [
       "<div>\n",
       "<style scoped>\n",
       "    .dataframe tbody tr th:only-of-type {\n",
       "        vertical-align: middle;\n",
       "    }\n",
       "\n",
       "    .dataframe tbody tr th {\n",
       "        vertical-align: top;\n",
       "    }\n",
       "\n",
       "    .dataframe thead th {\n",
       "        text-align: right;\n",
       "    }\n",
       "</style>\n",
       "<table border=\"1\" class=\"dataframe\">\n",
       "  <thead>\n",
       "    <tr style=\"text-align: right;\">\n",
       "      <th></th>\n",
       "      <th>title</th>\n",
       "      <th>description</th>\n",
       "      <th>tags</th>\n",
       "      <th>license</th>\n",
       "      <th>uploader</th>\n",
       "      <th>track_num</th>\n",
       "      <th>labels</th>\n",
       "    </tr>\n",
       "  </thead>\n",
       "  <tbody>\n",
       "    <tr>\n",
       "      <th>63</th>\n",
       "      <td>RalfHutterWorking.wav</td>\n",
       "      <td>Ralf Hutter from Kraftwerk saying \"Working on ...</td>\n",
       "      <td>[male, voice]</td>\n",
       "      <td>http://creativecommons.org/licenses/by/3.0/</td>\n",
       "      <td>fectoper</td>\n",
       "      <td>63.wav</td>\n",
       "      <td>human</td>\n",
       "    </tr>\n",
       "    <tr>\n",
       "      <th>136</th>\n",
       "      <td>keyboard-rhymtic.wav</td>\n",
       "      <td>Noise of an average logitech keyboard. Pretty ...</td>\n",
       "      <td>[keyboard, rhythmic, tap, type]</td>\n",
       "      <td>http://creativecommons.org/licenses/by/3.0/</td>\n",
       "      <td>Anton</td>\n",
       "      <td>136.wav</td>\n",
       "      <td>foley</td>\n",
       "    </tr>\n",
       "    <tr>\n",
       "      <th>137</th>\n",
       "      <td>keyboard-typing.wav</td>\n",
       "      <td>Noise of an average logitech keyboard. Pretty ...</td>\n",
       "      <td>[computer, environmental-sounds-research, key,...</td>\n",
       "      <td>http://creativecommons.org/licenses/by/3.0/</td>\n",
       "      <td>Anton</td>\n",
       "      <td>137.wav</td>\n",
       "      <td>ambient</td>\n",
       "    </tr>\n",
       "    <tr>\n",
       "      <th>221</th>\n",
       "      <td>bell.wav</td>\n",
       "      <td>simple *ting* sound</td>\n",
       "      <td>[bell]</td>\n",
       "      <td>http://creativecommons.org/publicdomain/zero/1.0/</td>\n",
       "      <td>Erratic</td>\n",
       "      <td>221.wav</td>\n",
       "      <td>music</td>\n",
       "    </tr>\n",
       "    <tr>\n",
       "      <th>236</th>\n",
       "      <td>BUSSES.aiff</td>\n",
       "      <td>Departing busses\\r\\n at Utrecht Central Railwa...</td>\n",
       "      <td>[bus, depart, drive, station]</td>\n",
       "      <td>http://creativecommons.org/licenses/by-nc/3.0/</td>\n",
       "      <td>hanstimm</td>\n",
       "      <td>236.wav</td>\n",
       "      <td>machines</td>\n",
       "    </tr>\n",
       "  </tbody>\n",
       "</table>\n",
       "</div>"
      ],
      "text/plain": [
       "                     title                                        description  \\\n",
       "63   RalfHutterWorking.wav  Ralf Hutter from Kraftwerk saying \"Working on ...   \n",
       "136   keyboard-rhymtic.wav  Noise of an average logitech keyboard. Pretty ...   \n",
       "137    keyboard-typing.wav  Noise of an average logitech keyboard. Pretty ...   \n",
       "221               bell.wav                                simple *ting* sound   \n",
       "236            BUSSES.aiff  Departing busses\\r\\n at Utrecht Central Railwa...   \n",
       "\n",
       "                                                  tags  \\\n",
       "63                                       [male, voice]   \n",
       "136                    [keyboard, rhythmic, tap, type]   \n",
       "137  [computer, environmental-sounds-research, key,...   \n",
       "221                                             [bell]   \n",
       "236                      [bus, depart, drive, station]   \n",
       "\n",
       "                                               license  uploader track_num  \\\n",
       "63         http://creativecommons.org/licenses/by/3.0/  fectoper    63.wav   \n",
       "136        http://creativecommons.org/licenses/by/3.0/     Anton   136.wav   \n",
       "137        http://creativecommons.org/licenses/by/3.0/     Anton   137.wav   \n",
       "221  http://creativecommons.org/publicdomain/zero/1.0/   Erratic   221.wav   \n",
       "236     http://creativecommons.org/licenses/by-nc/3.0/  hanstimm   236.wav   \n",
       "\n",
       "       labels  \n",
       "63      human  \n",
       "136     foley  \n",
       "137   ambient  \n",
       "221     music  \n",
       "236  machines  "
      ]
     },
     "execution_count": 32,
     "metadata": {},
     "output_type": "execute_result"
    }
   ],
   "source": [
    "dev_info.head()"
   ]
  },
  {
   "cell_type": "markdown",
   "metadata": {},
   "source": [
    "# Analysis of Labelling as of now:\n",
    "#### of 50,000 audio files, only ~5,000 are not labelled (pretty good)(needs some more work)\n",
    "#### need to review contents of each category, maybe some mislabelling (also order of 'elif' statements for binning files)\n",
    "####  review best methods for multiclassification problems (is ten a reasonable number of categories, is more okay?) "
   ]
  },
  {
   "cell_type": "code",
   "execution_count": null,
   "metadata": {},
   "outputs": [],
   "source": []
  },
  {
   "cell_type": "markdown",
   "metadata": {},
   "source": [
    "# Random EDA for labelling"
   ]
  },
  {
   "cell_type": "code",
   "execution_count": 101,
   "metadata": {},
   "outputs": [],
   "source": [
    "unique_first_tags = []\n",
    "\n",
    "for row in dev_info.tags:\n",
    "    for tag in row:\n",
    "        if tag not in dict_counter:\n",
    "            dict_counter[tag] =1\n",
    "        else:\n",
    "            dict_counter[tag] += 1            "
   ]
  },
  {
   "cell_type": "code",
   "execution_count": null,
   "metadata": {},
   "outputs": [],
   "source": []
  },
  {
   "cell_type": "code",
   "execution_count": 13,
   "metadata": {},
   "outputs": [
    {
     "data": {
      "text/plain": [
       "4277"
      ]
     },
     "execution_count": 13,
     "metadata": {},
     "output_type": "execute_result"
    }
   ],
   "source": [
    "len(unique_first_tags)"
   ]
  },
  {
   "cell_type": "code",
   "execution_count": 14,
   "metadata": {},
   "outputs": [
    {
     "data": {
      "text/plain": [
       "['male', 'keyboard', 'computer', 'bell', 'bus']"
      ]
     },
     "execution_count": 14,
     "metadata": {},
     "output_type": "execute_result"
    }
   ],
   "source": [
    "unique_first_tags[:5]"
   ]
  },
  {
   "cell_type": "code",
   "execution_count": 15,
   "metadata": {},
   "outputs": [],
   "source": [
    "unique_second_tags = []\n",
    "\n",
    "for tag_list in dev_info.tags:\n",
    "    if len(tag_list) >1:\n",
    "        if tag_list[1] not in unique_second_tags:\n",
    "            unique_second_tags.append(tag_list[1])\n",
    "            \n",
    "            "
   ]
  },
  {
   "cell_type": "code",
   "execution_count": 16,
   "metadata": {},
   "outputs": [
    {
     "data": {
      "text/plain": [
       "['voice', 'rhythmic', 'environmental-sounds-research', 'depart', 'engine']"
      ]
     },
     "execution_count": 16,
     "metadata": {},
     "output_type": "execute_result"
    }
   ],
   "source": [
    "unique_second_tags[:5]"
   ]
  },
  {
   "cell_type": "code",
   "execution_count": 17,
   "metadata": {},
   "outputs": [],
   "source": [
    "all_firsts = []\n",
    "\n",
    "for i in dev_info.tags:\n",
    "    all_firsts.append(i[0])"
   ]
  },
  {
   "cell_type": "code",
   "execution_count": 18,
   "metadata": {},
   "outputs": [
    {
     "data": {
      "text/plain": [
       "40966"
      ]
     },
     "execution_count": 18,
     "metadata": {},
     "output_type": "execute_result"
    }
   ],
   "source": [
    "len(all_firsts)"
   ]
  },
  {
   "cell_type": "code",
   "execution_count": 19,
   "metadata": {},
   "outputs": [
    {
     "data": {
      "text/plain": [
       "4277"
      ]
     },
     "execution_count": 19,
     "metadata": {},
     "output_type": "execute_result"
    }
   ],
   "source": [
    "len(set(all_firsts))"
   ]
  },
  {
   "cell_type": "code",
   "execution_count": 20,
   "metadata": {},
   "outputs": [],
   "source": [
    "all_firsts_series = pd.Series(all_firsts)\n",
    "all_firsts_series.value_counts()[:5]"
   ]
  },
  {
   "cell_type": "code",
   "execution_count": 22,
   "metadata": {},
   "outputs": [],
   "source": [
    "# for i in dev_info.tags:\n",
    "#     if i[0] == 'guitar':\n",
    "#         if len(i) > 1:\n",
    "#             print(i[1])"
   ]
  },
  {
   "cell_type": "code",
   "execution_count": 23,
   "metadata": {},
   "outputs": [
    {
     "name": "stdout",
     "output_type": "stream",
     "text": [
      "1159\n"
     ]
    }
   ],
   "source": [
    "counter = 0\n",
    "\n",
    "for i in dev_info.tags: \n",
    "    if 'female' in i:\n",
    "        counter +=1\n",
    "\n",
    "print(counter)        "
   ]
  },
  {
   "cell_type": "code",
   "execution_count": 24,
   "metadata": {},
   "outputs": [
    {
     "name": "stdout",
     "output_type": "stream",
     "text": [
      "1045\n"
     ]
    }
   ],
   "source": [
    "counter = 0\n",
    "\n",
    "for i in dev_info.tags: \n",
    "    if 'male' in i:\n",
    "        counter +=1\n",
    "\n",
    "print(counter)"
   ]
  },
  {
   "cell_type": "code",
   "execution_count": 25,
   "metadata": {},
   "outputs": [],
   "source": [
    "# prints all tags for all files\n",
    "\n",
    "# for i in dev_info.tags: \n",
    "#     if 'nature' in i:\n",
    "#         print(i)"
   ]
  },
  {
   "cell_type": "code",
   "execution_count": 26,
   "metadata": {},
   "outputs": [],
   "source": [
    "dict_counter = {}\n",
    "\n",
    "for row in dev_info.tags:\n",
    "    for tag in row:\n",
    "        if tag not in dict_counter:\n",
    "            dict_counter[tag] =1\n",
    "        else:\n",
    "            dict_counter[tag] += 1"
   ]
  },
  {
   "cell_type": "code",
   "execution_count": 27,
   "metadata": {},
   "outputs": [],
   "source": [
    "#prints counter for all tags\n",
    "\n",
    "#dict_counter"
   ]
  },
  {
   "cell_type": "code",
   "execution_count": 61,
   "metadata": {},
   "outputs": [],
   "source": [
    "instrument_df = pd.DataFrame.from_dict(dict_counter, orient='index').sort_values(by=0, ascending= False)"
   ]
  },
  {
   "cell_type": "code",
   "execution_count": 64,
   "metadata": {
    "scrolled": false
   },
   "outputs": [
    {
     "data": {
      "text/html": [
       "<div>\n",
       "<style scoped>\n",
       "    .dataframe tbody tr th:only-of-type {\n",
       "        vertical-align: middle;\n",
       "    }\n",
       "\n",
       "    .dataframe tbody tr th {\n",
       "        vertical-align: top;\n",
       "    }\n",
       "\n",
       "    .dataframe thead th {\n",
       "        text-align: right;\n",
       "    }\n",
       "</style>\n",
       "<table border=\"1\" class=\"dataframe\">\n",
       "  <thead>\n",
       "    <tr style=\"text-align: right;\">\n",
       "      <th></th>\n",
       "      <th>0</th>\n",
       "    </tr>\n",
       "  </thead>\n",
       "  <tbody>\n",
       "    <tr>\n",
       "      <th>multisample</th>\n",
       "      <td>5564</td>\n",
       "    </tr>\n",
       "    <tr>\n",
       "      <th>single-note</th>\n",
       "      <td>3768</td>\n",
       "    </tr>\n",
       "    <tr>\n",
       "      <th>field-recording</th>\n",
       "      <td>3490</td>\n",
       "    </tr>\n",
       "    <tr>\n",
       "      <th>good-sounds</th>\n",
       "      <td>3081</td>\n",
       "    </tr>\n",
       "    <tr>\n",
       "      <th>neumann-u87</th>\n",
       "      <td>3080</td>\n",
       "    </tr>\n",
       "    <tr>\n",
       "      <th>voice</th>\n",
       "      <td>2511</td>\n",
       "    </tr>\n",
       "    <tr>\n",
       "      <th>water</th>\n",
       "      <td>2167</td>\n",
       "    </tr>\n",
       "    <tr>\n",
       "      <th>percussion</th>\n",
       "      <td>1728</td>\n",
       "    </tr>\n",
       "    <tr>\n",
       "      <th>guitar</th>\n",
       "      <td>1606</td>\n",
       "    </tr>\n",
       "    <tr>\n",
       "      <th>drum</th>\n",
       "      <td>1434</td>\n",
       "    </tr>\n",
       "    <tr>\n",
       "      <th>door</th>\n",
       "      <td>1300</td>\n",
       "    </tr>\n",
       "    <tr>\n",
       "      <th>metal</th>\n",
       "      <td>1271</td>\n",
       "    </tr>\n",
       "    <tr>\n",
       "      <th>hit</th>\n",
       "      <td>1178</td>\n",
       "    </tr>\n",
       "    <tr>\n",
       "      <th>velocity</th>\n",
       "      <td>1177</td>\n",
       "    </tr>\n",
       "    <tr>\n",
       "      <th>female</th>\n",
       "      <td>1165</td>\n",
       "    </tr>\n",
       "    <tr>\n",
       "      <th>loop</th>\n",
       "      <td>1154</td>\n",
       "    </tr>\n",
       "    <tr>\n",
       "      <th>vsco-2</th>\n",
       "      <td>1089</td>\n",
       "    </tr>\n",
       "    <tr>\n",
       "      <th>noise</th>\n",
       "      <td>1082</td>\n",
       "    </tr>\n",
       "    <tr>\n",
       "      <th>nature</th>\n",
       "      <td>1066</td>\n",
       "    </tr>\n",
       "    <tr>\n",
       "      <th>male</th>\n",
       "      <td>1058</td>\n",
       "    </tr>\n",
       "  </tbody>\n",
       "</table>\n",
       "</div>"
      ],
      "text/plain": [
       "                    0\n",
       "multisample      5564\n",
       "single-note      3768\n",
       "field-recording  3490\n",
       "good-sounds      3081\n",
       "neumann-u87      3080\n",
       "voice            2511\n",
       "water            2167\n",
       "percussion       1728\n",
       "guitar           1606\n",
       "drum             1434\n",
       "door             1300\n",
       "metal            1271\n",
       "hit              1178\n",
       "velocity         1177\n",
       "female           1165\n",
       "loop             1154\n",
       "vsco-2           1089\n",
       "noise            1082\n",
       "nature           1066\n",
       "male             1058"
      ]
     },
     "execution_count": 64,
     "metadata": {},
     "output_type": "execute_result"
    }
   ],
   "source": [
    "instrument_df.iloc[:20]"
   ]
  },
  {
   "cell_type": "code",
   "execution_count": null,
   "metadata": {},
   "outputs": [],
   "source": []
  },
  {
   "cell_type": "code",
   "execution_count": 30,
   "metadata": {},
   "outputs": [
    {
     "data": {
      "text/html": [
       "<div>\n",
       "<style scoped>\n",
       "    .dataframe tbody tr th:only-of-type {\n",
       "        vertical-align: middle;\n",
       "    }\n",
       "\n",
       "    .dataframe tbody tr th {\n",
       "        vertical-align: top;\n",
       "    }\n",
       "\n",
       "    .dataframe thead th {\n",
       "        text-align: right;\n",
       "    }\n",
       "</style>\n",
       "<table border=\"1\" class=\"dataframe\">\n",
       "  <thead>\n",
       "    <tr style=\"text-align: right;\">\n",
       "      <th></th>\n",
       "      <th>title</th>\n",
       "      <th>description</th>\n",
       "      <th>tags</th>\n",
       "      <th>license</th>\n",
       "      <th>uploader</th>\n",
       "      <th>track_num</th>\n",
       "    </tr>\n",
       "  </thead>\n",
       "  <tbody>\n",
       "    <tr>\n",
       "      <th>2081</th>\n",
       "      <td>CP_set2.wav</td>\n",
       "      <td>drumatic set 2</td>\n",
       "      <td>[clap]</td>\n",
       "      <td>http://creativecommons.org/licenses/sampling+/...</td>\n",
       "      <td>opm</td>\n",
       "      <td>2081.wav</td>\n",
       "    </tr>\n",
       "    <tr>\n",
       "      <th>2083</th>\n",
       "      <td>CP_set4.wav</td>\n",
       "      <td>drumatic set 4</td>\n",
       "      <td>[clap]</td>\n",
       "      <td>http://creativecommons.org/licenses/sampling+/...</td>\n",
       "      <td>opm</td>\n",
       "      <td>2083.wav</td>\n",
       "    </tr>\n",
       "    <tr>\n",
       "      <th>2139</th>\n",
       "      <td>breathehope - kitchen - 13.wav</td>\n",
       "      <td>From my Kitchen</td>\n",
       "      <td>[beat, field-recording, kitchen, metal]</td>\n",
       "      <td>http://creativecommons.org/licenses/sampling+/...</td>\n",
       "      <td>smallsushi</td>\n",
       "      <td>2139.wav</td>\n",
       "    </tr>\n",
       "    <tr>\n",
       "      <th>2167</th>\n",
       "      <td>laundromat01.wav</td>\n",
       "      <td>droning bass sound, recorded to minidisc in th...</td>\n",
       "      <td>[bass, drone, field-recording, machinery]</td>\n",
       "      <td>http://creativecommons.org/licenses/sampling+/...</td>\n",
       "      <td>edwin_p_manchester</td>\n",
       "      <td>2167.wav</td>\n",
       "    </tr>\n",
       "    <tr>\n",
       "      <th>2215</th>\n",
       "      <td>rustle1.wav</td>\n",
       "      <td>wind in a stove pipe (different again)</td>\n",
       "      <td>[field-recording, hiss, noise, rustle, stove-p...</td>\n",
       "      <td>http://creativecommons.org/licenses/by/3.0/</td>\n",
       "      <td>Andrew Duke</td>\n",
       "      <td>2215.wav</td>\n",
       "    </tr>\n",
       "  </tbody>\n",
       "</table>\n",
       "</div>"
      ],
      "text/plain": [
       "                               title  \\\n",
       "2081                     CP_set2.wav   \n",
       "2083                     CP_set4.wav   \n",
       "2139  breathehope - kitchen - 13.wav   \n",
       "2167                laundromat01.wav   \n",
       "2215                     rustle1.wav   \n",
       "\n",
       "                                            description  \\\n",
       "2081                                     drumatic set 2   \n",
       "2083                                     drumatic set 4   \n",
       "2139                                    From my Kitchen   \n",
       "2167  droning bass sound, recorded to minidisc in th...   \n",
       "2215             wind in a stove pipe (different again)   \n",
       "\n",
       "                                                   tags  \\\n",
       "2081                                             [clap]   \n",
       "2083                                             [clap]   \n",
       "2139            [beat, field-recording, kitchen, metal]   \n",
       "2167          [bass, drone, field-recording, machinery]   \n",
       "2215  [field-recording, hiss, noise, rustle, stove-p...   \n",
       "\n",
       "                                                license            uploader  \\\n",
       "2081  http://creativecommons.org/licenses/sampling+/...                 opm   \n",
       "2083  http://creativecommons.org/licenses/sampling+/...                 opm   \n",
       "2139  http://creativecommons.org/licenses/sampling+/...          smallsushi   \n",
       "2167  http://creativecommons.org/licenses/sampling+/...  edwin_p_manchester   \n",
       "2215        http://creativecommons.org/licenses/by/3.0/         Andrew Duke   \n",
       "\n",
       "     track_num  \n",
       "2081  2081.wav  \n",
       "2083  2083.wav  \n",
       "2139  2139.wav  \n",
       "2167  2167.wav  \n",
       "2215  2215.wav  "
      ]
     },
     "execution_count": 30,
     "metadata": {},
     "output_type": "execute_result"
    }
   ],
   "source": [
    "dev_info.iloc[100:105]"
   ]
  }
 ],
 "metadata": {
  "kernelspec": {
   "display_name": "Python 3",
   "language": "python",
   "name": "python3"
  },
  "language_info": {
   "codemirror_mode": {
    "name": "ipython",
    "version": 3
   },
   "file_extension": ".py",
   "mimetype": "text/x-python",
   "name": "python",
   "nbconvert_exporter": "python",
   "pygments_lexer": "ipython3",
   "version": "3.7.7"
  }
 },
 "nbformat": 4,
 "nbformat_minor": 4
}
