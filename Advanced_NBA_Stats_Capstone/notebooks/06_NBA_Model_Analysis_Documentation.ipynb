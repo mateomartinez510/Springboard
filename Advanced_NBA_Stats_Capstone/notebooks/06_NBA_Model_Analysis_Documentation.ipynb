{
 "cells": [
  {
   "cell_type": "markdown",
   "metadata": {},
   "source": [
    "## Advanced NBA Statistics Capstone\n",
    "\n",
    "# 6. Model Analysis\n",
    "\n",
    "In this notebook we will review the model with lowest RMSE value at predicting our target feature, Player Impact Estimate in the 2018-2019 season. We will analyze the coefficients of this model to derive insights into why these features have predictive value. Then we will analzye subsets of our model predictions to analyze on what subsets of NBA players our predictions were the most and least accurate."
   ]
  },
  {
   "cell_type": "markdown",
   "metadata": {},
   "source": [
    "### Reviewing Model Scores of All Regression Models:"
   ]
  },
  {
   "cell_type": "code",
   "execution_count": 2,
   "metadata": {
    "scrolled": true
   },
   "outputs": [
    {
     "data": {
      "text/html": [
       "<div>\n",
       "<style scoped>\n",
       "    .dataframe tbody tr th:only-of-type {\n",
       "        vertical-align: middle;\n",
       "    }\n",
       "\n",
       "    .dataframe tbody tr th {\n",
       "        vertical-align: top;\n",
       "    }\n",
       "\n",
       "    .dataframe thead th {\n",
       "        text-align: right;\n",
       "    }\n",
       "</style>\n",
       "<table border=\"1\" class=\"dataframe\">\n",
       "  <thead>\n",
       "    <tr style=\"text-align: right;\">\n",
       "      <th></th>\n",
       "      <th>RMSE</th>\n",
       "      <th>R-Squared</th>\n",
       "      <th>Hyperparameters</th>\n",
       "    </tr>\n",
       "  </thead>\n",
       "  <tbody>\n",
       "    <tr>\n",
       "      <th>Random_Forest</th>\n",
       "      <td>2.19</td>\n",
       "      <td>0.51</td>\n",
       "      <td>Default</td>\n",
       "    </tr>\n",
       "    <tr>\n",
       "      <th>Elastic_Net</th>\n",
       "      <td>2.25</td>\n",
       "      <td>0.48</td>\n",
       "      <td>Bayesian Optimization</td>\n",
       "    </tr>\n",
       "    <tr>\n",
       "      <th>XGBoost</th>\n",
       "      <td>2.41</td>\n",
       "      <td>0.41</td>\n",
       "      <td>Default</td>\n",
       "    </tr>\n",
       "    <tr>\n",
       "      <th>Elastic_Net</th>\n",
       "      <td>2.43</td>\n",
       "      <td>0.39</td>\n",
       "      <td>Grid Search</td>\n",
       "    </tr>\n",
       "    <tr>\n",
       "      <th>Elastic_Net</th>\n",
       "      <td>2.46</td>\n",
       "      <td>0.38</td>\n",
       "      <td>Random Grid Search</td>\n",
       "    </tr>\n",
       "    <tr>\n",
       "      <th>Elastic_Net</th>\n",
       "      <td>2.46</td>\n",
       "      <td>0.38</td>\n",
       "      <td>Grid Search</td>\n",
       "    </tr>\n",
       "    <tr>\n",
       "      <th>Lasso</th>\n",
       "      <td>2.97</td>\n",
       "      <td>0.09</td>\n",
       "      <td>Grid Search</td>\n",
       "    </tr>\n",
       "    <tr>\n",
       "      <th>Ridge</th>\n",
       "      <td>3.08</td>\n",
       "      <td>0.02</td>\n",
       "      <td>Grid Search</td>\n",
       "    </tr>\n",
       "    <tr>\n",
       "      <th>SmOLS</th>\n",
       "      <td>3.19</td>\n",
       "      <td>-0.04</td>\n",
       "      <td>Default</td>\n",
       "    </tr>\n",
       "  </tbody>\n",
       "</table>\n",
       "</div>"
      ],
      "text/plain": [
       "               RMSE  R-Squared        Hyperparameters\n",
       "Random_Forest  2.19       0.51                Default\n",
       "Elastic_Net    2.25       0.48  Bayesian Optimization\n",
       "XGBoost        2.41       0.41                Default\n",
       "Elastic_Net    2.43       0.39            Grid Search\n",
       "Elastic_Net    2.46       0.38     Random Grid Search\n",
       "Elastic_Net    2.46       0.38            Grid Search\n",
       "Lasso          2.97       0.09            Grid Search\n",
       "Ridge          3.08       0.02            Grid Search\n",
       "SmOLS          3.19      -0.04                Default"
      ]
     },
     "execution_count": 2,
     "metadata": {},
     "output_type": "execute_result"
    }
   ],
   "source": [
    "import pandas as pd \n",
    "pd.read_csv('data/model_scores_df.csv', index_col = 0)"
   ]
  },
  {
   "cell_type": "markdown",
   "metadata": {},
   "source": [
    "#### Best Model: Elastic Net with Hyperparameters Tuned with Bayesian Optimziation\n",
    "- Even though XGBoost and Random Forest slightly outperformed Elastic Net with Bayesian Optimization, I will continue my analysis with Elastic Net given that the model's coeficcients are interpretable. Before final analysis, we will review how this model was trained in the previous notebook."
   ]
  },
  {
   "cell_type": "code",
   "execution_count": 3,
   "metadata": {},
   "outputs": [],
   "source": [
    "import numpy as np\n",
    "import matplotlib.pyplot as plt\n",
    "import seaborn as sns\n",
    "from sklearn.model_selection import train_test_split\n",
    "from sklearn.linear_model import ElasticNet\n",
    "from bayes_opt import BayesianOptimization\n",
    "from sklearn.metrics import mean_squared_error\n",
    "from sklearn.metrics import r2_score\n",
    "from warnings import simplefilter\n",
    "from sklearn.exceptions import ConvergenceWarning\n",
    "simplefilter(\"ignore\", category=ConvergenceWarning)\n",
    "pd.set_option('display.max_columns', None)"
   ]
  },
  {
   "cell_type": "code",
   "execution_count": 4,
   "metadata": {},
   "outputs": [],
   "source": [
    "# reading in data\n",
    "df = pd.read_csv('data/pre_processed_data.csv')"
   ]
  },
  {
   "cell_type": "markdown",
   "metadata": {},
   "source": [
    "### Review: Retraining best model Elastic Net with Bayesian Optimization"
   ]
  },
  {
   "cell_type": "code",
   "execution_count": 5,
   "metadata": {},
   "outputs": [],
   "source": [
    "# training model\n",
    "\n",
    "# first creating train-test-split\n",
    "\n",
    "X = df.drop(['Player','PIE_2018'], axis=1)\n",
    "y = df.PIE_2018\n",
    "X_train, X_test, y_train, y_test = train_test_split(X, y, test_size=0.4, random_state=42)"
   ]
  },
  {
   "cell_type": "code",
   "execution_count": 6,
   "metadata": {},
   "outputs": [],
   "source": [
    "# Defining scoring function to pass into Bayesian Optimizer\n",
    "\n",
    "def elastic_func(**params):\n",
    "        \n",
    "    random_elastic = ElasticNet(alpha = params['alpha'], l1_ratio = params['l1_ratio'], random_state=33)   \n",
    "    random_elastic.fit(X_train, y_train)\n",
    "    e_preds = random_elastic.predict(X_test)\n",
    "    random_elastic_grid_score = mean_squared_error(y_test, e_preds) \n",
    "    # print(\"RMSE: \", random_elastic_grid_scores[0] ** 0.5)\n",
    "    \n",
    "    return random_elastic_grid_score"
   ]
  },
  {
   "cell_type": "code",
   "execution_count": 7,
   "metadata": {},
   "outputs": [
    {
     "name": "stdout",
     "output_type": "stream",
     "text": [
      "|   iter    |  target   |   alpha   | l1_ratio  |\n",
      "-------------------------------------------------\n",
      "| \u001b[0m 1       \u001b[0m | \u001b[0m 5.89    \u001b[0m | \u001b[0m 0.2486  \u001b[0m | \u001b[0m 0.45    \u001b[0m |\n",
      "| \u001b[0m 2       \u001b[0m | \u001b[0m 5.534   \u001b[0m | \u001b[0m 0.411   \u001b[0m | \u001b[0m 0.2604  \u001b[0m |\n",
      "| \u001b[0m 3       \u001b[0m | \u001b[0m 5.161   \u001b[0m | \u001b[0m 0.8704  \u001b[0m | \u001b[0m 0.1851  \u001b[0m |\n",
      "| \u001b[95m 4       \u001b[0m | \u001b[95m 8.899   \u001b[0m | \u001b[95m 0.01976 \u001b[0m | \u001b[95m 0.9533  \u001b[0m |\n",
      "| \u001b[0m 5       \u001b[0m | \u001b[0m 5.077   \u001b[0m | \u001b[0m 0.6805  \u001b[0m | \u001b[0m 0.4866  \u001b[0m |\n",
      "| \u001b[0m 6       \u001b[0m | \u001b[0m 5.633   \u001b[0m | \u001b[0m 0.2221  \u001b[0m | \u001b[0m 1.0     \u001b[0m |\n",
      "| \u001b[0m 7       \u001b[0m | \u001b[0m 8.46    \u001b[0m | \u001b[0m 0.04892 \u001b[0m | \u001b[0m 0.207   \u001b[0m |\n",
      "| \u001b[0m 8       \u001b[0m | \u001b[0m 5.331   \u001b[0m | \u001b[0m 0.5231  \u001b[0m | \u001b[0m 0.2522  \u001b[0m |\n",
      "| \u001b[95m 9       \u001b[0m | \u001b[95m 9.581   \u001b[0m | \u001b[95m 0.008213\u001b[0m | \u001b[95m 0.8762  \u001b[0m |\n",
      "| \u001b[95m 10      \u001b[0m | \u001b[95m 10.19   \u001b[0m | \u001b[95m 0.0001  \u001b[0m | \u001b[95m 0.6883  \u001b[0m |\n",
      "| \u001b[95m 11      \u001b[0m | \u001b[95m 10.2    \u001b[0m | \u001b[95m 0.0001  \u001b[0m | \u001b[95m 0.5315  \u001b[0m |\n",
      "| \u001b[0m 12      \u001b[0m | \u001b[0m 9.93    \u001b[0m | \u001b[0m 0.002768\u001b[0m | \u001b[0m 0.5999  \u001b[0m |\n",
      "| \u001b[0m 13      \u001b[0m | \u001b[0m 6.424   \u001b[0m | \u001b[0m 0.1521  \u001b[0m | \u001b[0m 0.7644  \u001b[0m |\n",
      "| \u001b[95m 14      \u001b[0m | \u001b[95m 10.2    \u001b[0m | \u001b[95m 0.0001  \u001b[0m | \u001b[95m 0.3915  \u001b[0m |\n",
      "| \u001b[0m 15      \u001b[0m | \u001b[0m 6.12    \u001b[0m | \u001b[0m 1.0     \u001b[0m | \u001b[0m 1.0     \u001b[0m |\n",
      "=================================================\n",
      "Best paramaters for Elastic Net with Bayesian Optimization: \n",
      " {'alpha': 0.6804827596505661, 'l1_ratio': 0.4866394677378728}\n"
     ]
    }
   ],
   "source": [
    "# Defining ranges of hyperparameters for Bayesian Optimizaton\n",
    "\n",
    "params = {'l1_ratio': (0.0001, 1),\n",
    "              'alpha': (0.0001, 1)}\n",
    "\n",
    "bo = BayesianOptimization(elastic_func, params, random_state=33)\n",
    "bo.maximize(init_points=5, n_iter=10, acq='ucb', kappa=2)\n",
    "\n",
    "elastic_bayes_df = pd.DataFrame(bo.res).sort_values(by='target')\n",
    "best_elastic_bayes_params = elastic_bayes_df.iloc[0][1]\n",
    "\n",
    "print(\"Best paramaters for Elastic Net with Bayesian Optimization: \\n\",  best_elastic_bayes_params)"
   ]
  },
  {
   "cell_type": "markdown",
   "metadata": {},
   "source": [
    "### Best Model Results: RMSE and R Squared"
   ]
  },
  {
   "cell_type": "code",
   "execution_count": 8,
   "metadata": {
    "scrolled": true
   },
   "outputs": [
    {
     "name": "stdout",
     "output_type": "stream",
     "text": [
      "RMSE:  2.2531827498272774\n",
      "R^2 score:  0.4792070900626817\n"
     ]
    }
   ],
   "source": [
    "bayes = ElasticNet(alpha = best_elastic_bayes_params['alpha'], \n",
    "                   l1_ratio=best_elastic_bayes_params['l1_ratio'], \n",
    "                   random_state=33)\n",
    "\n",
    "bayes.fit(X_train, y_train)\n",
    "y_preds = bayes.predict(X_test)\n",
    "\n",
    "bayes_elastic_scores = mean_squared_error(y_test, y_preds) ** 0.5, r2_score(y_test, y_preds)\n",
    "\n",
    "print(\"RMSE: \", bayes_elastic_scores[0])\n",
    "print(\"R^2 score: \", bayes_elastic_scores[1])"
   ]
  },
  {
   "cell_type": "markdown",
   "metadata": {},
   "source": [
    "### Residuals of Model Predictions "
   ]
  },
  {
   "cell_type": "code",
   "execution_count": 9,
   "metadata": {},
   "outputs": [
    {
     "data": {
      "image/png": "[encoded data removed]",
      "text/plain": [
       "<Figure size 720x432 with 1 Axes>"
      ]
     },
     "metadata": {
      "needs_background": "light"
     },
     "output_type": "display_data"
    }
   ],
   "source": [
    "### Below is a graph of the model's true values compared with the errors of the predictions.\n",
    "### We can see a few significant outliers\n",
    "\n",
    "\n",
    "# Plot the predictions\n",
    "# Build a scatterplot\n",
    "plt.figure(figsize=(10,6))\n",
    "plt.scatter(y_test,y_preds)\n",
    "# Add a line for perfect correlation\n",
    "plt.plot([0,25],[0,25],c='r')\n",
    "# Label it nicely\n",
    "plt.xlabel('True Values of Test Data(PIE_2018)', fontsize=12)\n",
    "plt.ylabel('Predicted Values of Test Data', fontsize=12)\n",
    "plt.title('True vs. Predicted Values of PIE_2018', fontsize=14)\n",
    "plt.show()"
   ]
  },
  {
   "cell_type": "markdown",
   "metadata": {},
   "source": [
    "### Coefficients of the Model"
   ]
  },
  {
   "cell_type": "code",
   "execution_count": 10,
   "metadata": {
    "scrolled": true
   },
   "outputs": [
    {
     "name": "stdout",
     "output_type": "stream",
     "text": [
      "Most important model coefficients:\n"
     ]
    },
    {
     "data": {
      "text/html": [
       "<div>\n",
       "<style scoped>\n",
       "    .dataframe tbody tr th:only-of-type {\n",
       "        vertical-align: middle;\n",
       "    }\n",
       "\n",
       "    .dataframe tbody tr th {\n",
       "        vertical-align: top;\n",
       "    }\n",
       "\n",
       "    .dataframe thead th {\n",
       "        text-align: right;\n",
       "    }\n",
       "</style>\n",
       "<table border=\"1\" class=\"dataframe\">\n",
       "  <thead>\n",
       "    <tr style=\"text-align: right;\">\n",
       "      <th></th>\n",
       "      <th>Absolute Value of Model Coefficients</th>\n",
       "      <th>+/- Corr.</th>\n",
       "    </tr>\n",
       "  </thead>\n",
       "  <tbody>\n",
       "    <tr>\n",
       "      <th>DREB%</th>\n",
       "      <td>0.542027</td>\n",
       "      <td>+</td>\n",
       "    </tr>\n",
       "    <tr>\n",
       "      <th>PIE_2017</th>\n",
       "      <td>0.450568</td>\n",
       "      <td>+</td>\n",
       "    </tr>\n",
       "    <tr>\n",
       "      <th>FGM_und_5ft</th>\n",
       "      <td>0.415029</td>\n",
       "      <td>+</td>\n",
       "    </tr>\n",
       "    <tr>\n",
       "      <th>FGM_5_9ft</th>\n",
       "      <td>0.344204</td>\n",
       "      <td>+</td>\n",
       "    </tr>\n",
       "    <tr>\n",
       "      <th>L</th>\n",
       "      <td>0.278137</td>\n",
       "      <td>-</td>\n",
       "    </tr>\n",
       "    <tr>\n",
       "      <th>DD2</th>\n",
       "      <td>0.269012</td>\n",
       "      <td>+</td>\n",
       "    </tr>\n",
       "    <tr>\n",
       "      <th>AST%</th>\n",
       "      <td>0.211050</td>\n",
       "      <td>+</td>\n",
       "    </tr>\n",
       "    <tr>\n",
       "      <th>OPP_FG%_20_24ft</th>\n",
       "      <td>0.183429</td>\n",
       "      <td>+</td>\n",
       "    </tr>\n",
       "    <tr>\n",
       "      <th>OPP_FG%_und_5ft</th>\n",
       "      <td>0.179629</td>\n",
       "      <td>-</td>\n",
       "    </tr>\n",
       "    <tr>\n",
       "      <th>USG%</th>\n",
       "      <td>0.138000</td>\n",
       "      <td>+</td>\n",
       "    </tr>\n",
       "  </tbody>\n",
       "</table>\n",
       "</div>"
      ],
      "text/plain": [
       "                 Absolute Value of Model Coefficients +/- Corr.\n",
       "DREB%                                        0.542027         +\n",
       "PIE_2017                                     0.450568         +\n",
       "FGM_und_5ft                                  0.415029         +\n",
       "FGM_5_9ft                                    0.344204         +\n",
       "L                                            0.278137         -\n",
       "DD2                                          0.269012         +\n",
       "AST%                                         0.211050         +\n",
       "OPP_FG%_20_24ft                              0.183429         +\n",
       "OPP_FG%_und_5ft                              0.179629         -\n",
       "USG%                                         0.138000         +"
      ]
     },
     "execution_count": 10,
     "metadata": {},
     "output_type": "execute_result"
    }
   ],
   "source": [
    "print('Most important model coefficients:')\n",
    "\n",
    "coef_df = pd.DataFrame(data = abs(bayes.coef_), index= X.columns, columns=['Absolute Value of Model Coefficients'])\n",
    "coef_df['+/- Corr.'] = bayes.coef_\n",
    "coef_df['+/- Corr.'] = coef_df['+/- Corr.'].apply(lambda x: '+' if x > 0 else '-')\n",
    "\n",
    "coef_df = coef_df.sort_values(by='Absolute Value of Model Coefficients', ascending=False)\n",
    "\n",
    "coef_df.head(10)"
   ]
  },
  {
   "cell_type": "code",
   "execution_count": 11,
   "metadata": {},
   "outputs": [
    {
     "data": {
      "image/png": "[encoded data removed]",
      "text/plain": [
       "<Figure size 432x288 with 1 Axes>"
      ]
     },
     "metadata": {
      "needs_background": "light"
     },
     "output_type": "display_data"
    }
   ],
   "source": [
    "sns.barplot(x=coef_df['Absolute Value of Model Coefficients'][:10], y=coef_df.index[:10])\n",
    "\n",
    "plt.xticks(rotation=90)\n",
    "plt.title('Highest Model Coefficents')\n",
    "plt.xlabel('Coefficents')\n",
    "plt.ylabel('Absolute Value of Model Coefficients')\n",
    "\n",
    "plt.show()"
   ]
  },
  {
   "cell_type": "markdown",
   "metadata": {},
   "source": [
    "### Analysis of Coefficients \n",
    "#### Let's investigate the coefficients of this model. Below are the  the top ten most impactful variables for predicting the following season's PIE metric. Here are some key takeaways:\n",
    "\n",
    "\n",
    "- It follows that the previous season's PIE value would be the most informative statistic\n",
    "- Somewhat suprisingly defensive rebounding is the second most predictive stat\n",
    "- USG% makes sense, given that it is an aggregate of the player's shooting as a porportion of the team's shooting.\n",
    "- Not too suprisingly that being on a losing team contributes to less playing time the following season.\n",
    "- The one coefficient that seems out of place is that field goal percentage between 10-14 feet is negatively correlated with their PIE value. Perhaps this average mid range shot is not highly valued in the league, but it is more probable that the model is accounting for a regression towards the mean."
   ]
  },
  {
   "cell_type": "markdown",
   "metadata": {},
   "source": [
    "#### From this graph we can see below a PIE score of approximately 12, the model is generally under estimating and overestimating for PIE scores above 12. I attribute this to the model over estimating a regression towards the mean, which is an accurate general trend but not encompassing individual player growth.\n",
    "\n",
    "#### Analysis: This graph illustrates that the model is essentially predicting a regression towards the mean, which is an observable statistical phenomenom, but does not account for individual player growth over time,  which I was hoping my model could capture."
   ]
  },
  {
   "cell_type": "markdown",
   "metadata": {},
   "source": [
    "___\n",
    "## Analysis of Model Predictions on Subsets of the League\n",
    "\n",
    "- Players the Model predicted most accurately\n",
    "- Players the Model predicted least accurately\n",
    "- Look at players with low minutes (or young) (and make observes)\n",
    "- Accuracy on Players Traded vs not Traded"
   ]
  },
  {
   "cell_type": "code",
   "execution_count": 12,
   "metadata": {},
   "outputs": [],
   "source": [
    "# importing model results dataframe from previous notebook\n",
    "\n",
    "model_results_df = pd.read_csv('data/best_model_results_analysis.csv')"
   ]
  },
  {
   "cell_type": "markdown",
   "metadata": {},
   "source": [
    "### Investigating Worst Player Predictions (where did the model go wrong?) "
   ]
  },
  {
   "cell_type": "code",
   "execution_count": 13,
   "metadata": {},
   "outputs": [
    {
     "data": {
      "text/plain": [
       "(160, 10)"
      ]
     },
     "execution_count": 13,
     "metadata": {},
     "output_type": "execute_result"
    }
   ],
   "source": [
    "model_results_df.shape"
   ]
  },
  {
   "cell_type": "code",
   "execution_count": 14,
   "metadata": {},
   "outputs": [
    {
     "data": {
      "text/html": [
       "<div>\n",
       "<style scoped>\n",
       "    .dataframe tbody tr th:only-of-type {\n",
       "        vertical-align: middle;\n",
       "    }\n",
       "\n",
       "    .dataframe tbody tr th {\n",
       "        vertical-align: top;\n",
       "    }\n",
       "\n",
       "    .dataframe thead th {\n",
       "        text-align: right;\n",
       "    }\n",
       "</style>\n",
       "<table border=\"1\" class=\"dataframe\">\n",
       "  <thead>\n",
       "    <tr style=\"text-align: right;\">\n",
       "      <th></th>\n",
       "      <th>Player</th>\n",
       "      <th>PIE_2017</th>\n",
       "      <th>PIE_2018</th>\n",
       "      <th>predictions</th>\n",
       "      <th>pred_error</th>\n",
       "      <th>AGE</th>\n",
       "      <th>MIN_2017</th>\n",
       "      <th>true_change_in_PIE</th>\n",
       "      <th>diff_team</th>\n",
       "    </tr>\n",
       "  </thead>\n",
       "  <tbody>\n",
       "    <tr>\n",
       "      <th>129</th>\n",
       "      <td>Wade Baldwin IV</td>\n",
       "      <td>9.4</td>\n",
       "      <td>2.1</td>\n",
       "      <td>9.142897</td>\n",
       "      <td>7.042897</td>\n",
       "      <td>22</td>\n",
       "      <td>11.5</td>\n",
       "      <td>-7.3</td>\n",
       "      <td>False</td>\n",
       "    </tr>\n",
       "    <tr>\n",
       "      <th>62</th>\n",
       "      <td>James Harden</td>\n",
       "      <td>19.4</td>\n",
       "      <td>20.1</td>\n",
       "      <td>13.754321</td>\n",
       "      <td>6.345679</td>\n",
       "      <td>28</td>\n",
       "      <td>35.4</td>\n",
       "      <td>0.7</td>\n",
       "      <td>False</td>\n",
       "    </tr>\n",
       "    <tr>\n",
       "      <th>102</th>\n",
       "      <td>Andrew Harrison</td>\n",
       "      <td>8.3</td>\n",
       "      <td>2.5</td>\n",
       "      <td>8.453300</td>\n",
       "      <td>5.953300</td>\n",
       "      <td>23</td>\n",
       "      <td>23.7</td>\n",
       "      <td>-5.8</td>\n",
       "      <td>True</td>\n",
       "    </tr>\n",
       "    <tr>\n",
       "      <th>142</th>\n",
       "      <td>Nikola Vucevic</td>\n",
       "      <td>13.9</td>\n",
       "      <td>18.5</td>\n",
       "      <td>13.312251</td>\n",
       "      <td>5.187749</td>\n",
       "      <td>27</td>\n",
       "      <td>29.5</td>\n",
       "      <td>4.6</td>\n",
       "      <td>False</td>\n",
       "    </tr>\n",
       "    <tr>\n",
       "      <th>106</th>\n",
       "      <td>Anthony Davis</td>\n",
       "      <td>18.8</td>\n",
       "      <td>19.7</td>\n",
       "      <td>14.630221</td>\n",
       "      <td>5.069779</td>\n",
       "      <td>25</td>\n",
       "      <td>36.4</td>\n",
       "      <td>0.9</td>\n",
       "      <td>False</td>\n",
       "    </tr>\n",
       "    <tr>\n",
       "      <th>118</th>\n",
       "      <td>Paul George</td>\n",
       "      <td>12.0</td>\n",
       "      <td>16.1</td>\n",
       "      <td>11.068824</td>\n",
       "      <td>5.031176</td>\n",
       "      <td>28</td>\n",
       "      <td>36.6</td>\n",
       "      <td>4.1</td>\n",
       "      <td>False</td>\n",
       "    </tr>\n",
       "    <tr>\n",
       "      <th>152</th>\n",
       "      <td>Mike Conley</td>\n",
       "      <td>10.9</td>\n",
       "      <td>15.1</td>\n",
       "      <td>10.366519</td>\n",
       "      <td>4.733481</td>\n",
       "      <td>30</td>\n",
       "      <td>31.1</td>\n",
       "      <td>4.2</td>\n",
       "      <td>False</td>\n",
       "    </tr>\n",
       "    <tr>\n",
       "      <th>19</th>\n",
       "      <td>Tyrone Wallace</td>\n",
       "      <td>6.0</td>\n",
       "      <td>4.3</td>\n",
       "      <td>8.926866</td>\n",
       "      <td>4.626866</td>\n",
       "      <td>24</td>\n",
       "      <td>28.4</td>\n",
       "      <td>-1.7</td>\n",
       "      <td>False</td>\n",
       "    </tr>\n",
       "    <tr>\n",
       "      <th>111</th>\n",
       "      <td>Jeremy Lin</td>\n",
       "      <td>7.1</td>\n",
       "      <td>10.0</td>\n",
       "      <td>5.511644</td>\n",
       "      <td>4.488356</td>\n",
       "      <td>29</td>\n",
       "      <td>25.2</td>\n",
       "      <td>2.9</td>\n",
       "      <td>True</td>\n",
       "    </tr>\n",
       "    <tr>\n",
       "      <th>113</th>\n",
       "      <td>Walt Lemon Jr.</td>\n",
       "      <td>3.0</td>\n",
       "      <td>10.9</td>\n",
       "      <td>6.474474</td>\n",
       "      <td>4.425526</td>\n",
       "      <td>25</td>\n",
       "      <td>7.0</td>\n",
       "      <td>7.9</td>\n",
       "      <td>True</td>\n",
       "    </tr>\n",
       "  </tbody>\n",
       "</table>\n",
       "</div>"
      ],
      "text/plain": [
       "              Player  PIE_2017  PIE_2018  predictions  pred_error  AGE  \\\n",
       "129  Wade Baldwin IV       9.4       2.1     9.142897    7.042897   22   \n",
       "62      James Harden      19.4      20.1    13.754321    6.345679   28   \n",
       "102  Andrew Harrison       8.3       2.5     8.453300    5.953300   23   \n",
       "142   Nikola Vucevic      13.9      18.5    13.312251    5.187749   27   \n",
       "106    Anthony Davis      18.8      19.7    14.630221    5.069779   25   \n",
       "118      Paul George      12.0      16.1    11.068824    5.031176   28   \n",
       "152      Mike Conley      10.9      15.1    10.366519    4.733481   30   \n",
       "19    Tyrone Wallace       6.0       4.3     8.926866    4.626866   24   \n",
       "111       Jeremy Lin       7.1      10.0     5.511644    4.488356   29   \n",
       "113   Walt Lemon Jr.       3.0      10.9     6.474474    4.425526   25   \n",
       "\n",
       "     MIN_2017  true_change_in_PIE  diff_team  \n",
       "129      11.5                -7.3      False  \n",
       "62       35.4                 0.7      False  \n",
       "102      23.7                -5.8       True  \n",
       "142      29.5                 4.6      False  \n",
       "106      36.4                 0.9      False  \n",
       "118      36.6                 4.1      False  \n",
       "152      31.1                 4.2      False  \n",
       "19       28.4                -1.7      False  \n",
       "111      25.2                 2.9       True  \n",
       "113       7.0                 7.9       True  "
      ]
     },
     "execution_count": 14,
     "metadata": {},
     "output_type": "execute_result"
    }
   ],
   "source": [
    "#Looking at the 10 worst player predictions\n",
    "worst10_pred_df = model_results_df.sort_values(by='pred_error', ascending=False)[:10]\n",
    "\n",
    "worst10_pred_df['diff_team'] = worst10_pred_df.TEAM != worst10_pred_df.Team_2018\n",
    "worst10_pred_df.drop(columns=['TEAM', 'Team_2018'], inplace=True)\n",
    "worst10_pred_df"
   ]
  },
  {
   "cell_type": "markdown",
   "metadata": {},
   "source": [
    "#### Observation: The model is over generalizing a regression towards the mean for these players."
   ]
  },
  {
   "cell_type": "markdown",
   "metadata": {},
   "source": [
    "### Models Top Ten Most Accurate Predictions"
   ]
  },
  {
   "cell_type": "code",
   "execution_count": 15,
   "metadata": {
    "scrolled": true
   },
   "outputs": [
    {
     "data": {
      "text/html": [
       "<div>\n",
       "<style scoped>\n",
       "    .dataframe tbody tr th:only-of-type {\n",
       "        vertical-align: middle;\n",
       "    }\n",
       "\n",
       "    .dataframe tbody tr th {\n",
       "        vertical-align: top;\n",
       "    }\n",
       "\n",
       "    .dataframe thead th {\n",
       "        text-align: right;\n",
       "    }\n",
       "</style>\n",
       "<table border=\"1\" class=\"dataframe\">\n",
       "  <thead>\n",
       "    <tr style=\"text-align: right;\">\n",
       "      <th></th>\n",
       "      <th>Player</th>\n",
       "      <th>PIE_2017</th>\n",
       "      <th>PIE_2018</th>\n",
       "      <th>predictions</th>\n",
       "      <th>pred_error</th>\n",
       "      <th>AGE</th>\n",
       "      <th>MIN_2017</th>\n",
       "      <th>true_change_in_PIE</th>\n",
       "      <th>diff_team</th>\n",
       "    </tr>\n",
       "  </thead>\n",
       "  <tbody>\n",
       "    <tr>\n",
       "      <th>42</th>\n",
       "      <td>Davis Bertans</td>\n",
       "      <td>9.2</td>\n",
       "      <td>8.2</td>\n",
       "      <td>8.193908</td>\n",
       "      <td>0.006092</td>\n",
       "      <td>25</td>\n",
       "      <td>14.1</td>\n",
       "      <td>-1.0</td>\n",
       "      <td>False</td>\n",
       "    </tr>\n",
       "    <tr>\n",
       "      <th>27</th>\n",
       "      <td>Kyle Lowry</td>\n",
       "      <td>13.6</td>\n",
       "      <td>11.5</td>\n",
       "      <td>11.488014</td>\n",
       "      <td>0.011986</td>\n",
       "      <td>32</td>\n",
       "      <td>32.2</td>\n",
       "      <td>-2.1</td>\n",
       "      <td>False</td>\n",
       "    </tr>\n",
       "    <tr>\n",
       "      <th>120</th>\n",
       "      <td>JaMychal Green</td>\n",
       "      <td>10.1</td>\n",
       "      <td>10.3</td>\n",
       "      <td>10.324258</td>\n",
       "      <td>0.024258</td>\n",
       "      <td>28</td>\n",
       "      <td>28.0</td>\n",
       "      <td>0.2</td>\n",
       "      <td>True</td>\n",
       "    </tr>\n",
       "    <tr>\n",
       "      <th>145</th>\n",
       "      <td>Jon Leuer</td>\n",
       "      <td>7.0</td>\n",
       "      <td>9.1</td>\n",
       "      <td>9.052195</td>\n",
       "      <td>0.047805</td>\n",
       "      <td>29</td>\n",
       "      <td>17.1</td>\n",
       "      <td>2.1</td>\n",
       "      <td>False</td>\n",
       "    </tr>\n",
       "    <tr>\n",
       "      <th>81</th>\n",
       "      <td>Ante Zizic</td>\n",
       "      <td>13.2</td>\n",
       "      <td>10.3</td>\n",
       "      <td>10.354570</td>\n",
       "      <td>0.054570</td>\n",
       "      <td>21</td>\n",
       "      <td>6.7</td>\n",
       "      <td>-2.9</td>\n",
       "      <td>False</td>\n",
       "    </tr>\n",
       "    <tr>\n",
       "      <th>156</th>\n",
       "      <td>Doug McDermott</td>\n",
       "      <td>6.9</td>\n",
       "      <td>7.5</td>\n",
       "      <td>7.415245</td>\n",
       "      <td>0.084755</td>\n",
       "      <td>26</td>\n",
       "      <td>21.8</td>\n",
       "      <td>0.6</td>\n",
       "      <td>True</td>\n",
       "    </tr>\n",
       "    <tr>\n",
       "      <th>67</th>\n",
       "      <td>Terry Rozier</td>\n",
       "      <td>11.8</td>\n",
       "      <td>10.3</td>\n",
       "      <td>10.432317</td>\n",
       "      <td>0.132317</td>\n",
       "      <td>24</td>\n",
       "      <td>25.9</td>\n",
       "      <td>-1.5</td>\n",
       "      <td>False</td>\n",
       "    </tr>\n",
       "    <tr>\n",
       "      <th>6</th>\n",
       "      <td>Tyler Dorsey</td>\n",
       "      <td>7.0</td>\n",
       "      <td>7.2</td>\n",
       "      <td>7.061712</td>\n",
       "      <td>0.138288</td>\n",
       "      <td>22</td>\n",
       "      <td>17.4</td>\n",
       "      <td>0.2</td>\n",
       "      <td>True</td>\n",
       "    </tr>\n",
       "    <tr>\n",
       "      <th>45</th>\n",
       "      <td>Udonis Haslem</td>\n",
       "      <td>2.1</td>\n",
       "      <td>6.7</td>\n",
       "      <td>6.849273</td>\n",
       "      <td>0.149273</td>\n",
       "      <td>38</td>\n",
       "      <td>5.1</td>\n",
       "      <td>4.6</td>\n",
       "      <td>False</td>\n",
       "    </tr>\n",
       "    <tr>\n",
       "      <th>9</th>\n",
       "      <td>Fred VanVleet</td>\n",
       "      <td>11.1</td>\n",
       "      <td>9.5</td>\n",
       "      <td>9.292208</td>\n",
       "      <td>0.207792</td>\n",
       "      <td>24</td>\n",
       "      <td>20.0</td>\n",
       "      <td>-1.6</td>\n",
       "      <td>False</td>\n",
       "    </tr>\n",
       "  </tbody>\n",
       "</table>\n",
       "</div>"
      ],
      "text/plain": [
       "             Player  PIE_2017  PIE_2018  predictions  pred_error  AGE  \\\n",
       "42    Davis Bertans       9.2       8.2     8.193908    0.006092   25   \n",
       "27       Kyle Lowry      13.6      11.5    11.488014    0.011986   32   \n",
       "120  JaMychal Green      10.1      10.3    10.324258    0.024258   28   \n",
       "145       Jon Leuer       7.0       9.1     9.052195    0.047805   29   \n",
       "81       Ante Zizic      13.2      10.3    10.354570    0.054570   21   \n",
       "156  Doug McDermott       6.9       7.5     7.415245    0.084755   26   \n",
       "67     Terry Rozier      11.8      10.3    10.432317    0.132317   24   \n",
       "6      Tyler Dorsey       7.0       7.2     7.061712    0.138288   22   \n",
       "45    Udonis Haslem       2.1       6.7     6.849273    0.149273   38   \n",
       "9     Fred VanVleet      11.1       9.5     9.292208    0.207792   24   \n",
       "\n",
       "     MIN_2017  true_change_in_PIE  diff_team  \n",
       "42       14.1                -1.0      False  \n",
       "27       32.2                -2.1      False  \n",
       "120      28.0                 0.2       True  \n",
       "145      17.1                 2.1      False  \n",
       "81        6.7                -2.9      False  \n",
       "156      21.8                 0.6       True  \n",
       "67       25.9                -1.5      False  \n",
       "6        17.4                 0.2       True  \n",
       "45        5.1                 4.6      False  \n",
       "9        20.0                -1.6      False  "
      ]
     },
     "execution_count": 15,
     "metadata": {},
     "output_type": "execute_result"
    }
   ],
   "source": [
    "#Looking at the 10 best player predictions\n",
    "best10_pred_df = model_results_df.sort_values(by='pred_error', ascending=True)[:10]\n",
    "best10_pred_df['diff_team'] = best10_pred_df.TEAM != best10_pred_df.Team_2018\n",
    "best10_pred_df.drop(columns=['TEAM', 'Team_2018'], inplace=True)\n",
    "best10_pred_df"
   ]
  },
  {
   "cell_type": "markdown",
   "metadata": {},
   "source": [
    "#### Observation: A common trend between these players is that they had a much lower change in PIE between seasons."
   ]
  },
  {
   "cell_type": "markdown",
   "metadata": {},
   "source": [
    "### Building a dataframe just of Model accuracy on specific subsets of the league"
   ]
  },
  {
   "cell_type": "code",
   "execution_count": 16,
   "metadata": {},
   "outputs": [
    {
     "data": {
      "text/html": [
       "<div>\n",
       "<style scoped>\n",
       "    .dataframe tbody tr th:only-of-type {\n",
       "        vertical-align: middle;\n",
       "    }\n",
       "\n",
       "    .dataframe tbody tr th {\n",
       "        vertical-align: top;\n",
       "    }\n",
       "\n",
       "    .dataframe thead th {\n",
       "        text-align: right;\n",
       "    }\n",
       "</style>\n",
       "<table border=\"1\" class=\"dataframe\">\n",
       "  <thead>\n",
       "    <tr style=\"text-align: right;\">\n",
       "      <th></th>\n",
       "      <th>RMSE by NBA Subset</th>\n",
       "    </tr>\n",
       "  </thead>\n",
       "  <tbody>\n",
       "    <tr>\n",
       "      <th>young_players</th>\n",
       "      <td>1.262326</td>\n",
       "    </tr>\n",
       "    <tr>\n",
       "      <th>changed_teams</th>\n",
       "      <td>1.276075</td>\n",
       "    </tr>\n",
       "    <tr>\n",
       "      <th>role_players</th>\n",
       "      <td>1.309348</td>\n",
       "    </tr>\n",
       "    <tr>\n",
       "      <th>all_players</th>\n",
       "      <td>1.323000</td>\n",
       "    </tr>\n",
       "    <tr>\n",
       "      <th>under_performers</th>\n",
       "      <td>1.334573</td>\n",
       "    </tr>\n",
       "    <tr>\n",
       "      <th>same_teams</th>\n",
       "      <td>1.358376</td>\n",
       "    </tr>\n",
       "    <tr>\n",
       "      <th>improved_players</th>\n",
       "      <td>1.749518</td>\n",
       "    </tr>\n",
       "  </tbody>\n",
       "</table>\n",
       "</div>"
      ],
      "text/plain": [
       "                  RMSE by NBA Subset\n",
       "young_players               1.262326\n",
       "changed_teams               1.276075\n",
       "role_players                1.309348\n",
       "all_players                 1.323000\n",
       "under_performers            1.334573\n",
       "same_teams                  1.358376\n",
       "improved_players            1.749518"
      ]
     },
     "execution_count": 16,
     "metadata": {},
     "output_type": "execute_result"
    }
   ],
   "source": [
    "# Creating Dataframe of RMSE of model accuracy on each subset of NBA players\n",
    "\n",
    "subset_scores_df = pd.DataFrame(columns=['RMSE by NBA Subset'])\n",
    "subset_scores_df.loc['all_players']= model_results_df.pred_error.mean() ** 0.5\n",
    "subset_scores_df.loc['role_players']= model_results_df.loc[model_results_df.MIN_2017 < 10].pred_error.mean()  ** 0.5\n",
    "subset_scores_df.loc['improved_players']= model_results_df[model_results_df.true_change_in_PIE > 3].pred_error.mean()  ** 0.5\n",
    "subset_scores_df.loc['young_players']= model_results_df[model_results_df.AGE < 25].pred_error.mean() ** 0.5\n",
    "subset_scores_df.loc['changed_teams']= model_results_df[model_results_df.TEAM != model_results_df.Team_2018].pred_error.mean() ** 0.5\n",
    "subset_scores_df.loc['same_teams']= model_results_df[model_results_df.TEAM == model_results_df.Team_2018].pred_error.mean() ** 0.5\n",
    "subset_scores_df.loc['under_performers']= model_results_df.loc[model_results_df.PIE_2017 < 7].pred_error.mean()  ** 0.5\n",
    "subset_scores_df.sort_values(by='RMSE by NBA Subset', ascending=True, inplace=True)\n",
    "subset_scores_df\n"
   ]
  },
  {
   "cell_type": "code",
   "execution_count": 17,
   "metadata": {
    "scrolled": true
   },
   "outputs": [
    {
     "data": {
      "image/png": "[encoded data removed]",
      "text/plain": [
       "<Figure size 432x288 with 1 Axes>"
      ]
     },
     "metadata": {
      "needs_background": "light"
     },
     "output_type": "display_data"
    }
   ],
   "source": [
    "sns.barplot(x=subset_scores_df['RMSE by NBA Subset'], y=subset_scores_df.index)\n",
    "\n",
    "plt.title('RMSE by NBA Subset')\n",
    "plt.xlabel('RMSE')\n",
    "plt.ylabel('NBA Subset')\n",
    "\n",
    "plt.show()\n",
    "# plt.savefig('rmse_by_subset_barchart.png')"
   ]
  },
  {
   "cell_type": "markdown",
   "metadata": {},
   "source": [
    "#### Analysis: From this chart we can see that the model performed the most accurately on players who did not change teams between the 2017 and 2018 season. The model performed well on young players but again in this analyis, the model did not perform as well with players who showed greater improvement between seasons.\n",
    "\n",
    "#### Conclusion: There were many informative insights to be derived from the Elastic Net model, particularly informing which coefficients were most predictive for our target variable. However, if accuracy was the only consideration, then the Random Forest model would be recommended for its lowest RMSE score.\n",
    "\n",
    "#### Next Steps: This regression model was limited by the amount of data contained in one NBA season. In the future I would like to incorporate data from additonal NBA seasons in hopes of better being able to capture outlier growth patterns of exceptional players. Another next step for this project would be to build this model into an app where a user could input a particular player and target feature and see an output prediction."
   ]
  }
 ],
 "metadata": {
  "kernelspec": {
   "display_name": "Python 3",
   "language": "python",
   "name": "python3"
  },
  "language_info": {
   "codemirror_mode": {
    "name": "ipython",
    "version": 3
   },
   "file_extension": ".py",
   "mimetype": "text/x-python",
   "name": "python",
   "nbconvert_exporter": "python",
   "pygments_lexer": "ipython3",
   "version": "3.7.7"
  }
 },
 "nbformat": 4,
 "nbformat_minor": 4
}
