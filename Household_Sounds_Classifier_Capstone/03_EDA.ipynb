{
 "cells": [
  {
   "cell_type": "markdown",
   "metadata": {},
   "source": [
    "# FSD Audio Classifier\n",
    "##  03. EDA and Data Visualizations"
   ]
  },
  {
   "cell_type": "markdown",
   "metadata": {},
   "source": [
    "In this notebook we will conduct EDA and data vizualizations on the following:\n",
    "- EDA on the Metadata of the audio files\n",
    "\n",
    "- EDA on the Tag descriptions of the audio events\n",
    "\n",
    "- EDA on the Class labels created of our target feature\n",
    "\n",
    "- EDA on the visualized audio Features engineered to feed into the Convolutional Neural Network \n",
    "\n",
    "\n"
   ]
  },
  {
   "cell_type": "code",
   "execution_count": 1,
   "metadata": {},
   "outputs": [],
   "source": [
    "import pandas as pd\n",
    "import numpy as np\n",
    "import time\n",
    "import librosa\n",
    "import librosa.display\n",
    "import IPython.display as ipd\n",
    "import matplotlib.pyplot as plt\n",
    "import seaborn as sns\n",
    "from PIL import Image\n",
    "import skimage\n",
    "import skimage.io\n",
    "import os\n",
    "%matplotlib inline"
   ]
  },
  {
   "cell_type": "code",
   "execution_count": 2,
   "metadata": {},
   "outputs": [],
   "source": [
    "dev_info = pd.read_json('data/labelled_dev_info.json')\n",
    "eval_info = pd.read_json('data/labelled_eval_info.json')\n",
    "full_synth_df = pd.read_json('data/train_synth_df.json')\n",
    "audio_dir = '/Users/Mateo/Springboard/FSD50k/data/FSD50K.dev_audio/ '"
   ]
  },
  {
   "cell_type": "code",
   "execution_count": 3,
   "metadata": {
    "scrolled": false
   },
   "outputs": [
    {
     "data": {
      "text/html": [
       "<div>\n",
       "<style scoped>\n",
       "    .dataframe tbody tr th:only-of-type {\n",
       "        vertical-align: middle;\n",
       "    }\n",
       "\n",
       "    .dataframe tbody tr th {\n",
       "        vertical-align: top;\n",
       "    }\n",
       "\n",
       "    .dataframe thead th {\n",
       "        text-align: right;\n",
       "    }\n",
       "</style>\n",
       "<table border=\"1\" class=\"dataframe\">\n",
       "  <thead>\n",
       "    <tr style=\"text-align: right;\">\n",
       "      <th></th>\n",
       "      <th>title</th>\n",
       "      <th>description</th>\n",
       "      <th>tags</th>\n",
       "      <th>license</th>\n",
       "      <th>uploader</th>\n",
       "      <th>track_num</th>\n",
       "      <th>wav_name</th>\n",
       "      <th>png_name</th>\n",
       "      <th>labels_15</th>\n",
       "      <th>labels_2</th>\n",
       "      <th>labels_4</th>\n",
       "      <th>labels</th>\n",
       "    </tr>\n",
       "  </thead>\n",
       "  <tbody>\n",
       "    <tr>\n",
       "      <th>63</th>\n",
       "      <td>RalfHutterWorking.wav</td>\n",
       "      <td>Ralf Hutter from Kraftwerk saying \"Working on ...</td>\n",
       "      <td>[male, voice]</td>\n",
       "      <td>http://creativecommons.org/licenses/by/3.0/</td>\n",
       "      <td>fectoper</td>\n",
       "      <td>63</td>\n",
       "      <td>63.wav</td>\n",
       "      <td>63.png</td>\n",
       "      <td>0</td>\n",
       "      <td>0</td>\n",
       "      <td>0</td>\n",
       "      <td>0</td>\n",
       "    </tr>\n",
       "    <tr>\n",
       "      <th>136</th>\n",
       "      <td>keyboard-rhymtic.wav</td>\n",
       "      <td>Noise of an average logitech keyboard. Pretty ...</td>\n",
       "      <td>[keyboard, rhythmic, tap, type]</td>\n",
       "      <td>http://creativecommons.org/licenses/by/3.0/</td>\n",
       "      <td>Anton</td>\n",
       "      <td>136</td>\n",
       "      <td>136.wav</td>\n",
       "      <td>136.png</td>\n",
       "      <td>11</td>\n",
       "      <td>8</td>\n",
       "      <td>3</td>\n",
       "      <td>1</td>\n",
       "    </tr>\n",
       "  </tbody>\n",
       "</table>\n",
       "</div>"
      ],
      "text/plain": [
       "                     title                                        description  \\\n",
       "63   RalfHutterWorking.wav  Ralf Hutter from Kraftwerk saying \"Working on ...   \n",
       "136   keyboard-rhymtic.wav  Noise of an average logitech keyboard. Pretty ...   \n",
       "\n",
       "                                tags  \\\n",
       "63                     [male, voice]   \n",
       "136  [keyboard, rhythmic, tap, type]   \n",
       "\n",
       "                                         license  uploader  track_num  \\\n",
       "63   http://creativecommons.org/licenses/by/3.0/  fectoper         63   \n",
       "136  http://creativecommons.org/licenses/by/3.0/     Anton        136   \n",
       "\n",
       "    wav_name png_name  labels_15  labels_2  labels_4  labels  \n",
       "63    63.wav   63.png          0         0         0       0  \n",
       "136  136.wav  136.png         11         8         3       1  "
      ]
     },
     "execution_count": 3,
     "metadata": {},
     "output_type": "execute_result"
    }
   ],
   "source": [
    "dev_info.head(2)"
   ]
  },
  {
   "cell_type": "code",
   "execution_count": 4,
   "metadata": {},
   "outputs": [
    {
     "data": {
      "text/html": [
       "<div>\n",
       "<style scoped>\n",
       "    .dataframe tbody tr th:only-of-type {\n",
       "        vertical-align: middle;\n",
       "    }\n",
       "\n",
       "    .dataframe tbody tr th {\n",
       "        vertical-align: top;\n",
       "    }\n",
       "\n",
       "    .dataframe thead th {\n",
       "        text-align: right;\n",
       "    }\n",
       "</style>\n",
       "<table border=\"1\" class=\"dataframe\">\n",
       "  <thead>\n",
       "    <tr style=\"text-align: right;\">\n",
       "      <th></th>\n",
       "      <th>title</th>\n",
       "      <th>description</th>\n",
       "      <th>tags</th>\n",
       "      <th>license</th>\n",
       "      <th>uploader</th>\n",
       "      <th>track_num</th>\n",
       "      <th>wav_name</th>\n",
       "      <th>png_name</th>\n",
       "      <th>labels_15</th>\n",
       "      <th>labels_2</th>\n",
       "      <th>labels_4</th>\n",
       "      <th>labels</th>\n",
       "    </tr>\n",
       "  </thead>\n",
       "  <tbody>\n",
       "    <tr>\n",
       "      <th>391277</th>\n",
       "      <td>Spring Birds Forest 04 Amp.wav</td>\n",
       "      <td>An other birds singings recorded on the mornin...</td>\n",
       "      <td>[birdsong, bird, forest, environment, morning,...</td>\n",
       "      <td>http://creativecommons.org/publicdomain/zero/1.0/</td>\n",
       "      <td>ANARKYA</td>\n",
       "      <td>391277</td>\n",
       "      <td>391277.wav</td>\n",
       "      <td>391277.png</td>\n",
       "      <td>4</td>\n",
       "      <td>2</td>\n",
       "      <td>1</td>\n",
       "      <td>2</td>\n",
       "    </tr>\n",
       "    <tr>\n",
       "      <th>392115</th>\n",
       "      <td>Snap of fingers</td>\n",
       "      <td>a snap of one's fingers</td>\n",
       "      <td>[fingers, finger, 5maudio17, uam, fingersnap]</td>\n",
       "      <td>http://creativecommons.org/publicdomain/zero/1.0/</td>\n",
       "      <td>edton</td>\n",
       "      <td>392115</td>\n",
       "      <td>392115.wav</td>\n",
       "      <td>392115.png</td>\n",
       "      <td>6</td>\n",
       "      <td>8</td>\n",
       "      <td>3</td>\n",
       "      <td>1</td>\n",
       "    </tr>\n",
       "  </tbody>\n",
       "</table>\n",
       "</div>"
      ],
      "text/plain": [
       "                                 title  \\\n",
       "391277  Spring Birds Forest 04 Amp.wav   \n",
       "392115                 Snap of fingers   \n",
       "\n",
       "                                              description  \\\n",
       "391277  An other birds singings recorded on the mornin...   \n",
       "392115                            a snap of one's fingers   \n",
       "\n",
       "                                                     tags  \\\n",
       "391277  [birdsong, bird, forest, environment, morning,...   \n",
       "392115      [fingers, finger, 5maudio17, uam, fingersnap]   \n",
       "\n",
       "                                                  license uploader  track_num  \\\n",
       "391277  http://creativecommons.org/publicdomain/zero/1.0/  ANARKYA     391277   \n",
       "392115  http://creativecommons.org/publicdomain/zero/1.0/    edton     392115   \n",
       "\n",
       "          wav_name    png_name  labels_15  labels_2  labels_4  labels  \n",
       "391277  391277.wav  391277.png          4         2         1       2  \n",
       "392115  392115.wav  392115.png          6         8         3       1  "
      ]
     },
     "execution_count": 4,
     "metadata": {},
     "output_type": "execute_result"
    }
   ],
   "source": [
    "eval_info.head(2)"
   ]
  },
  {
   "cell_type": "code",
   "execution_count": 5,
   "metadata": {},
   "outputs": [
    {
     "data": {
      "text/html": [
       "<div>\n",
       "<style scoped>\n",
       "    .dataframe tbody tr th:only-of-type {\n",
       "        vertical-align: middle;\n",
       "    }\n",
       "\n",
       "    .dataframe tbody tr th {\n",
       "        vertical-align: top;\n",
       "    }\n",
       "\n",
       "    .dataframe thead th {\n",
       "        text-align: right;\n",
       "    }\n",
       "</style>\n",
       "<table border=\"1\" class=\"dataframe\">\n",
       "  <thead>\n",
       "    <tr style=\"text-align: right;\">\n",
       "      <th></th>\n",
       "      <th>track_num</th>\n",
       "      <th>labels</th>\n",
       "      <th>png_name</th>\n",
       "    </tr>\n",
       "  </thead>\n",
       "  <tbody>\n",
       "    <tr>\n",
       "      <th>0</th>\n",
       "      <td>305</td>\n",
       "      <td>2</td>\n",
       "      <td>305.png</td>\n",
       "    </tr>\n",
       "    <tr>\n",
       "      <th>1</th>\n",
       "      <td>344</td>\n",
       "      <td>2</td>\n",
       "      <td>344.png</td>\n",
       "    </tr>\n",
       "  </tbody>\n",
       "</table>\n",
       "</div>"
      ],
      "text/plain": [
       "   track_num  labels png_name\n",
       "0        305       2  305.png\n",
       "1        344       2  344.png"
      ]
     },
     "execution_count": 5,
     "metadata": {},
     "output_type": "execute_result"
    }
   ],
   "source": [
    "full_synth_df.head(2)"
   ]
  },
  {
   "cell_type": "markdown",
   "metadata": {},
   "source": [
    "# Metadata EDA\n",
    "- This dataset contains 50,000 audio files of a wide variety of audio events. The creators of the dataset are from the Universitat Pompeu Fabra and recommend utilizing the same train-test split as outlined in their research paper,  \"FSD50K: an Open Dataset of Human-Labeled Sound Events\", for comparable modeling,  resulting in a training set with appoximately 40,000 files and and a test set of approximately 10,000 files."
   ]
  },
  {
   "cell_type": "markdown",
   "metadata": {},
   "source": [
    "#### Shapes of  Datasets"
   ]
  },
  {
   "cell_type": "code",
   "execution_count": 6,
   "metadata": {},
   "outputs": [
    {
     "name": "stdout",
     "output_type": "stream",
     "text": [
      "Shape of Training dataset: (40966, 12)\n",
      "Shape of Testing dataset: (10231, 12)\n",
      "Shape of Training dataset after resampling: (40000, 3)\n"
     ]
    }
   ],
   "source": [
    "print(\"Shape of Training dataset:\", dev_info.shape)\n",
    "print(\"Shape of Testing dataset:\", eval_info.shape)\n",
    "print(\"Shape of Training dataset after resampling:\", full_synth_df.shape)\n"
   ]
  },
  {
   "cell_type": "markdown",
   "metadata": {},
   "source": [
    "#### First Rows of Metadata\n",
    "\n",
    "- Title, Description, and Tags columns contain metadata explaining the audio event. The Tags column will be the most useful for analyzing the entire dataset as the Tags are already in a list format that can be iterated through."
   ]
  },
  {
   "cell_type": "code",
   "execution_count": 7,
   "metadata": {
    "scrolled": true
   },
   "outputs": [
    {
     "name": "stdout",
     "output_type": "stream",
     "text": [
      "Metadata columns:\n"
     ]
    },
    {
     "data": {
      "text/html": [
       "<div>\n",
       "<style scoped>\n",
       "    .dataframe tbody tr th:only-of-type {\n",
       "        vertical-align: middle;\n",
       "    }\n",
       "\n",
       "    .dataframe tbody tr th {\n",
       "        vertical-align: top;\n",
       "    }\n",
       "\n",
       "    .dataframe thead th {\n",
       "        text-align: right;\n",
       "    }\n",
       "</style>\n",
       "<table border=\"1\" class=\"dataframe\">\n",
       "  <thead>\n",
       "    <tr style=\"text-align: right;\">\n",
       "      <th></th>\n",
       "      <th>title</th>\n",
       "      <th>description</th>\n",
       "      <th>tags</th>\n",
       "      <th>license</th>\n",
       "      <th>uploader</th>\n",
       "    </tr>\n",
       "  </thead>\n",
       "  <tbody>\n",
       "    <tr>\n",
       "      <th>63</th>\n",
       "      <td>RalfHutterWorking.wav</td>\n",
       "      <td>Ralf Hutter from Kraftwerk saying \"Working on ...</td>\n",
       "      <td>[male, voice]</td>\n",
       "      <td>http://creativecommons.org/licenses/by/3.0/</td>\n",
       "      <td>fectoper</td>\n",
       "    </tr>\n",
       "    <tr>\n",
       "      <th>136</th>\n",
       "      <td>keyboard-rhymtic.wav</td>\n",
       "      <td>Noise of an average logitech keyboard. Pretty ...</td>\n",
       "      <td>[keyboard, rhythmic, tap, type]</td>\n",
       "      <td>http://creativecommons.org/licenses/by/3.0/</td>\n",
       "      <td>Anton</td>\n",
       "    </tr>\n",
       "    <tr>\n",
       "      <th>137</th>\n",
       "      <td>keyboard-typing.wav</td>\n",
       "      <td>Noise of an average logitech keyboard. Pretty ...</td>\n",
       "      <td>[computer, environmental-sounds-research, key,...</td>\n",
       "      <td>http://creativecommons.org/licenses/by/3.0/</td>\n",
       "      <td>Anton</td>\n",
       "    </tr>\n",
       "    <tr>\n",
       "      <th>221</th>\n",
       "      <td>bell.wav</td>\n",
       "      <td>simple *ting* sound</td>\n",
       "      <td>[bell]</td>\n",
       "      <td>http://creativecommons.org/publicdomain/zero/1.0/</td>\n",
       "      <td>Erratic</td>\n",
       "    </tr>\n",
       "    <tr>\n",
       "      <th>236</th>\n",
       "      <td>BUSSES.aiff</td>\n",
       "      <td>Departing busses\\r\\n at Utrecht Central Railwa...</td>\n",
       "      <td>[bus, depart, drive, station]</td>\n",
       "      <td>http://creativecommons.org/licenses/by-nc/3.0/</td>\n",
       "      <td>hanstimm</td>\n",
       "    </tr>\n",
       "  </tbody>\n",
       "</table>\n",
       "</div>"
      ],
      "text/plain": [
       "                     title                                        description  \\\n",
       "63   RalfHutterWorking.wav  Ralf Hutter from Kraftwerk saying \"Working on ...   \n",
       "136   keyboard-rhymtic.wav  Noise of an average logitech keyboard. Pretty ...   \n",
       "137    keyboard-typing.wav  Noise of an average logitech keyboard. Pretty ...   \n",
       "221               bell.wav                                simple *ting* sound   \n",
       "236            BUSSES.aiff  Departing busses\\r\\n at Utrecht Central Railwa...   \n",
       "\n",
       "                                                  tags  \\\n",
       "63                                       [male, voice]   \n",
       "136                    [keyboard, rhythmic, tap, type]   \n",
       "137  [computer, environmental-sounds-research, key,...   \n",
       "221                                             [bell]   \n",
       "236                      [bus, depart, drive, station]   \n",
       "\n",
       "                                               license  uploader  \n",
       "63         http://creativecommons.org/licenses/by/3.0/  fectoper  \n",
       "136        http://creativecommons.org/licenses/by/3.0/     Anton  \n",
       "137        http://creativecommons.org/licenses/by/3.0/     Anton  \n",
       "221  http://creativecommons.org/publicdomain/zero/1.0/   Erratic  \n",
       "236     http://creativecommons.org/licenses/by-nc/3.0/  hanstimm  "
      ]
     },
     "execution_count": 7,
     "metadata": {},
     "output_type": "execute_result"
    }
   ],
   "source": [
    "print(\"Metadata columns:\")\n",
    "dev_info[['title','description','tags','license','uploader']].head()"
   ]
  },
  {
   "cell_type": "markdown",
   "metadata": {},
   "source": [
    "### Title and Description"
   ]
  },
  {
   "cell_type": "code",
   "execution_count": 8,
   "metadata": {
    "scrolled": true
   },
   "outputs": [
    {
     "data": {
      "text/html": [
       "<div>\n",
       "<style scoped>\n",
       "    .dataframe tbody tr th:only-of-type {\n",
       "        vertical-align: middle;\n",
       "    }\n",
       "\n",
       "    .dataframe tbody tr th {\n",
       "        vertical-align: top;\n",
       "    }\n",
       "\n",
       "    .dataframe thead th {\n",
       "        text-align: right;\n",
       "    }\n",
       "</style>\n",
       "<table border=\"1\" class=\"dataframe\">\n",
       "  <thead>\n",
       "    <tr style=\"text-align: right;\">\n",
       "      <th></th>\n",
       "      <th>title</th>\n",
       "      <th>description</th>\n",
       "    </tr>\n",
       "  </thead>\n",
       "  <tbody>\n",
       "    <tr>\n",
       "      <th>63</th>\n",
       "      <td>RalfHutterWorking.wav</td>\n",
       "      <td>Ralf Hutter from Kraftwerk saying \"Working on the technological side of our music\".</td>\n",
       "    </tr>\n",
       "    <tr>\n",
       "      <th>136</th>\n",
       "      <td>keyboard-rhymtic.wav</td>\n",
       "      <td>Noise of an average logitech keyboard. Pretty well recorded (close up), trying to be rhytmic when typing.</td>\n",
       "    </tr>\n",
       "    <tr>\n",
       "      <th>137</th>\n",
       "      <td>keyboard-typing.wav</td>\n",
       "      <td>Noise of an average logitech keyboard. Pretty well recorded (close up), normal style typing (faked though).</td>\n",
       "    </tr>\n",
       "    <tr>\n",
       "      <th>221</th>\n",
       "      <td>bell.wav</td>\n",
       "      <td>simple *ting* sound</td>\n",
       "    </tr>\n",
       "    <tr>\n",
       "      <th>236</th>\n",
       "      <td>BUSSES.aiff</td>\n",
       "      <td>Departing busses\\r\\n at Utrecht Central Railway station, recorded at the buss terminal.</td>\n",
       "    </tr>\n",
       "  </tbody>\n",
       "</table>\n",
       "</div>"
      ],
      "text/plain": [
       "                     title  \\\n",
       "63   RalfHutterWorking.wav   \n",
       "136   keyboard-rhymtic.wav   \n",
       "137    keyboard-typing.wav   \n",
       "221               bell.wav   \n",
       "236            BUSSES.aiff   \n",
       "\n",
       "                                                                                                      description  \n",
       "63                           Ralf Hutter from Kraftwerk saying \"Working on the technological side of our music\".   \n",
       "136     Noise of an average logitech keyboard. Pretty well recorded (close up), trying to be rhytmic when typing.  \n",
       "137  Noise of an average logitech keyboard. Pretty well recorded (close up), normal style typing (faked though).   \n",
       "221                                                                                           simple *ting* sound  \n",
       "236                       Departing busses\\r\\n at Utrecht Central Railway station, recorded at the buss terminal.  "
      ]
     },
     "execution_count": 8,
     "metadata": {},
     "output_type": "execute_result"
    }
   ],
   "source": [
    "pd.set_option('display.max_colwidth', None)\n",
    "\n",
    "dev_info[['title','description']].head()"
   ]
  },
  {
   "cell_type": "markdown",
   "metadata": {},
   "source": [
    "#### In the table above, the Title of the file contains some information about its contents.  The Description gives a lot more detail, but is more useful for its readibility than for feature extraction. When we develop our Class labels, we will use the Tags column, given that they are already parsed into a list. "
   ]
  },
  {
   "cell_type": "markdown",
   "metadata": {},
   "source": [
    "### Uploader Column"
   ]
  },
  {
   "cell_type": "code",
   "execution_count": 9,
   "metadata": {
    "scrolled": false
   },
   "outputs": [
    {
     "name": "stdout",
     "output_type": "stream",
     "text": [
      "Number of Unique Uploaders: 4947\n",
      "Number of Unique Uploaders: 2297\n",
      "Intersection of Uploaders between Training and Test datasets: 0\n"
     ]
    },
    {
     "data": {
      "image/png": "[encoded data removed]",
      "text/plain": [
       "<Figure size 1296x360 with 2 Axes>"
      ]
     },
     "metadata": {
      "needs_background": "light"
     },
     "output_type": "display_data"
    }
   ],
   "source": [
    "# Value Counts for Uploader Column\n",
    "plt.figure(figsize=(18,5))\n",
    "\n",
    "plt.subplot(1,2,1)\n",
    "print(\"Number of Unique Uploaders:\", dev_info.uploader.nunique())\n",
    "sns.barplot(y = dev_info.uploader.value_counts().iloc[:10].index, x = dev_info.uploader.value_counts().iloc[:10])\n",
    "plt.title('10 Highest Value Counts by Uploader (Training)')\n",
    "\n",
    "plt.subplot(1,2,2)\n",
    "print(\"Number of Unique Uploaders:\", eval_info.uploader.nunique())\n",
    "eval_info.uploader.value_counts().iloc[:10]\n",
    "sns.barplot(y = eval_info.uploader.value_counts().iloc[:10].index, x = eval_info.uploader.value_counts().iloc[:10])\n",
    "plt.title('10 Highest Value Counts by Uploader (Test)')\n",
    "\n",
    "print(\"Intersection of Uploaders between Training and Test datasets:\", len(set(eval_info.uploader).intersection(set(dev_info.uploader))))\n",
    "plt.show()\n"
   ]
  },
  {
   "cell_type": "markdown",
   "metadata": {},
   "source": [
    "#### In the visualizatons above, we can see there is a wide range between the number of files uploaded by the top ten most profilic Uploaders to this dataset. It is also noteworthy that between the approximately 5,000 and 2,000 unique Uploaders for training and test sets, they share no Uploaders in common. This removes any bias would have towards certain Uploaders, but it potentially introduces exogenous factors from audio with significantly different characteristics."
   ]
  },
  {
   "cell_type": "markdown",
   "metadata": {},
   "source": [
    "## License Types"
   ]
  },
  {
   "cell_type": "code",
   "execution_count": 10,
   "metadata": {
    "scrolled": false
   },
   "outputs": [
    {
     "name": "stdout",
     "output_type": "stream",
     "text": [
      "Number of Unique License Types: 4\n",
      "Number of Unique License Types: 4\n"
     ]
    },
    {
     "data": {
      "image/png": "[encoded data removed]",
      "text/plain": [
       "<Figure size 432x720 with 2 Axes>"
      ]
     },
     "metadata": {
      "needs_background": "light"
     },
     "output_type": "display_data"
    }
   ],
   "source": [
    "# Value Counts for License Column\n",
    "plt.figure(figsize=(6,10))\n",
    "\n",
    "plt.subplot(2,1,1)\n",
    "print(\"Number of Unique License Types:\", dev_info.license.nunique())\n",
    "sns.barplot(y = dev_info.license.value_counts().index, x = dev_info.license.value_counts())\n",
    "plt.title('Value Counts by License Type (Training)')\n",
    "\n",
    "\n",
    "plt.subplot(2,1,2)\n",
    "print(\"Number of Unique License Types:\", eval_info.license.nunique())\n",
    "sns.barplot(y = eval_info.license.value_counts().index, x = eval_info.license.value_counts())\n",
    "plt.title('Value Counts by License Type (Test)')\n",
    "plt.show()"
   ]
  },
  {
   "cell_type": "markdown",
   "metadata": {},
   "source": [
    "#### In the graphs above we can see that there are very similar distributions of the License type between our training and test data sets. However, with further analysis, there is no significant difference between these four License, all of which allow for reproduction and adaption under their creative  commons licensing."
   ]
  },
  {
   "cell_type": "markdown",
   "metadata": {},
   "source": [
    "## Audio Tags EDA\n",
    "- Here is a sample of the first 15 rows from the Tags column: \n"
   ]
  },
  {
   "cell_type": "code",
   "execution_count": 11,
   "metadata": {
    "scrolled": true
   },
   "outputs": [
    {
     "data": {
      "text/plain": [
       "63                                                                   [male, voice]\n",
       "136                                                [keyboard, rhythmic, tap, type]\n",
       "137    [computer, environmental-sounds-research, key, keyboard, tap, type, typing]\n",
       "221                                                                         [bell]\n",
       "236                                                  [bus, depart, drive, station]\n",
       "237                                                         [car, engine, passing]\n",
       "247                                                          [dutch, male, speech]\n",
       "263                                                             [children, crying]\n",
       "281                        [environmental-sounds-research, field-recording, train]\n",
       "283                              [crescendo, environmental-sounds-research, train]\n",
       "305                                                            [cat, purr, sneeze]\n",
       "334                                                  [anechoic, keys, metal, ring]\n",
       "344                                                   [bark, dog, field-recording]\n",
       "374                                    [door, environmental-sounds-research, lock]\n",
       "410                          [bass-drum, found-sound, household, kick, percussion]\n",
       "Name: tags, dtype: object"
      ]
     },
     "execution_count": 11,
     "metadata": {},
     "output_type": "execute_result"
    }
   ],
   "source": [
    "# here is a closer look at the tags column:\n",
    "\n",
    "dev_info.tags.iloc[:15]"
   ]
  },
  {
   "cell_type": "markdown",
   "metadata": {},
   "source": [
    "#### Above we can see that the number of tags per audio file varies. Let's look deeper at the number of tags per file in the Training dataset."
   ]
  },
  {
   "cell_type": "code",
   "execution_count": 12,
   "metadata": {
    "scrolled": true
   },
   "outputs": [
    {
     "data": {
      "image/png": "[encoded data removed]",
      "text/plain": [
       "<Figure size 432x288 with 1 Axes>"
      ]
     },
     "metadata": {
      "needs_background": "light"
     },
     "output_type": "display_data"
    }
   ],
   "source": [
    "tag_length_counter = {}\n",
    "\n",
    "for row in dev_info.tags:\n",
    "    num_tags = len(row)\n",
    "    if num_tags not in tag_length_counter:\n",
    "        tag_length_counter[num_tags] =1\n",
    "    else:\n",
    "        tag_length_counter[num_tags] += 1     \n",
    "\n",
    "tag_lengths_series = pd.Series(tag_length_counter).sort_values(ascending=False)\n",
    "\n",
    "sns.barplot(x=tag_lengths_series.loc[:20].index, y=tag_lengths_series.loc[:20])\n",
    "plt.title('Value Counts for # of Tags in Description')\n",
    "\n",
    "plt.show()"
   ]
  },
  {
   "cell_type": "markdown",
   "metadata": {},
   "source": [
    "#### Above we can see that the majority of files have been three and nine tags, but the distribution is pretty wide, with many having over twenty tags and some with as little as one tag. Next, let's investigate what the contents of these tags is."
   ]
  },
  {
   "cell_type": "code",
   "execution_count": 13,
   "metadata": {},
   "outputs": [
    {
     "name": "stdout",
     "output_type": "stream",
     "text": [
      "Number of unique tags in training set: 16309\n",
      "Number of unique tags in testing set: 10093\n"
     ]
    },
    {
     "ename": "NameError",
     "evalue": "name 'unique_tags' is not defined",
     "output_type": "error",
     "traceback": [
      "\u001b[0;31m---------------------------------------------------------------------------\u001b[0m",
      "\u001b[0;31mNameError\u001b[0m                                 Traceback (most recent call last)",
      "\u001b[0;32m<ipython-input-13-2798534403dd>\u001b[0m in \u001b[0;36m<module>\u001b[0;34m\u001b[0m\n\u001b[1;32m     19\u001b[0m \u001b[0mprint\u001b[0m\u001b[0;34m(\u001b[0m\u001b[0;34m\"Number of unique tags in testing set:\"\u001b[0m\u001b[0;34m,\u001b[0m \u001b[0mlen\u001b[0m\u001b[0;34m(\u001b[0m\u001b[0munique_eval_tags\u001b[0m\u001b[0;34m)\u001b[0m\u001b[0;34m)\u001b[0m\u001b[0;34m\u001b[0m\u001b[0;34m\u001b[0m\u001b[0m\n\u001b[1;32m     20\u001b[0m \u001b[0;34m\u001b[0m\u001b[0m\n\u001b[0;32m---> 21\u001b[0;31m \u001b[0mprint\u001b[0m\u001b[0;34m(\u001b[0m\u001b[0;34m\"Intersection of tags in train and test datasets:\"\u001b[0m\u001b[0;34m,\u001b[0m \u001b[0mlen\u001b[0m\u001b[0;34m(\u001b[0m\u001b[0mset\u001b[0m\u001b[0;34m(\u001b[0m\u001b[0munique_tags\u001b[0m\u001b[0;34m)\u001b[0m\u001b[0;34m.\u001b[0m\u001b[0mintersection\u001b[0m\u001b[0;34m(\u001b[0m\u001b[0mset\u001b[0m\u001b[0;34m(\u001b[0m\u001b[0munique_eval_tags\u001b[0m\u001b[0;34m)\u001b[0m\u001b[0;34m)\u001b[0m\u001b[0;34m)\u001b[0m\u001b[0;34m)\u001b[0m\u001b[0;34m\u001b[0m\u001b[0;34m\u001b[0m\u001b[0m\n\u001b[0m",
      "\u001b[0;31mNameError\u001b[0m: name 'unique_tags' is not defined"
     ]
    }
   ],
   "source": [
    "# Investigating how many unique tags there are.\n",
    "\n",
    "unique_dev_tags = []\n",
    "\n",
    "for tag_list in dev_info.tags:\n",
    "    for tag in tag_list:\n",
    "        if tag not in unique_dev_tags:\n",
    "            unique_dev_tags.append(tag)\n",
    "            \n",
    "print(\"Number of unique tags in training set:\", len(unique_dev_tags))         \n",
    "\n",
    "unique_eval_tags = []\n",
    "\n",
    "for tag_list in eval_info.tags:\n",
    "    for tag in tag_list:\n",
    "        if tag not in unique_eval_tags:\n",
    "            unique_eval_tags.append(tag)\n",
    "            \n",
    "print(\"Number of unique tags in testing set:\", len(unique_eval_tags))\n",
    "\n",
    "print(\"Intersection of tags in train and test datasets:\", len(set(unique_tags).intersection(set(unique_eval_tags))))\n"
   ]
  },
  {
   "cell_type": "markdown",
   "metadata": {},
   "source": [
    "- With over 16,000 unique Tags in the training set alone, there is not a feasible way to use just the Tags as our target feature. \n",
    "- In the Data Wrangling  notebook, we have created 8 categorical classes which the audio files have been binned into based on their Tag labels. \n",
    "- Before analyzing the Class labels we created, lets review what the most common Tags are."
   ]
  },
  {
   "cell_type": "code",
   "execution_count": null,
   "metadata": {},
   "outputs": [],
   "source": [
    "plt.figure(figsize=(14,6))\n",
    "\n",
    "# Checking Value Counts for Unique Tags in Training Data\n",
    "\n",
    "dict_dev_counter = {}\n",
    "\n",
    "for row in dev_info.tags:\n",
    "    for tag in row:\n",
    "        if tag not in dict_dev_counter:\n",
    "            dict_dev_counter[tag] =1\n",
    "        else:\n",
    "            dict_dev_counter[tag] += 1     \n",
    "            \n",
    "dev_tags_series = pd.Series(dict_dev_counter)\n",
    "dev_tags_series = dev_tags_series.sort_values(ascending=False)\n",
    "\n",
    "plt.subplot(1,2,1)\n",
    "sns.barplot(x=dev_tags_series.iloc[:20].index, y=dev_tags_series.iloc[:20])\n",
    "plt.title('Value Counts for Training Tags')\n",
    "plt.xticks(rotation=90)\n",
    "\n",
    "# Checking Value Counts for Unique Tags in Testing Data\n",
    "\n",
    "\n",
    "dict_eval_counter = {}\n",
    "\n",
    "for row in eval_info.tags:\n",
    "    for tag in row:\n",
    "        if tag not in dict_eval_counter:\n",
    "            dict_eval_counter[tag] =1\n",
    "        else:\n",
    "            dict_eval_counter[tag] += 1     \n",
    "            \n",
    "eval_tags_series = pd.Series(dict_eval_counter)\n",
    "eval_tags_series = eval_tags_series.sort_values(ascending=False)\n",
    "\n",
    "plt.subplot(1,2,2)\n",
    "sns.barplot(x=eval_tags_series.iloc[:20].index, y=eval_tags_series.iloc[:20])\n",
    "plt.title('Value Counts for Test Tags')\n",
    "plt.xticks(rotation=90)\n",
    "\n",
    "\n",
    "plt.show()"
   ]
  },
  {
   "cell_type": "markdown",
   "metadata": {},
   "source": [
    "#### In the graphs above we can see that there is little over lap between the most common Training and Test Tags. However, given the multi-labelled nature of the Tags, there is a greater intersection between their Class labels as we will see below."
   ]
  },
  {
   "cell_type": "markdown",
   "metadata": {},
   "source": [
    "### Class Labels EDA\n",
    "- In the Wrangling stage of this project, we engineered a feature to use as our target variable in our predictive model. We binned our 50,000 audio files into 8 distinct Classes grouping them based on the similiarly of their Tag descriptions."
   ]
  },
  {
   "cell_type": "code",
   "execution_count": null,
   "metadata": {},
   "outputs": [],
   "source": [
    "# Here is dictionary of the class labels and their corresponding numeric values:\n",
    "\n",
    "class_labels_dict= {0:'human',\n",
    "                    1:'noise',\n",
    "                    2:'animal',\n",
    "                    3:'music',\n",
    "                    4:'ambient',\n",
    "                    5:'alarm',\n",
    "                    6:'movement',\n",
    "                    7:'other'\n",
    "                    }\n",
    "\n",
    "# converting class labels from numeric to the string values:\n",
    "\n",
    "dev_labels =dev_info.labels.map(class_labels_dict)\n",
    "eval_labels =eval_info.labels.map(class_labels_dict)\n",
    "\n",
    "print(\"Number of unique clas labels:\", dev_labels.nunique())\n",
    "print(\"Class names:\", dev_labels.unique())"
   ]
  },
  {
   "cell_type": "markdown",
   "metadata": {},
   "source": [
    "### Value Counts of Class Labels"
   ]
  },
  {
   "cell_type": "code",
   "execution_count": null,
   "metadata": {
    "scrolled": true
   },
   "outputs": [],
   "source": [
    "plt.figure(figsize=(14, 4))\n",
    "\n",
    "plt.subplot(1,2,1)\n",
    "sns.barplot(x= dev_labels.value_counts().index, y=dev_labels.value_counts())\n",
    "plt.title('Value Counts by Class (Training Data)')\n",
    "\n",
    "\n",
    "plt.subplot(1,2,2)\n",
    "sns.barplot(x= eval_labels.value_counts().index, y=eval_labels.value_counts())\n",
    "plt.title('Value Counts by Class (Testing Data)')\n",
    "\n",
    "plt.show()"
   ]
  },
  {
   "cell_type": "markdown",
   "metadata": {},
   "source": [
    "#### In the graphs above we can see that there are imbalanced classes, we significantly more samples of \"noise\" and \"music\" and very few \"movement\", \"alarm\", and \"other\" sounds. For more accurate modeling predictions, we will Randomly Undersample our Majority Classes and create synthetic data by Randomly Oversampling the Minority Classes and adding Gaussian Noise with pitch augmentation."
   ]
  },
  {
   "cell_type": "code",
   "execution_count": null,
   "metadata": {
    "scrolled": false
   },
   "outputs": [],
   "source": [
    "# After Over and Under Sampling with Syntethic Data:\n",
    "\n",
    "full_synth_df.labels = full_synth_df.labels.map(class_labels_dict)\n",
    "\n",
    "sns.barplot(x= full_synth_df.labels.value_counts().index, y=full_synth_df.labels.value_counts())\n",
    "plt.title('Value Counts by Class (Training Data)')\n",
    "plt.show()\n",
    "print('Value Counts By Class:')\n",
    "full_synth_df.labels.value_counts()"
   ]
  },
  {
   "cell_type": "markdown",
   "metadata": {},
   "source": [
    "#### In the graph and table above, after Random Undersampling and Random Oversampling with Synthetic data, we now we have balanced classes in our training set, with 5,000 sample in each class."
   ]
  },
  {
   "cell_type": "markdown",
   "metadata": {},
   "source": [
    "## Raw Audio EDA"
   ]
  },
  {
   "cell_type": "markdown",
   "metadata": {},
   "source": [
    "#### Here are a few Audio Samples:"
   ]
  },
  {
   "cell_type": "code",
   "execution_count": null,
   "metadata": {},
   "outputs": [],
   "source": [
    "audio_dir = '/Users/Mateo/Springboard/FSD50k/data/FSD50K.dev_audio/'\n",
    "train_wav_names = dev_info.wav_name.to_list()"
   ]
  },
  {
   "cell_type": "code",
   "execution_count": null,
   "metadata": {},
   "outputs": [],
   "source": [
    "# Lets play the audio: \"a man speaking\"\n",
    "file_path = audio_dir + train_wav_names[0]\n",
    "ipd.Audio(file_path)\n",
    "# Audio: a man speaking"
   ]
  },
  {
   "cell_type": "code",
   "execution_count": null,
   "metadata": {},
   "outputs": [],
   "source": [
    "# Lets play the audio: \"a car accellerating\"\n",
    "file_path = audio_dir + train_wav_names[5]\n",
    "ipd.Audio(file_path)"
   ]
  },
  {
   "cell_type": "code",
   "execution_count": null,
   "metadata": {},
   "outputs": [],
   "source": [
    "# Lets play the audio: \"windchimes\"\n",
    "file_path = audio_dir + train_wav_names[75]\n",
    "ipd.Audio(file_path)"
   ]
  },
  {
   "cell_type": "code",
   "execution_count": null,
   "metadata": {
    "scrolled": true
   },
   "outputs": [],
   "source": [
    "# Lets play the audio: \"someone playing the violin\"\n",
    "file_path = audio_dir + train_wav_names[5000]\n",
    "ipd.Audio(file_path)"
   ]
  },
  {
   "cell_type": "code",
   "execution_count": null,
   "metadata": {
    "scrolled": true
   },
   "outputs": [],
   "source": [
    "file_path = audio_dir + train_wav_names[0]\n",
    "data, sr = librosa.load(file_path, res_type = 'kaiser_fast')\n",
    "print(\"Sample Rate of audio:\", sr)"
   ]
  },
  {
   "cell_type": "markdown",
   "metadata": {},
   "source": [
    "#### Note: all of the audio files in this dataset have a sample rate of 22,050 samples per second."
   ]
  },
  {
   "cell_type": "markdown",
   "metadata": {},
   "source": [
    "## Spectrogram EDA\n",
    "- The first method we will use for our machine learning classifier will be to train the model with Mel Frequency Sprectrograms. \n",
    "\n",
    "- Mel Frequency Spectrograms convert raw audio information into images, using the x-axis as time and the y-axis as an evenly spaced visualization of the human perceivable audiotory spectrum.\n",
    "\n",
    "- The number of Mel-Frequency bands to extract from the audio is open ended, but there are approximately 128 frequency ranges perceivable to human hearing, so for this analysis we will extract 128 Mel-Frequency bands.\n",
    "\n",
    "- The audio files in this dataset vary in length, from 1 second to 30 seconds. To feed this images into the Convolutional Neural Network, this images need to be of the same array shape, thus these audio files need to be of the same time duration. We will trim the end of longer audio files down to five seconds and randomly pad shorter audio files with silence up to five seconds.\n",
    "\n",
    "- Below is a visualization of Mel-Frequency Sprectrogram:"
   ]
  },
  {
   "cell_type": "code",
   "execution_count": null,
   "metadata": {
    "scrolled": false
   },
   "outputs": [],
   "source": [
    "# # Padding/Visualizing One File\n",
    "start = time.time()\n",
    "\n",
    "file_path = audio_dir + train_wav_names[0]\n",
    "data, sr = librosa.load(file_path, res_type = 'kaiser_fast') # almost 3 times faster than default: 'kaiser_best'\n",
    "\n",
    "#padding with random offset for shorter tracks\n",
    "\n",
    "input_length = 5 * 22050 # 5 seconds * 22050 samples per second (the sample_rate)\n",
    "\n",
    "if len(data) > input_length:\n",
    "    data = data[:input_length]\n",
    "\n",
    "elif input_length > len(data):\n",
    "    max_offset = input_length - len(data)\n",
    "    offset = np.random.randint(max_offset)\n",
    "    data = np.pad(data, (offset, input_length - len(data) - offset), \"constant\")\n",
    "\n",
    "\n",
    "# Fast Fourier Transform, a window for the results image\n",
    "n_fft = 2048\n",
    "# hop length slides the window (4:1 something er other?)\n",
    "hop_length = 512\n",
    "# converts audio spectrum into 128 evenly spaced groups based on human hearing\n",
    "n_mels = 128\n",
    "\n",
    "S = librosa.feature.melspectrogram(data, sr=sr, n_fft=n_fft, hop_length=hop_length, n_mels=n_mels)\n",
    "S_DB = librosa.power_to_db(S, ref=np.max)\n",
    "librosa.display.specshow(S_DB, sr=sr, hop_length=hop_length, x_axis='time', y_axis='mel');\n",
    "plt.colorbar(format='%+2.0f dB');\n",
    "plt.title('Spectrogram of Audio Wave')\n",
    "\n",
    "# Lets play the audio too\n",
    "print('shape of spectrogram matrix:', S_DB.shape)\n",
    "ipd.Audio(file_path)"
   ]
  },
  {
   "cell_type": "markdown",
   "metadata": {},
   "source": [
    "## MFC Spectrogram EDA:\n",
    "\n",
    "- The second method we will use to train our classifier will be to utilize MFC Spectrograms to train our model. This process takes the raw audio file and takes the \"spectrum-of-a-spectrum\", also known as a cepstrum, which further aggregrates the data, with time again on the x-axis and the Mel-Frequency Cepstrum values on the y-axis.\n",
    "\n",
    "\n",
    "- The number of Cesptrum bands is open ended as well. In speech analysis it is typical to extract 12-13 Cesptrum bands for Western languages and approximately 20 Cesptrum bands for Asiatic langauges. For our classifier, we are analyzing a wide spectrum of audio, such as fog horns, birds, and clarinets, thus we will extract 32 bands for a larger Cesptrum spectrum. \n",
    "\n",
    "\n",
    "- Again we will trim and pad this audio files to 5 seconds for images of equal size to feed into the neural network.\n",
    "\n",
    "\n",
    "- Below is a vizualization of a MFC Sprectrogram:"
   ]
  },
  {
   "cell_type": "code",
   "execution_count": null,
   "metadata": {
    "scrolled": false
   },
   "outputs": [],
   "source": [
    "start = time.time()\n",
    "\n",
    "file_path = audio_dir + list_of_wav_names[0]\n",
    "data, sr = librosa.load(file_path, res_type = 'kaiser_fast')\n",
    "\n",
    "#padding/trimming to 5 seconds with random offset for shorter tracks\n",
    "\n",
    "input_length = 5 * 22050\n",
    "\n",
    "if len(data) > input_length:\n",
    "    data = data[:input_length]\n",
    "\n",
    "elif input_length > len(data):\n",
    "    max_offset = input_length - len(data)\n",
    "    offset = np.random.randint(max_offset)\n",
    "    data = np.pad(data, (offset, input_length - len(data) - offset), \"constant\")\n",
    "\n",
    "# extracting mfcc features\n",
    "mfcc = librosa.feature.mfcc(y=data, sr=sr, n_mfcc=32)\n",
    "# mfccsscaled = np.mean(mfccs.T,axis=0)   # mean scaled MFCC, maybe use? consider other summary stats?\n",
    "    \n",
    "end = time.time()\n",
    "print(end - start)\n",
    "\n",
    "# Display MFCC\n",
    "librosa.display.specshow(mfcc, x_axis='time')\n",
    "plt.ylabel('MFCC Coefficient Bands')\n",
    "plt.title('MFCC Spectrogram')\n",
    "plt.yticks(range(0,34,2))\n",
    "plt.colorbar()\n",
    "\n",
    "# Lets play the audio too\n",
    "ipd.Audio(file_path)"
   ]
  },
  {
   "cell_type": "markdown",
   "metadata": {},
   "source": [
    "## Mean Mel-Frequency Cepstrum Coefficients EDA\n",
    "\n",
    "- The third method we will use to train our classifier will be to extract the mean values of each MFC coefficient band across the time interval. Thus our feature space will be reduced from a 32 x 216 matrix (bands x time intervals) to just an array of 32 features. \n",
    "\n",
    "\n",
    "- This reduced feature space will allow use to utilize other classifier models. For this analysis, we will train a 1-d Neural Network, a Random Forest, and standard Logisitic Regression models. \n",
    "\n",
    "\n",
    "- Below are a few graphs of Mean Mel-Frequency Cepstrum Coefficient values and their audio.\n",
    "\n",
    "(maybe a SVM too?)"
   ]
  },
  {
   "cell_type": "code",
   "execution_count": null,
   "metadata": {},
   "outputs": [],
   "source": [
    "# loading Training and Testing Data: Mean MFCC features\n",
    "    \n",
    "train_mfcc_mean = np.load('/Users/Mateo/Springboard/FSD50k/data/data/train_mean_mfcc.npz')['arr_0']\n",
    "test_mfcc_mean = np.load('/Users/Mateo/Springboard/FSD50k/data/data/test_mean_mfcc.npz')['arr_0']"
   ]
  },
  {
   "cell_type": "code",
   "execution_count": null,
   "metadata": {},
   "outputs": [],
   "source": [
    "# loading Training and Testing Data: Mean MFCC features\n",
    "    \n",
    "train_mfcc_mean = np.load('/Users/Mateo/Springboard/FSD50k/data/data/train_mean_mfcc.npz')['arr_0']\n",
    "test_mfcc_mean = np.load('/Users/Mateo/Springboard/FSD50k/data/data/test_mean_mfcc.npz')['arr_0']\n",
    "\n",
    "# Mean MFCC\n",
    "\n",
    "# these are the coefficients to train the classifier\n",
    "coef_bands = ['band_' + str(x) for x in range(1,33)]\n",
    "\n",
    "mean_mfcc_df = pd.DataFrame(train_mfcc_mean, columns= coef_bands)\n",
    "\n",
    "plt.figure(figsize=(14,4))\n",
    "sns.barplot(x=mean_mfcc_df.columns, y=mean_mfcc_df.iloc[0])\n",
    "plt.xticks(rotation=45)\n",
    "plt.xlabel('MF Cepstrum Coefficent Bands')\n",
    "plt.ylabel('Mean Values')\n",
    "plt.title('Mean Values of MFC Coefficients (man speaking)')\n",
    "plt.ylim(-50,50)\n",
    "\n",
    "plt.show()\n",
    "ipd.Audio(audio_dir + train_wav_names[0])"
   ]
  },
  {
   "cell_type": "code",
   "execution_count": null,
   "metadata": {},
   "outputs": [],
   "source": [
    "plt.figure(figsize=(14,4))\n",
    "sns.barplot(x=mean_mfcc_df.columns, y=mean_mfcc_df.iloc[15])\n",
    "plt.xticks(rotation=45)\n",
    "plt.xlabel('MF Cepstrum Coefficent Bands')\n",
    "plt.ylabel('Mean Values')\n",
    "plt.title('Mean Values of MFC Coefficients (crickets chirping/nature sounds)')\n",
    "plt.ylim(-50,50)\n",
    "\n",
    "plt.show()\n",
    "ipd.Audio(audio_dir + train_wav_names[15])"
   ]
  },
  {
   "cell_type": "markdown",
   "metadata": {},
   "source": [
    "### Next Step: Pre-Processing\n",
    "- In the next notebook, we will do some minor Pre-Processing. This will entail creating a Validation-Test split for hyperparamater tuning the Convolution Neural Networks."
   ]
  }
 ],
 "metadata": {
  "kernelspec": {
   "display_name": "Python 3",
   "language": "python",
   "name": "python3"
  },
  "language_info": {
   "codemirror_mode": {
    "name": "ipython",
    "version": 3
   },
   "file_extension": ".py",
   "mimetype": "text/x-python",
   "name": "python",
   "nbconvert_exporter": "python",
   "pygments_lexer": "ipython3",
   "version": "3.7.7"
  }
 },
 "nbformat": 4,
 "nbformat_minor": 4
}
