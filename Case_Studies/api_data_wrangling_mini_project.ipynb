{
 "cells": [
  {
   "cell_type": "markdown",
   "metadata": {},
   "source": [
    "This exercise will require you to pull some data from the Qunadl API. Qaundl is currently the most widely used aggregator of financial market data."
   ]
  },
  {
   "cell_type": "markdown",
   "metadata": {},
   "source": [
    "As a first step, you will need to register a free account on the http://www.quandl.com website."
   ]
  },
  {
   "cell_type": "markdown",
   "metadata": {},
   "source": [
    "After you register, you will be provided with a unique API key, that you should store:"
   ]
  },
  {
   "cell_type": "code",
   "execution_count": 76,
   "metadata": {},
   "outputs": [],
   "source": [
    "# Store the API key as a string - according to PEP8, constants are always named in all upper case\n",
    "\n",
    "Qunadl API Key \n",
    "API_KEY = 'my_key'"
   ]
  },
  {
   "cell_type": "markdown",
   "metadata": {},
   "source": [
    "Qaundl has a large number of data sources, but, unfortunately, most of them require a Premium subscription. Still, there are also a good number of free datasets."
   ]
  },
  {
   "cell_type": "markdown",
   "metadata": {},
   "source": [
    "For this mini project, we will focus on equities data from the Frankfurt Stock Exhange (FSE), which is available for free. We'll try and analyze the stock prices of a company called Carl Zeiss Meditec, which manufactures tools for eye examinations, as well as medical lasers for laser eye surgery: https://www.zeiss.com/meditec/int/home.html. The company is listed under the stock ticker AFX_X."
   ]
  },
  {
   "cell_type": "markdown",
   "metadata": {},
   "source": [
    "You can find the detailed Quandl API instructions here: https://docs.quandl.com/docs/time-series"
   ]
  },
  {
   "cell_type": "markdown",
   "metadata": {},
   "source": [
    "While there is a dedicated Python package for connecting to the Quandl API, we would prefer that you use the *requests* package, which can be easily downloaded using *pip* or *conda*. You can find the documentation for the package here: http://docs.python-requests.org/en/master/ "
   ]
  },
  {
   "cell_type": "markdown",
   "metadata": {},
   "source": [
    "Finally, apart from the *requests* package, you are encouraged to not use any third party Python packages, such as *pandas*, and instead focus on what's available in the Python Standard Library (the *collections* module might come in handy: https://pymotw.com/3/collections/ ).\n",
    "Also, since you won't have access to DataFrames, you are encouraged to us Python's native data structures - preferably dictionaries, though some questions can also be answered using lists.\n",
    "You can read more on these data structures here: https://docs.python.org/3/tutorial/datastructures.html"
   ]
  },
  {
   "cell_type": "markdown",
   "metadata": {},
   "source": [
    "Keep in mind that the JSON responses you will be getting from the API map almost one-to-one to Python's dictionaries. Unfortunately, they can be very nested, so make sure you read up on indexing dictionaries in the documentation provided above."
   ]
  },
  {
   "cell_type": "code",
   "execution_count": 77,
   "metadata": {},
   "outputs": [],
   "source": [
    "# First, import the relevant modules\n",
    "import requests\n",
    "import json\n"
   ]
  },
  {
   "cell_type": "code",
   "execution_count": 185,
   "metadata": {},
   "outputs": [],
   "source": [
    "# Now, call the Quandl API and pull out a small sample of the data (only one day) to get a glimpse\n",
    "# into the JSON structure that will be returned\n",
    "\n",
    "### Data from January 3, 2017 (there are no records for Jan 1st or 2nd)\n",
    "\n",
    "samp_r = requests.get(\"https://www.quandl.com/api/v3/datasets/FSE/AFX_X.json?column_index=4&start_date=2017-01-02&end_date=2017-01-02&api_key=not_your_key\")\n"
   ]
  },
  {
   "cell_type": "code",
   "execution_count": 186,
   "metadata": {
    "scrolled": true
   },
   "outputs": [
    {
     "name": "stdout",
     "output_type": "stream",
     "text": [
      "<class 'requests.models.Response'>\n",
      "<Response [200]>\n",
      "b'{\"dataset\":{\"id\":10095370,\"dataset_code\":\"AFX_X\",\"database_code\":\"FSE\",\"name\":\"Carl Zeiss Meditec (AFX_X)\",\"description\":\"Stock Prices for Carl Zeiss Meditec (2020-07-10) from the Frankfurt Stock Exchange.\\\\u003cbr\\\\u003e\\\\u003cbr\\\\u003eTrading System: Xetra\\\\u003cbr\\\\u003e\\\\u003cbr\\\\u003eISIN: DE0005313704\",\"refreshed_at\":\"2020-07-24T22:16:22.029Z\",\"newest_available_date\":\"2020-07-24\",\"oldest_available_date\":\"2000-06-07\",\"column_names\":[\"Date\",\"Close\"],\"frequency\":\"daily\",\"type\":\"Time Series\",\"premium\":false,\"limit\":null,\"transform\":null,\"column_index\":4,\"start_date\":\"2017-01-02\",\"end_date\":\"2017-01-02\",\"data\":[[\"2017-01-02\",35.8]],\"collapse\":null,\"order\":null,\"database_id\":6129}}'\n"
     ]
    }
   ],
   "source": [
    "# Inspect the JSON structure of the object you created, and take note of how nested it is,\n",
    "# as well as the overall structure\n",
    "print(type(samp_r))\n",
    "print(samp_r)\n",
    "print(samp_r.content)"
   ]
  },
  {
   "cell_type": "code",
   "execution_count": 187,
   "metadata": {},
   "outputs": [
    {
     "data": {
      "text/plain": [
       "{'dataset': {'id': 10095370,\n",
       "  'dataset_code': 'AFX_X',\n",
       "  'database_code': 'FSE',\n",
       "  'name': 'Carl Zeiss Meditec (AFX_X)',\n",
       "  'description': 'Stock Prices for Carl Zeiss Meditec (2020-07-10) from the Frankfurt Stock Exchange.<br><br>Trading System: Xetra<br><br>ISIN: DE0005313704',\n",
       "  'refreshed_at': '2020-07-24T22:16:22.029Z',\n",
       "  'newest_available_date': '2020-07-24',\n",
       "  'oldest_available_date': '2000-06-07',\n",
       "  'column_names': ['Date', 'Close'],\n",
       "  'frequency': 'daily',\n",
       "  'type': 'Time Series',\n",
       "  'premium': False,\n",
       "  'limit': None,\n",
       "  'transform': None,\n",
       "  'column_index': 4,\n",
       "  'start_date': '2017-01-02',\n",
       "  'end_date': '2017-01-02',\n",
       "  'data': [['2017-01-02', 35.8]],\n",
       "  'collapse': None,\n",
       "  'order': None,\n",
       "  'database_id': 6129}}"
      ]
     },
     "execution_count": 187,
     "metadata": {},
     "output_type": "execute_result"
    }
   ],
   "source": [
    "### Converting Requests Object to Python Dictionary\n",
    "\n",
    "samp_afx_dict = json.loads(samp_r.content)\n",
    "samp_afx_dict"
   ]
  },
  {
   "cell_type": "markdown",
   "metadata": {},
   "source": [
    "These are your tasks for this mini project:\n",
    "\n",
    "1. Collect data from the Franfurt Stock Exchange, for the ticker AFX_X, for the whole year 2017 (keep in mind that the date format is YYYY-MM-DD).\n",
    "2. Convert the returned JSON object into a Python dictionary.\n",
    "3. Calculate what the highest and lowest opening prices were for the stock in this period.\n",
    "4. What was the largest change in any one day (based on High and Low price)?\n",
    "5. What was the largest change between any two days (based on Closing Price)?\n",
    "6. What was the average daily trading volume during this year?\n",
    "7. (Optional) What was the median trading volume during this year. (Note: you may need to implement your own function for calculating the median.)\n",
    "_______________________________________________________________________________________"
   ]
  },
  {
   "cell_type": "markdown",
   "metadata": {},
   "source": [
    "1. Collect data from the Franfurt Stock Exchange, for the ticker AFX_X, for the whole year 2017 "
   ]
  },
  {
   "cell_type": "code",
   "execution_count": 158,
   "metadata": {
    "scrolled": true
   },
   "outputs": [
    {
     "name": "stdout",
     "output_type": "stream",
     "text": [
      "<Response [200]>\n"
     ]
    }
   ],
   "source": [
    "### Pulling daily data from Quandl API for Carl Zeiss Meditec(AFX_X) for the year 2017. \n",
    "\n",
    "r = requests.get(\"https://www.quandl.com/api/v3/datasets/FSE/AFX_X.json?column_index=4&start_date=2017-01-02&end_date=2017-12-31&collapse=daily&api_key=not_your_key\")\n",
    "print(r)"
   ]
  },
  {
   "cell_type": "markdown",
   "metadata": {},
   "source": [
    "2. Convert the returned JSON object into a Python dictionary."
   ]
  },
  {
   "cell_type": "code",
   "execution_count": 159,
   "metadata": {},
   "outputs": [
    {
     "data": {
      "text/plain": [
       "{'dataset': {'id': 10095370,\n",
       "  'dataset_code': 'AFX_X',\n",
       "  'database_code': 'FSE',\n",
       "  'name': 'Carl Zeiss Meditec (AFX_X)',\n",
       "  'description': 'Stock Prices for Carl Zeiss Meditec (2020-07-10) from the Frankfurt Stock Exchange.<br><br>Trading System: Xetra<br><br>ISIN: DE0005313704',\n",
       "  'refreshed_at': '2020-07-24T22:16:22.029Z',\n",
       "  'newest_available_date': '2020-07-24',\n",
       "  'oldest_available_date': '2000-06-07',\n",
       "  'column_names': ['Date', 'Close'],\n",
       "  'frequency': 'daily',\n",
       "  'type': 'Time Series',\n",
       "  'premium': False,\n",
       "  'limit': None,\n",
       "  'transform': None,\n",
       "  'column_index': 4,\n",
       "  'start_date': '2017-01-02',\n",
       "  'end_date': '2017-12-31',\n",
       "  'data': [['2017-12-29', 51.76],\n",
       "   ['2017-12-28', 51.6],\n",
       "   ['2017-12-27', 51.82],\n",
       "   ['2017-12-22', 51.32],\n",
       "   ['2017-12-21', 51.4],\n",
       "   ['2017-12-20', 51.27],\n",
       "   ['2017-12-19', 51.66],\n",
       "   ['2017-12-18', 52.62],\n",
       "   ['2017-12-15', 52.01],\n",
       "   ['2017-12-14', 52.67],\n",
       "   ['2017-12-13', 53.09],\n",
       "   ['2017-12-12', 52.43],\n",
       "   ['2017-12-11', 52.14],\n",
       "   ['2017-12-08', 52.12],\n",
       "   ['2017-12-07', 51.47],\n",
       "   ['2017-12-06', 50.89],\n",
       "   ['2017-12-05', 51.25],\n",
       "   ['2017-12-04', 51.14],\n",
       "   ['2017-12-01', 49.86],\n",
       "   ['2017-11-30', 49.7],\n",
       "   ['2017-11-29', 48.75],\n",
       "   ['2017-11-28', 49.25],\n",
       "   ['2017-11-27', 49.2],\n",
       "   ['2017-11-24', 49.11],\n",
       "   ['2017-11-23', 49.2],\n",
       "   ['2017-11-22', 48.8],\n",
       "   ['2017-11-21', 48.39],\n",
       "   ['2017-11-20', 47.04],\n",
       "   ['2017-11-17', 46.84],\n",
       "   ['2017-11-16', 47.03],\n",
       "   ['2017-11-15', 47.05],\n",
       "   ['2017-11-14', 48.0],\n",
       "   ['2017-11-13', 48.34],\n",
       "   ['2017-11-10', 48.34],\n",
       "   ['2017-11-09', 47.21],\n",
       "   ['2017-11-08', 47.47],\n",
       "   ['2017-11-07', 46.26],\n",
       "   ['2017-11-06', 45.99],\n",
       "   ['2017-11-03', 45.97],\n",
       "   ['2017-11-02', 45.27],\n",
       "   ['2017-11-01', 46.04],\n",
       "   ['2017-10-30', 45.76],\n",
       "   ['2017-10-27', 46.41],\n",
       "   ['2017-10-26', 45.41],\n",
       "   ['2017-10-25', 45.0],\n",
       "   ['2017-10-24', 44.85],\n",
       "   ['2017-10-23', 45.0],\n",
       "   ['2017-10-20', 44.87],\n",
       "   ['2017-10-19', 45.0],\n",
       "   ['2017-10-18', 45.77],\n",
       "   ['2017-10-17', 45.96],\n",
       "   ['2017-10-16', 45.55],\n",
       "   ['2017-10-13', 45.4],\n",
       "   ['2017-10-12', 45.43],\n",
       "   ['2017-10-11', 45.29],\n",
       "   ['2017-10-10', 45.84],\n",
       "   ['2017-10-09', 45.74],\n",
       "   ['2017-10-06', 46.0],\n",
       "   ['2017-10-05', 46.05],\n",
       "   ['2017-10-04', 46.11],\n",
       "   ['2017-10-02', 44.98],\n",
       "   ['2017-09-29', 44.17],\n",
       "   ['2017-09-28', 43.56],\n",
       "   ['2017-09-27', 42.04],\n",
       "   ['2017-09-26', 42.37],\n",
       "   ['2017-09-25', 42.07],\n",
       "   ['2017-09-22', 42.06],\n",
       "   ['2017-09-21', 41.46],\n",
       "   ['2017-09-20', 41.99],\n",
       "   ['2017-09-19', 42.44],\n",
       "   ['2017-09-18', 42.27],\n",
       "   ['2017-09-15', 42.42],\n",
       "   ['2017-09-14', 42.52],\n",
       "   ['2017-09-13', 42.45],\n",
       "   ['2017-09-12', 42.73],\n",
       "   ['2017-09-11', 42.85],\n",
       "   ['2017-09-08', 42.67],\n",
       "   ['2017-09-07', 42.77],\n",
       "   ['2017-09-06', 42.55],\n",
       "   ['2017-09-05', 42.62],\n",
       "   ['2017-09-04', 42.6],\n",
       "   ['2017-09-01', 42.41],\n",
       "   ['2017-08-31', 41.9],\n",
       "   ['2017-08-30', 41.94],\n",
       "   ['2017-08-29', 41.85],\n",
       "   ['2017-08-28', 41.91],\n",
       "   ['2017-08-25', 42.14],\n",
       "   ['2017-08-24', 42.69],\n",
       "   ['2017-08-23', 42.71],\n",
       "   ['2017-08-22', 42.71],\n",
       "   ['2017-08-21', 42.26],\n",
       "   ['2017-08-18', 42.41],\n",
       "   ['2017-08-17', 42.5],\n",
       "   ['2017-08-16', 42.05],\n",
       "   ['2017-08-15', 42.28],\n",
       "   ['2017-08-14', 42.3],\n",
       "   ['2017-08-11', 41.94],\n",
       "   ['2017-08-10', 41.68],\n",
       "   ['2017-08-09', 41.81],\n",
       "   ['2017-08-08', 44.37],\n",
       "   ['2017-08-07', 44.96],\n",
       "   ['2017-08-04', 45.07],\n",
       "   ['2017-08-03', 44.97],\n",
       "   ['2017-08-02', 45.56],\n",
       "   ['2017-08-01', 45.45],\n",
       "   ['2017-07-31', 45.3],\n",
       "   ['2017-07-28', 44.97],\n",
       "   ['2017-07-27', 45.25],\n",
       "   ['2017-07-26', 45.16],\n",
       "   ['2017-07-25', 44.82],\n",
       "   ['2017-07-24', 44.61],\n",
       "   ['2017-07-21', 45.44],\n",
       "   ['2017-07-20', 45.66],\n",
       "   ['2017-07-19', 45.57],\n",
       "   ['2017-07-18', 45.0],\n",
       "   ['2017-07-17', 45.6],\n",
       "   ['2017-07-14', 45.53],\n",
       "   ['2017-07-13', 44.95],\n",
       "   ['2017-07-12', 44.95],\n",
       "   ['2017-07-11', 44.2],\n",
       "   ['2017-07-10', 44.7],\n",
       "   ['2017-07-07', 44.53],\n",
       "   ['2017-07-06', 44.62],\n",
       "   ['2017-07-05', 45.19],\n",
       "   ['2017-07-04', 44.8],\n",
       "   ['2017-07-03', 45.75],\n",
       "   ['2017-06-30', 45.44],\n",
       "   ['2017-06-29', 45.2],\n",
       "   ['2017-06-28', 45.68],\n",
       "   ['2017-06-27', 46.83],\n",
       "   ['2017-06-26', 47.21],\n",
       "   ['2017-06-23', 46.99],\n",
       "   ['2017-06-22', 47.29],\n",
       "   ['2017-06-21', 46.99],\n",
       "   ['2017-06-20', 47.37],\n",
       "   ['2017-06-19', 46.64],\n",
       "   ['2017-06-16', 46.63],\n",
       "   ['2017-06-15', 45.67],\n",
       "   ['2017-06-14', 46.33],\n",
       "   ['2017-06-13', 46.32],\n",
       "   ['2017-06-12', 46.31],\n",
       "   ['2017-06-09', 47.44],\n",
       "   ['2017-06-08', 46.27],\n",
       "   ['2017-06-07', 47.43],\n",
       "   ['2017-06-06', 47.43],\n",
       "   ['2017-06-02', 46.99],\n",
       "   ['2017-06-01', 46.52],\n",
       "   ['2017-05-31', 45.86],\n",
       "   ['2017-05-30', 46.02],\n",
       "   ['2017-05-29', 45.32],\n",
       "   ['2017-05-26', 45.3],\n",
       "   ['2017-05-25', 44.78],\n",
       "   ['2017-05-24', 44.53],\n",
       "   ['2017-05-23', 43.9],\n",
       "   ['2017-05-22', 43.84],\n",
       "   ['2017-05-19', 44.12],\n",
       "   ['2017-05-18', 43.98],\n",
       "   ['2017-05-17', 44.19],\n",
       "   ['2017-05-16', 45.31],\n",
       "   ['2017-05-15', 45.14],\n",
       "   ['2017-05-12', 44.99],\n",
       "   ['2017-05-11', 45.0],\n",
       "   ['2017-05-10', 43.28],\n",
       "   ['2017-05-09', 43.3],\n",
       "   ['2017-05-08', 42.24],\n",
       "   ['2017-05-05', 42.75],\n",
       "   ['2017-05-04', 42.5],\n",
       "   ['2017-05-03', 41.9],\n",
       "   ['2017-05-02', 42.15],\n",
       "   ['2017-05-01', 41.72],\n",
       "   ['2017-04-28', 41.72],\n",
       "   ['2017-04-27', 42.16],\n",
       "   ['2017-04-26', 41.5],\n",
       "   ['2017-04-25', 41.89],\n",
       "   ['2017-04-24', 41.81],\n",
       "   ['2017-04-21', 41.32],\n",
       "   ['2017-04-20', 41.93],\n",
       "   ['2017-04-19', 42.61],\n",
       "   ['2017-04-18', 42.0],\n",
       "   ['2017-04-17', 42.2],\n",
       "   ['2017-04-14', 42.2],\n",
       "   ['2017-04-13', 42.2],\n",
       "   ['2017-04-12', 42.2],\n",
       "   ['2017-04-11', 41.75],\n",
       "   ['2017-04-10', 41.68],\n",
       "   ['2017-04-07', 41.42],\n",
       "   ['2017-04-06', 41.05],\n",
       "   ['2017-04-05', 41.1],\n",
       "   ['2017-04-04', 40.81],\n",
       "   ['2017-04-03', 39.64],\n",
       "   ['2017-03-31', 39.98],\n",
       "   ['2017-03-30', 39.75],\n",
       "   ['2017-03-29', 40.01],\n",
       "   ['2017-03-28', 39.22],\n",
       "   ['2017-03-27', 38.85],\n",
       "   ['2017-03-24', 38.94],\n",
       "   ['2017-03-23', 38.96],\n",
       "   ['2017-03-22', 38.94],\n",
       "   ['2017-03-21', 40.98],\n",
       "   ['2017-03-20', 41.97],\n",
       "   ['2017-03-17', 41.34],\n",
       "   ['2017-03-16', 41.46],\n",
       "   ['2017-03-15', 41.25],\n",
       "   ['2017-03-14', 41.3],\n",
       "   ['2017-03-13', 41.3],\n",
       "   ['2017-03-10', 41.4],\n",
       "   ['2017-03-09', 41.4],\n",
       "   ['2017-03-08', 41.68],\n",
       "   ['2017-03-07', 41.42],\n",
       "   ['2017-03-06', 41.4],\n",
       "   ['2017-03-03', 41.18],\n",
       "   ['2017-03-02', 41.17],\n",
       "   ['2017-03-01', 41.2],\n",
       "   ['2017-02-28', 40.84],\n",
       "   ['2017-02-27', 40.39],\n",
       "   ['2017-02-24', 39.74],\n",
       "   ['2017-02-23', 39.79],\n",
       "   ['2017-02-22', 39.7],\n",
       "   ['2017-02-21', 39.45],\n",
       "   ['2017-02-20', 38.98],\n",
       "   ['2017-02-17', 39.02],\n",
       "   ['2017-02-16', 38.71],\n",
       "   ['2017-02-15', 38.72],\n",
       "   ['2017-02-14', 38.37],\n",
       "   ['2017-02-13', 38.53],\n",
       "   ['2017-02-10', 37.06],\n",
       "   ['2017-02-09', 36.25],\n",
       "   ['2017-02-08', 36.05],\n",
       "   ['2017-02-07', 35.89],\n",
       "   ['2017-02-06', 35.64],\n",
       "   ['2017-02-03', 36.1],\n",
       "   ['2017-02-02', 36.07],\n",
       "   ['2017-02-01', 35.94],\n",
       "   ['2017-01-31', 34.56],\n",
       "   ['2017-01-30', 35.15],\n",
       "   ['2017-01-27', 35.3],\n",
       "   ['2017-01-26', 34.89],\n",
       "   ['2017-01-25', 34.83],\n",
       "   ['2017-01-24', 34.22],\n",
       "   ['2017-01-23', 34.06],\n",
       "   ['2017-01-20', 34.17],\n",
       "   ['2017-01-19', 34.5],\n",
       "   ['2017-01-18', 34.9],\n",
       "   ['2017-01-17', 34.99],\n",
       "   ['2017-01-16', 35.07],\n",
       "   ['2017-01-13', 34.85],\n",
       "   ['2017-01-12', 34.9],\n",
       "   ['2017-01-11', 35.42],\n",
       "   ['2017-01-10', 34.91],\n",
       "   ['2017-01-09', 34.67],\n",
       "   ['2017-01-06', 35.04],\n",
       "   ['2017-01-05', 35.06],\n",
       "   ['2017-01-04', 35.19],\n",
       "   ['2017-01-03', 35.48],\n",
       "   ['2017-01-02', 35.8]],\n",
       "  'collapse': 'daily',\n",
       "  'order': None,\n",
       "  'database_id': 6129}}"
      ]
     },
     "execution_count": 159,
     "metadata": {},
     "output_type": "execute_result"
    }
   ],
   "source": [
    "afx_dict = json.loads(r.content)\n",
    "afx_dict"
   ]
  },
  {
   "cell_type": "markdown",
   "metadata": {},
   "source": [
    "3. Calculate what the highest and lowest opening prices were for the stock in this period."
   ]
  },
  {
   "cell_type": "code",
   "execution_count": 160,
   "metadata": {},
   "outputs": [
    {
     "name": "stdout",
     "output_type": "stream",
     "text": [
      "Highest closing price: $53.09 on the date of 2017-12-13.\n",
      "Lowest closing price: $34.06 on the date of 2017-01-23.\n",
      "(Opening were prices not included in this dataset)\n"
     ]
    }
   ],
   "source": [
    "# Converting the data into a dictionary, rather than a list of lists.\n",
    "# Technically this data is only of closing prices, not opening prices \n",
    "# (and they are not interchangeable from my understanding)\n",
    "\n",
    "data_dict = {}\n",
    "for i in afx_dict['dataset']['data']:\n",
    "    data_dict[i[0]] = i[1]\n",
    "    \n",
    "#Finding Dates with highest and lowest opening prices    \n",
    "    \n",
    "date_high = max(data_dict, key=(lambda key: data_dict[key]))\n",
    "date_low = min(data_dict, key=(lambda key: data_dict[key]))\n",
    "\n",
    "print(f'Highest closing price: ${data_dict[date_high]} on the date of {date_high}.')\n",
    "print(f'Lowest closing price: ${data_dict[date_low]} on the date of {date_low}.')\n",
    "print('(Opening were prices not included in this dataset)')"
   ]
  },
  {
   "cell_type": "markdown",
   "metadata": {},
   "source": [
    "4. What was the largest change in any one day (based on High and Low price)?\n"
   ]
  },
  {
   "cell_type": "code",
   "execution_count": 161,
   "metadata": {
    "scrolled": true
   },
   "outputs": [
    {
     "name": "stdout",
     "output_type": "stream",
     "text": [
      "The stock had the largest one day change of the $2.5600 on the date: 2017-06-09.\n"
     ]
    }
   ],
   "source": [
    "# Unpacking data into two lists, one of dates and one of prices.\n",
    "\n",
    "dates = []\n",
    "prices = []\n",
    "\n",
    "for i in afx_dict['dataset']['data']:\n",
    "    dates.append(i[0])\n",
    "    prices.append(i[1])\n",
    "    \n",
    "# Creating a new list that stores the change in price. (appending 0 to account for no price change the first day)\n",
    "price_change = [0]\n",
    "\n",
    "for i in range(len(dates)-1):\n",
    "    change = prices[i + 1] - prices[i]\n",
    "    price_change.append(change)\n",
    "    \n",
    "# Finding Index of Greatest Change between Days    \n",
    "import operator\n",
    "index_max_change, max_change = max(enumerate(price_change), key=operator.itemgetter(1))\n",
    "\n",
    "print(f'The stock had the largest one day change of the ${max_change:.4f} on the date: {dates[max_index]}.')"
   ]
  },
  {
   "cell_type": "markdown",
   "metadata": {},
   "source": [
    "\n",
    "5. What was the largest change between any two days (based on Closing Price)?\n",
    "\n"
   ]
  },
  {
   "cell_type": "code",
   "execution_count": 154,
   "metadata": {},
   "outputs": [
    {
     "name": "stdout",
     "output_type": "stream",
     "text": [
      "The stock had the largest two day change of the $2.5600 on the date: 2017-08-08.\n"
     ]
    }
   ],
   "source": [
    "# Creating a list that will store the values of the change in price between two days.\n",
    "two_day_price_change = [0]\n",
    "\n",
    "for i in range(len(dates) -2):\n",
    "    change = prices[i + 2] - prices[i]\n",
    "    two_day_price_change.append(change)\n",
    "    \n",
    "# Finding Index of Greatest Change between Two Days    \n",
    "import operator\n",
    "idx_max_2day_change, max_2day_change = max(enumerate(price_change), key=operator.itemgetter(1))\n",
    "\n",
    "print(f'The stock had the largest two day change of the ${max_2day_change:.4f} on the date: {dates[idx_max_2day_change]}.')"
   ]
  },
  {
   "cell_type": "markdown",
   "metadata": {},
   "source": [
    "6. What was the average daily trading volume during this year?\n"
   ]
  },
  {
   "cell_type": "code",
   "execution_count": 167,
   "metadata": {},
   "outputs": [
    {
     "name": "stdout",
     "output_type": "stream",
     "text": [
      "Average(mean) Closing Price: $ 43.3641568627451\n"
     ]
    }
   ],
   "source": [
    "### This dataset does not include information about the volume of daily trading.\n",
    "### The dataset only have information on the daily closing price for the stock. \n",
    "\n",
    "# I can answer the average Closing Price for the year.\n",
    "from statistics import mean\n",
    "\n",
    "average_daily_closing_price = mean(prices)\n",
    "print(\"Average(mean) Closing Price: $\", average_daily_closing_price)"
   ]
  },
  {
   "cell_type": "markdown",
   "metadata": {},
   "source": [
    "7. (Optional) What was the median trading volume during this year. (Note: you may need to implement your own function for calculating the median.)"
   ]
  },
  {
   "cell_type": "code",
   "execution_count": 180,
   "metadata": {},
   "outputs": [
    {
     "name": "stdout",
     "output_type": "stream",
     "text": [
      "Median Closing Price: $ 43.28\n"
     ]
    }
   ],
   "source": [
    "### Calculating the Median Closing Price\n",
    "\n",
    "# from statistics import median\n",
    "# median_closing_price = median(prices)\n",
    "\n",
    "prices.sort()\n",
    "median_closing_price = prices[len(prices) // 2]\n",
    "print('Median Closing Price: $', median_closing_price)"
   ]
  }
 ],
 "metadata": {
  "kernelspec": {
   "display_name": "Python 3",
   "language": "python",
   "name": "python3"
  },
  "language_info": {
   "codemirror_mode": {
    "name": "ipython",
    "version": 3
   },
   "file_extension": ".py",
   "mimetype": "text/x-python",
   "name": "python",
   "nbconvert_exporter": "python",
   "pygments_lexer": "ipython3",
   "version": "3.7.7"
  }
 },
 "nbformat": 4,
 "nbformat_minor": 2
}
